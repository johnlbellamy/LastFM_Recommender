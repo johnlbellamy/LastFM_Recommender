{
 "cells": [
  {
   "cell_type": "code",
   "execution_count": 1,
   "metadata": {
    "tags": []
   },
   "outputs": [],
   "source": [
    "import pyspark\n",
    "import pandas as pd\n",
    "import numpy as np\n",
    "import matplotlib.pyplot as plt\n",
    "\n",
    "import pyspark\n",
    "from pyspark import SparkConf, SparkContext\n",
    "from pyspark.sql import SparkSession\n",
    "from pyspark.sql.types import (IntegerType, \n",
    "                               StringType, \n",
    "                               StructType, \n",
    "                               StructField)\n",
    "\n",
    "from tqdm.notebook import tqdm\n",
    "\n",
    "conf = SparkConf()"
   ]
  },
  {
   "cell_type": "code",
   "execution_count": 2,
   "metadata": {
    "tags": []
   },
   "outputs": [
    {
     "name": "stderr",
     "output_type": "stream",
     "text": [
      "23/02/24 02:41:04 WARN NativeCodeLoader: Unable to load native-hadoop library for your platform... using builtin-java classes where applicable\n",
      "Using Spark's default log4j profile: org/apache/spark/log4j-defaults.properties\n",
      "Setting default log level to \"WARN\".\n",
      "To adjust logging level use sc.setLogLevel(newLevel). For SparkR, use setLogLevel(newLevel).\n"
     ]
    }
   ],
   "source": [
    "# Kubernetes is a Spark master in my setup. \n",
    "# It creates pods with Spark workers, orchestrates those \n",
    "# workers and returns final results to the Spark driver \n",
    "# (“k8s://https://” is NOT a typo, this is how Spark knows the “provider” type). \n",
    "conf.setAppName(\"Last Descriptive Analysis\").setMaster(\"k8s://https://192.168.4.60:6443\") \n",
    "\n",
    "# Worker pods are created from the base Spark docker image.\n",
    "# If you use another image, specify its name instead.\n",
    "\n",
    "conf.set(\n",
    "    \"spark.kubernetes.container.image\", \n",
    "    \"johnb340/spark-executor:v1alpha\") \n",
    "\n",
    "\n",
    "conf.set(\n",
    "    \"spark.kubernetes.container.image.pullPolicy\", \n",
    "    \"IfNotPresent\") \n",
    "\n",
    "# Authentication certificate and token (required to create worker pods):\n",
    "conf.set(\n",
    "    \"spark.kubernetes.authenticate.caCertFile\", \n",
    "    \"/var/run/secrets/kubernetes.io/serviceaccount/ca.crt\")\n",
    "conf.set(\n",
    "    \"spark.kubernetes.authenticate.oauthTokenFile\", \n",
    "    \"/var/run/secrets/kubernetes.io/serviceaccount/token\")\n",
    "\n",
    "# Service account which should be used for the driver\n",
    "conf.set(\n",
    "    \"spark.kubernetes.authenticate.driver.serviceAccountName\", \n",
    "    \"spark-minion\") \n",
    "\n",
    "# 2 pods/workers will be created. Can be expanded for larger workloads.\n",
    "conf.set(\"spark.executor.instances\", \"5\") \n",
    "\n",
    "# The DNS alias for the Spark driver. Required by executors to report status.\n",
    "conf.set( \"spark.driver.host\", \"jupyter-spark-driver.default\")\n",
    "\n",
    "conf.set(\"spark.pyspark.driver.python\",\"jupyter\")\n",
    "\n",
    "conf.set(\"spark.pyspark.driver.python.opts\",\"notebook\")\n",
    "\n",
    "conf.set(\"spark.kubernetes.namespace\",\"default\")\n",
    "\n",
    "conf.set(\"spark.driver.port\", \"20020\")\n",
    "\n",
    "# Initialize spark context, create executors\n",
    "#sc = pyspark.SparkContext(conf=conf)\n",
    "\n",
    "\n",
    "sc = pyspark.SparkContext(conf=conf)"
   ]
  },
  {
   "cell_type": "code",
   "execution_count": null,
   "metadata": {
    "tags": []
   },
   "outputs": [],
   "source": []
  },
  {
   "cell_type": "code",
   "execution_count": 3,
   "metadata": {
    "tags": []
   },
   "outputs": [],
   "source": [
    "spark = SparkSession(sc)"
   ]
  },
  {
   "cell_type": "code",
   "execution_count": 4,
   "metadata": {
    "tags": []
   },
   "outputs": [],
   "source": [
    "path = \"usersha1-artmbid-artname-plays.tsv\""
   ]
  },
  {
   "cell_type": "code",
   "execution_count": 5,
   "metadata": {
    "tags": []
   },
   "outputs": [],
   "source": [
    "df = pd.read_csv(path, sep=\"\\t\", nrows=700000)"
   ]
  },
  {
   "cell_type": "code",
   "execution_count": 6,
   "metadata": {
    "tags": []
   },
   "outputs": [],
   "source": [
    "df_schema = StructType([StructField(\"user\", StringType(), True),\n",
    "                       StructField(\"auid\", StringType(), True),\n",
    "                       StructField(\"artist_name\", StringType(), True),\n",
    "                       StructField(\"listens\", IntegerType(), True)])"
   ]
  },
  {
   "cell_type": "code",
   "execution_count": 7,
   "metadata": {
    "tags": []
   },
   "outputs": [],
   "source": [
    "df = spark.createDataFrame(df, df_schema)"
   ]
  },
  {
   "cell_type": "code",
   "execution_count": 8,
   "metadata": {
    "tags": []
   },
   "outputs": [],
   "source": [
    "plays = df.rdd"
   ]
  },
  {
   "cell_type": "code",
   "execution_count": 9,
   "metadata": {
    "tags": []
   },
   "outputs": [
    {
     "name": "stderr",
     "output_type": "stream",
     "text": [
      "23/02/24 02:41:18 WARN TaskSetManager: Stage 0 contains a task of very large size (7825 KiB). The maximum recommended task size is 1000 KiB.\n",
      "                                                                                \r"
     ]
    },
    {
     "data": {
      "text/plain": [
       "[Row(user='00000c289a1829a808ac09c00daf10bc3c4e223b', auid='f2fb0ff0-5679-42ec-a55c-15109ce6e320', artist_name='die Ärzte', listens=1099),\n",
       " Row(user='00000c289a1829a808ac09c00daf10bc3c4e223b', auid='b3ae82c2-e60b-4551-a76d-6620f1b456aa', artist_name='melissa etheridge', listens=897),\n",
       " Row(user='00000c289a1829a808ac09c00daf10bc3c4e223b', auid='3d6bbeb7-f90e-4d10-b440-e153c0d10b53', artist_name='elvenking', listens=717),\n",
       " Row(user='00000c289a1829a808ac09c00daf10bc3c4e223b', auid='bbd2ffd7-17f4-4506-8572-c1ea58c3f9a8', artist_name='juliette & the licks', listens=706),\n",
       " Row(user='00000c289a1829a808ac09c00daf10bc3c4e223b', auid='8bfac288-ccc5-448d-9573-c33ea2aa5c30', artist_name='red hot chili peppers', listens=691)]"
      ]
     },
     "execution_count": 9,
     "metadata": {},
     "output_type": "execute_result"
    }
   ],
   "source": [
    "plays.take(5)"
   ]
  },
  {
   "cell_type": "code",
   "execution_count": 10,
   "metadata": {
    "collapsed": false,
    "deletable": true,
    "editable": true,
    "jupyter": {
     "outputs_hidden": false
    },
    "tags": []
   },
   "outputs": [
    {
     "data": {
      "text/plain": [
       "pyspark.rdd.RDD"
      ]
     },
     "execution_count": 10,
     "metadata": {},
     "output_type": "execute_result"
    }
   ],
   "source": [
    "type(plays)"
   ]
  },
  {
   "cell_type": "code",
   "execution_count": 11,
   "metadata": {
    "deletable": true,
    "editable": true,
    "tags": []
   },
   "outputs": [],
   "source": [
    "#we only want userid, artist_id  and number of plays; these are found in the following columns\n",
    "ratings_data_pertinent = plays.map(lambda x: (x[0], x[2],(x[3])))"
   ]
  },
  {
   "cell_type": "code",
   "execution_count": 12,
   "metadata": {
    "deletable": true,
    "editable": true,
    "tags": []
   },
   "outputs": [],
   "source": [
    "###BEGIN DATA Munging -- "
   ]
  },
  {
   "cell_type": "code",
   "execution_count": 13,
   "metadata": {
    "deletable": true,
    "editable": true,
    "tags": []
   },
   "outputs": [],
   "source": [
    "# Let's make a numerical id out of the encrypted user_id feature:\n",
    "#Note: it may be easier to just assign a new id, rather than using the encrypted user_id field.\n",
    "#However, this project is to demonstrate data cleaning as well as model development.\n",
    "#Furthermore, what if assigning a new id is  not desirable in a situation?\n",
    "#For better or worse, perhaps we will be creating a user_id we can use, the \"hard way,\"\n",
    "#The approache we take for the artist_id field could certainly be used and would be easier. \n",
    "#But, easier does not always equal better."
   ]
  },
  {
   "cell_type": "code",
   "execution_count": 14,
   "metadata": {
    "deletable": true,
    "editable": true,
    "tags": []
   },
   "outputs": [],
   "source": [
    "# Perhaps regex would be more efficient and easier, but I find dictionaries extremely useful when I need to replace words or\n",
    "# or remove words. It seems regex can  be more \"large-handed\" and clumsy. Dictionaries are very precise.\n",
    "#Im defining a  method here to replace the letters in the artist MD5-SHA with numbers:\n",
    "import string\n",
    "\n",
    "def numerizer(word):\n",
    "    translation = str.maketrans(\"\",\"\", string.punctuation)\n",
    "    new_word = word.translate(translation)\n",
    "    new_word_lower = new_word.lower()\n",
    "    return new_word_lower.strip(\" \")\n",
    "\n",
    "def md5_replace(word,_dict):\n",
    "    i = list(_dict.keys())\n",
    "    j = list(_dict.values())\n",
    "    k = len(j)-1\n",
    "    _word = numerizer(word)\n",
    "    while k >= 0:\n",
    "        _word1 = str.replace(_word, i[k], j[k])\n",
    "        _word =_word1  \n",
    "        k-= 1\n",
    "    return _word1\n"
   ]
  },
  {
   "cell_type": "code",
   "execution_count": 15,
   "metadata": {
    "deletable": true,
    "editable": true,
    "tags": []
   },
   "outputs": [],
   "source": [
    "alpha_dict = {\"a\":\"1\", \"b\":\"2\",\"c\":\"3\",\"d\":\"4\", \"e\":\"5\",\"f\":\"6\",\"g\":\"7\",\n",
    "              \"h\":\"8\",\"i\":\"9\",\"j\":\"10\",\"k\":\"11\",\"l\":\"12\",\"m\":\"13\",\"n\":\"14\",\"o\":\"15\",\n",
    "                  \"p\":\"16\",\"q\":\"17\",\"r\":\"18\", \"s\":\"19\",\"t\":\"20\",\"u\":\"21\",\"v\":\"22\",\"w\":\"23\",\"x\":\"24\",\n",
    "                  \"y\":\"25\",\"z\":\"26\",\" \":\"0\", \"ä\":\"27\",\"ö\":\"28\"}"
   ]
  },
  {
   "cell_type": "code",
   "execution_count": 16,
   "metadata": {
    "deletable": true,
    "editable": true,
    "tags": []
   },
   "outputs": [],
   "source": [
    "# Get rid of leading zeroes which will be problematic and apply alpha character function\n",
    "numeric_uid = ratings_data_pertinent.map(lambda x: md5_replace(x[0], alpha_dict)).map(lambda line: line.lstrip(\"0\"))"
   ]
  },
  {
   "cell_type": "code",
   "execution_count": 17,
   "metadata": {
    "collapsed": false,
    "deletable": true,
    "editable": true,
    "jupyter": {
     "outputs_hidden": false
    },
    "tags": []
   },
   "outputs": [
    {
     "name": "stderr",
     "output_type": "stream",
     "text": [
      "23/02/24 02:41:25 WARN TaskSetManager: Stage 1 contains a task of very large size (7825 KiB). The maximum recommended task size is 1000 KiB.\n",
      "                                                                                \r"
     ]
    },
    {
     "data": {
      "text/plain": [
       "['32891182918081309300416102333452232',\n",
       " '32891182918081309300416102333452232',\n",
       " '32891182918081309300416102333452232',\n",
       " '32891182918081309300416102333452232',\n",
       " '32891182918081309300416102333452232']"
      ]
     },
     "execution_count": 17,
     "metadata": {},
     "output_type": "execute_result"
    }
   ],
   "source": [
    "#We can see below that we have a numeric uid now. This user has the first 49 entries. However, we need to cut down \n",
    "# The size of this number; alot!\n",
    "numeric_uid.take(5)"
   ]
  },
  {
   "cell_type": "code",
   "execution_count": 18,
   "metadata": {
    "deletable": true,
    "editable": true,
    "tags": []
   },
   "outputs": [],
   "source": [
    "def shrinker(num):\n",
    "    places = len(num)-9\n",
    " \n",
    "    if places > 0:\n",
    "        zeroes = places \n",
    "      \n",
    "        cutter = \"1\"\n",
    "        for x in range(zeroes):\n",
    "             cutter+=str(0)\n",
    "        return str(round(int(num)/float(cutter)))\n",
    "\n",
    "    else:\n",
    "        return num\n",
    "    "
   ]
  },
  {
   "cell_type": "code",
   "execution_count": 19,
   "metadata": {
    "deletable": true,
    "editable": true,
    "tags": []
   },
   "outputs": [],
   "source": [
    "numeric_uid = numeric_uid.map(lambda x : shrinker(x))"
   ]
  },
  {
   "cell_type": "code",
   "execution_count": 20,
   "metadata": {
    "collapsed": false,
    "deletable": true,
    "editable": true,
    "jupyter": {
     "outputs_hidden": false
    },
    "tags": []
   },
   "outputs": [
    {
     "name": "stderr",
     "output_type": "stream",
     "text": [
      "23/02/24 02:41:30 WARN TaskSetManager: Stage 2 contains a task of very large size (7825 KiB). The maximum recommended task size is 1000 KiB.\n",
      "                                                                                \r"
     ]
    },
    {
     "data": {
      "text/plain": [
       "['328911829',\n",
       " '328911829',\n",
       " '328911829',\n",
       " '328911829',\n",
       " '328911829',\n",
       " '328911829',\n",
       " '328911829',\n",
       " '328911829',\n",
       " '328911829',\n",
       " '328911829']"
      ]
     },
     "execution_count": 20,
     "metadata": {},
     "output_type": "execute_result"
    }
   ],
   "source": [
    "numeric_uid.take(10)"
   ]
  },
  {
   "cell_type": "code",
   "execution_count": 21,
   "metadata": {
    "collapsed": false,
    "deletable": true,
    "editable": true,
    "jupyter": {
     "outputs_hidden": false
    },
    "tags": []
   },
   "outputs": [
    {
     "name": "stderr",
     "output_type": "stream",
     "text": [
      "23/02/24 02:41:34 WARN TaskSetManager: Stage 3 contains a task of very large size (7825 KiB). The maximum recommended task size is 1000 KiB.\n",
      "                                                                                \r"
     ]
    }
   ],
   "source": [
    "#we need to keep track of index\n",
    "numeric_uid_ = numeric_uid.zipWithIndex()"
   ]
  },
  {
   "cell_type": "code",
   "execution_count": 22,
   "metadata": {
    "collapsed": false,
    "deletable": true,
    "editable": true,
    "jupyter": {
     "outputs_hidden": false
    },
    "tags": []
   },
   "outputs": [
    {
     "name": "stderr",
     "output_type": "stream",
     "text": [
      "23/02/24 02:41:44 WARN TaskSetManager: Stage 4 contains a task of very large size (7825 KiB). The maximum recommended task size is 1000 KiB.\n",
      "                                                                                \r"
     ]
    },
    {
     "data": {
      "text/plain": [
       "[('328911829', 0),\n",
       " ('328911829', 1),\n",
       " ('328911829', 2),\n",
       " ('328911829', 3),\n",
       " ('328911829', 4)]"
      ]
     },
     "execution_count": 22,
     "metadata": {},
     "output_type": "execute_result"
    }
   ],
   "source": [
    "numeric_uid_.take(5)"
   ]
  },
  {
   "cell_type": "code",
   "execution_count": 23,
   "metadata": {
    "collapsed": false,
    "deletable": true,
    "editable": true,
    "jupyter": {
     "outputs_hidden": false
    },
    "tags": []
   },
   "outputs": [],
   "source": [
    "numeric_uid_ = numeric_uid_.map(lambda x : (x[1],x[0]))"
   ]
  },
  {
   "cell_type": "code",
   "execution_count": 24,
   "metadata": {
    "collapsed": false,
    "deletable": true,
    "editable": true,
    "jupyter": {
     "outputs_hidden": false
    },
    "tags": []
   },
   "outputs": [
    {
     "name": "stderr",
     "output_type": "stream",
     "text": [
      "23/02/24 02:41:46 WARN TaskSetManager: Stage 5 contains a task of very large size (7825 KiB). The maximum recommended task size is 1000 KiB.\n",
      "                                                                                \r"
     ]
    },
    {
     "data": {
      "text/plain": [
       "[(0, '328911829'),\n",
       " (1, '328911829'),\n",
       " (2, '328911829'),\n",
       " (3, '328911829'),\n",
       " (4, '328911829')]"
      ]
     },
     "execution_count": 24,
     "metadata": {},
     "output_type": "execute_result"
    }
   ],
   "source": [
    "numeric_uid_.take(5)"
   ]
  },
  {
   "cell_type": "code",
   "execution_count": 25,
   "metadata": {
    "deletable": true,
    "editable": true,
    "tags": []
   },
   "outputs": [],
   "source": [
    "#To get all of the artists we will use groupby. Then we can assign a number to each of the unique artists\n",
    "artist_name = ratings_data_pertinent.map(lambda x: (x[1])).distinct()"
   ]
  },
  {
   "cell_type": "code",
   "execution_count": 26,
   "metadata": {
    "collapsed": false,
    "deletable": true,
    "editable": true,
    "jupyter": {
     "outputs_hidden": false
    },
    "tags": []
   },
   "outputs": [
    {
     "name": "stderr",
     "output_type": "stream",
     "text": [
      "23/02/24 02:41:49 WARN TaskSetManager: Stage 6 contains a task of very large size (7825 KiB). The maximum recommended task size is 1000 KiB.\n",
      "                                                                                \r"
     ]
    },
    {
     "data": {
      "text/plain": [
       "['ｔhe gazette', 'ｃｈａｒｉｏｔｓ', 'ｂｏｏｇｉｅｍａｎ', 'ａｔｔｉｃ', 'ＹＵＩ']"
      ]
     },
     "execution_count": 26,
     "metadata": {},
     "output_type": "execute_result"
    }
   ],
   "source": [
    "artist_name.top(5)"
   ]
  },
  {
   "cell_type": "code",
   "execution_count": 27,
   "metadata": {
    "collapsed": false,
    "deletable": true,
    "editable": true,
    "jupyter": {
     "outputs_hidden": false
    },
    "tags": []
   },
   "outputs": [
    {
     "data": {
      "text/plain": [
       "67554"
      ]
     },
     "execution_count": 27,
     "metadata": {},
     "output_type": "execute_result"
    }
   ],
   "source": [
    "#Make sure we still have all the artists\n",
    "artist_name.count()"
   ]
  },
  {
   "cell_type": "code",
   "execution_count": 28,
   "metadata": {
    "deletable": true,
    "editable": true,
    "tags": []
   },
   "outputs": [],
   "source": [
    "#Now we can add a unique id for each artist name\n",
    "artist_index=sc.parallelize(range(1,67554))"
   ]
  },
  {
   "cell_type": "code",
   "execution_count": 29,
   "metadata": {
    "collapsed": false,
    "deletable": true,
    "editable": true,
    "jupyter": {
     "outputs_hidden": false
    },
    "tags": []
   },
   "outputs": [],
   "source": [
    "artist_index = artist_index.zipWithIndex()\n",
    "artist_name = artist_name.zipWithIndex()"
   ]
  },
  {
   "cell_type": "code",
   "execution_count": 30,
   "metadata": {
    "deletable": true,
    "editable": true,
    "tags": []
   },
   "outputs": [],
   "source": [
    "artist_index = artist_index.map(lambda x: (x[1],x[0]))\n",
    "artist_name = artist_name.map(lambda x: (x[1],x[0]))"
   ]
  },
  {
   "cell_type": "code",
   "execution_count": 31,
   "metadata": {
    "collapsed": false,
    "deletable": true,
    "editable": true,
    "jupyter": {
     "outputs_hidden": false
    },
    "tags": []
   },
   "outputs": [
    {
     "data": {
      "text/plain": [
       "[(0, 'the clash'),\n",
       " (1, 'lao che'),\n",
       " (2, 'julian cope'),\n",
       " (3, 'eläkeläiset'),\n",
       " (4, 'mamady keita')]"
      ]
     },
     "execution_count": 31,
     "metadata": {},
     "output_type": "execute_result"
    }
   ],
   "source": [
    "artist_name.take(5)"
   ]
  },
  {
   "cell_type": "code",
   "execution_count": 32,
   "metadata": {
    "collapsed": false,
    "deletable": true,
    "editable": true,
    "jupyter": {
     "outputs_hidden": false
    },
    "tags": []
   },
   "outputs": [],
   "source": [
    "#numeric_aid_indexed = numeric_aid_index.zip(numeric_aid_)\n",
    "aid_indexed = artist_index.join(artist_name)"
   ]
  },
  {
   "cell_type": "code",
   "execution_count": 33,
   "metadata": {
    "collapsed": false,
    "deletable": true,
    "editable": true,
    "jupyter": {
     "outputs_hidden": false
    },
    "tags": []
   },
   "outputs": [
    {
     "data": {
      "text/plain": [
       "[(67552, (67553, 'bloke')),\n",
       " (67551, (67552, 'dolores o´riordan')),\n",
       " (67550, (67551, 'acroma')),\n",
       " (67549, (67550, 'marcel türkowsky')),\n",
       " (67548, (67549, 'e*rock'))]"
      ]
     },
     "execution_count": 33,
     "metadata": {},
     "output_type": "execute_result"
    }
   ],
   "source": [
    "aid_indexed.top(5)"
   ]
  },
  {
   "cell_type": "code",
   "execution_count": 34,
   "metadata": {
    "collapsed": false,
    "deletable": true,
    "editable": true,
    "jupyter": {
     "outputs_hidden": false
    },
    "tags": []
   },
   "outputs": [],
   "source": [
    "aid_indexed = aid_indexed.map(lambda x: (x[1][1],x[0]))"
   ]
  },
  {
   "cell_type": "code",
   "execution_count": 35,
   "metadata": {
    "collapsed": false,
    "deletable": true,
    "editable": true,
    "jupyter": {
     "outputs_hidden": false
    },
    "tags": []
   },
   "outputs": [
    {
     "data": {
      "text/plain": [
       "[('ｔhe gazette', 21103),\n",
       " ('ｃｈａｒｉｏｔｓ', 50645),\n",
       " ('ｂｏｏｇｉｅｍａｎ', 37987),\n",
       " ('ａｔｔｉｃ', 62845),\n",
       " ('ＹＵＩ', 53211)]"
      ]
     },
     "execution_count": 35,
     "metadata": {},
     "output_type": "execute_result"
    }
   ],
   "source": [
    "aid_indexed.top(5)"
   ]
  },
  {
   "cell_type": "code",
   "execution_count": 36,
   "metadata": {
    "deletable": true,
    "editable": true,
    "tags": []
   },
   "outputs": [],
   "source": [
    "artist_titles = ratings_data_pertinent.map(lambda x:(x[1]))"
   ]
  },
  {
   "cell_type": "code",
   "execution_count": 37,
   "metadata": {
    "collapsed": false,
    "deletable": true,
    "editable": true,
    "jupyter": {
     "outputs_hidden": false
    },
    "tags": []
   },
   "outputs": [
    {
     "name": "stderr",
     "output_type": "stream",
     "text": [
      "23/02/24 02:42:00 WARN TaskSetManager: Stage 21 contains a task of very large size (7825 KiB). The maximum recommended task size is 1000 KiB.\n",
      "                                                                                \r"
     ]
    },
    {
     "data": {
      "text/plain": [
       "['die Ärzte',\n",
       " 'melissa etheridge',\n",
       " 'elvenking',\n",
       " 'juliette & the licks',\n",
       " 'red hot chili peppers']"
      ]
     },
     "execution_count": 37,
     "metadata": {},
     "output_type": "execute_result"
    }
   ],
   "source": [
    "artist_titles.take(5)"
   ]
  },
  {
   "cell_type": "code",
   "execution_count": 38,
   "metadata": {
    "collapsed": false,
    "deletable": true,
    "editable": true,
    "jupyter": {
     "outputs_hidden": false
    },
    "tags": []
   },
   "outputs": [],
   "source": [
    "#To use the index as a sort of lookup table, we need to estabilish a common index\n",
    "artists_ = artist_titles.keyBy(lambda r : r)\n",
    "index_ = aid_indexed.keyBy(lambda r: r[0])"
   ]
  },
  {
   "cell_type": "code",
   "execution_count": 39,
   "metadata": {
    "collapsed": false,
    "deletable": true,
    "editable": true,
    "jupyter": {
     "outputs_hidden": false
    },
    "tags": []
   },
   "outputs": [
    {
     "name": "stderr",
     "output_type": "stream",
     "text": [
      "23/02/24 02:42:02 WARN TaskSetManager: Stage 22 contains a task of very large size (7825 KiB). The maximum recommended task size is 1000 KiB.\n",
      "                                                                                \r"
     ]
    },
    {
     "data": {
      "text/plain": [
       "[('die Ärzte', 'die Ärzte'),\n",
       " ('melissa etheridge', 'melissa etheridge'),\n",
       " ('elvenking', 'elvenking'),\n",
       " ('juliette & the licks', 'juliette & the licks'),\n",
       " ('red hot chili peppers', 'red hot chili peppers')]"
      ]
     },
     "execution_count": 39,
     "metadata": {},
     "output_type": "execute_result"
    }
   ],
   "source": [
    "artists_.take(5)"
   ]
  },
  {
   "cell_type": "code",
   "execution_count": 40,
   "metadata": {
    "collapsed": false,
    "deletable": true,
    "editable": true,
    "jupyter": {
     "outputs_hidden": false
    },
    "tags": []
   },
   "outputs": [
    {
     "data": {
      "text/plain": [
       "[('detektivbyrån', ('detektivbyrån', 54050)),\n",
       " ('matt & kim', ('matt & kim', 54060)),\n",
       " ('the residents', ('the residents', 54070)),\n",
       " ('cheek', ('cheek', 54080)),\n",
       " ('my chemical romance', ('my chemical romance', 54090))]"
      ]
     },
     "execution_count": 40,
     "metadata": {},
     "output_type": "execute_result"
    }
   ],
   "source": [
    "index_.take(5)"
   ]
  },
  {
   "cell_type": "code",
   "execution_count": 41,
   "metadata": {
    "deletable": true,
    "editable": true,
    "tags": []
   },
   "outputs": [],
   "source": [
    "artists_index = artists_.join(index_)"
   ]
  },
  {
   "cell_type": "code",
   "execution_count": 42,
   "metadata": {
    "collapsed": false,
    "deletable": true,
    "editable": true,
    "jupyter": {
     "outputs_hidden": false
    },
    "tags": []
   },
   "outputs": [
    {
     "name": "stderr",
     "output_type": "stream",
     "text": [
      "23/02/24 02:42:04 WARN TaskSetManager: Stage 28 contains a task of very large size (7825 KiB). The maximum recommended task size is 1000 KiB.\n",
      "                                                                                \r"
     ]
    },
    {
     "data": {
      "text/plain": [
       "[('miles davis', ('miles davis', ('miles davis', 0))),\n",
       " ('miles davis', ('miles davis', ('miles davis', 0))),\n",
       " ('miles davis', ('miles davis', ('miles davis', 0))),\n",
       " ('miles davis', ('miles davis', ('miles davis', 0))),\n",
       " ('miles davis', ('miles davis', ('miles davis', 0)))]"
      ]
     },
     "execution_count": 42,
     "metadata": {},
     "output_type": "execute_result"
    }
   ],
   "source": [
    "#Heres our artists index\n",
    "artists_index.take(5)"
   ]
  },
  {
   "cell_type": "code",
   "execution_count": 43,
   "metadata": {
    "deletable": true,
    "editable": true,
    "tags": []
   },
   "outputs": [],
   "source": [
    "# Take just the tuple we need\n",
    "artist_index = artists_index.map(lambda x: (x[1][1]))"
   ]
  },
  {
   "cell_type": "code",
   "execution_count": 44,
   "metadata": {
    "collapsed": false,
    "deletable": true,
    "editable": true,
    "jupyter": {
     "outputs_hidden": false
    },
    "tags": []
   },
   "outputs": [
    {
     "data": {
      "text/plain": [
       "[('rotting christ', 195),\n",
       " ('rotting christ', 195),\n",
       " ('rotting christ', 195),\n",
       " ('rotting christ', 195),\n",
       " ('rotting christ', 195)]"
      ]
     },
     "execution_count": 44,
     "metadata": {},
     "output_type": "execute_result"
    }
   ],
   "source": [
    "artist_index.take(5)"
   ]
  },
  {
   "cell_type": "code",
   "execution_count": 45,
   "metadata": {
    "deletable": true,
    "editable": true,
    "tags": []
   },
   "outputs": [],
   "source": [
    "ratings_data = ratings_data_pertinent.map(lambda x: (x[2]))"
   ]
  },
  {
   "cell_type": "code",
   "execution_count": 46,
   "metadata": {
    "collapsed": false,
    "deletable": true,
    "editable": true,
    "jupyter": {
     "outputs_hidden": false
    },
    "tags": []
   },
   "outputs": [
    {
     "name": "stderr",
     "output_type": "stream",
     "text": [
      "23/02/24 02:42:12 WARN TaskSetManager: Stage 34 contains a task of very large size (7825 KiB). The maximum recommended task size is 1000 KiB.\n",
      "                                                                                \r"
     ]
    },
    {
     "data": {
      "text/plain": [
       "[1099, 897, 717, 706, 691]"
      ]
     },
     "execution_count": 46,
     "metadata": {},
     "output_type": "execute_result"
    }
   ],
   "source": [
    "ratings_data.take(5)"
   ]
  },
  {
   "cell_type": "code",
   "execution_count": 47,
   "metadata": {
    "deletable": true,
    "editable": true,
    "tags": []
   },
   "outputs": [],
   "source": [
    "artist_names = artist_index.map(lambda x: (x[0]))\n",
    "artist_id = artist_index.map(lambda x: (x[1]))"
   ]
  },
  {
   "cell_type": "code",
   "execution_count": 48,
   "metadata": {
    "collapsed": false,
    "deletable": true,
    "editable": true,
    "jupyter": {
     "outputs_hidden": false
    },
    "tags": []
   },
   "outputs": [
    {
     "name": "stderr",
     "output_type": "stream",
     "text": [
      "23/02/24 02:42:14 WARN TaskSetManager: Stage 35 contains a task of very large size (7825 KiB). The maximum recommended task size is 1000 KiB.\n",
      "23/02/24 02:42:21 WARN TaskSetManager: Stage 40 contains a task of very large size (7825 KiB). The maximum recommended task size is 1000 KiB.\n",
      "                                                                                \r"
     ]
    }
   ],
   "source": [
    "ratings = ratings_data.zipWithIndex()\n",
    "artist_index_ = artist_index.zipWithIndex()\n",
    "uids = numeric_uid.zipWithIndex()"
   ]
  },
  {
   "cell_type": "code",
   "execution_count": 49,
   "metadata": {
    "collapsed": false,
    "deletable": true,
    "editable": true,
    "jupyter": {
     "outputs_hidden": false
    },
    "tags": []
   },
   "outputs": [
    {
     "name": "stderr",
     "output_type": "stream",
     "text": [
      "23/02/24 02:42:29 WARN TaskSetManager: Stage 41 contains a task of very large size (7825 KiB). The maximum recommended task size is 1000 KiB.\n",
      "                                                                                \r"
     ]
    },
    {
     "data": {
      "text/plain": [
       "[('328911829', 0),\n",
       " ('328911829', 1),\n",
       " ('328911829', 2),\n",
       " ('328911829', 3),\n",
       " ('328911829', 4)]"
      ]
     },
     "execution_count": 49,
     "metadata": {},
     "output_type": "execute_result"
    }
   ],
   "source": [
    "uids.take(5)"
   ]
  },
  {
   "cell_type": "code",
   "execution_count": 50,
   "metadata": {
    "collapsed": false,
    "deletable": true,
    "editable": true,
    "jupyter": {
     "outputs_hidden": false
    },
    "tags": []
   },
   "outputs": [
    {
     "data": {
      "text/plain": [
       "[(('the clash', 4), 0),\n",
       " (('the clash', 4), 1),\n",
       " (('the clash', 4), 2),\n",
       " (('the clash', 4), 3),\n",
       " (('the clash', 4), 4)]"
      ]
     },
     "execution_count": 50,
     "metadata": {},
     "output_type": "execute_result"
    }
   ],
   "source": [
    "artist_index_.take(5)"
   ]
  },
  {
   "cell_type": "code",
   "execution_count": 51,
   "metadata": {
    "collapsed": false,
    "deletable": true,
    "editable": true,
    "jupyter": {
     "outputs_hidden": false
    },
    "tags": []
   },
   "outputs": [],
   "source": [
    "artist_index_ = artist_index_.map(lambda x: (x[1],x[0]))\n",
    "uids = uids.map(lambda x: (x[1],x[0]))\n",
    "ratings = ratings.map(lambda x: (x[1],x[0]))"
   ]
  },
  {
   "cell_type": "code",
   "execution_count": 52,
   "metadata": {
    "collapsed": false,
    "deletable": true,
    "editable": true,
    "jupyter": {
     "outputs_hidden": false
    },
    "tags": []
   },
   "outputs": [
    {
     "name": "stderr",
     "output_type": "stream",
     "text": [
      "23/02/24 02:42:32 WARN TaskSetManager: Stage 46 contains a task of very large size (7825 KiB). The maximum recommended task size is 1000 KiB.\n",
      "                                                                                \r"
     ]
    },
    {
     "data": {
      "text/plain": [
       "[(0, 1099), (1, 897), (2, 717), (3, 706), (4, 691)]"
      ]
     },
     "execution_count": 52,
     "metadata": {},
     "output_type": "execute_result"
    }
   ],
   "source": [
    "ratings.take(5)"
   ]
  },
  {
   "cell_type": "code",
   "execution_count": 53,
   "metadata": {
    "collapsed": false,
    "deletable": true,
    "editable": true,
    "jupyter": {
     "outputs_hidden": false
    },
    "tags": []
   },
   "outputs": [],
   "source": [
    "RDD = uids.join(artist_index_).join(ratings)"
   ]
  },
  {
   "cell_type": "code",
   "execution_count": 54,
   "metadata": {
    "collapsed": false,
    "deletable": true,
    "editable": true,
    "jupyter": {
     "outputs_hidden": false
    },
    "tags": []
   },
   "outputs": [
    {
     "name": "stderr",
     "output_type": "stream",
     "text": [
      "23/02/24 02:42:34 WARN TaskSetManager: Stage 50 contains a task of very large size (7825 KiB). The maximum recommended task size is 1000 KiB.\n",
      "23/02/24 02:42:44 WARN TaskSetManager: Stage 51 contains a task of very large size (7825 KiB). The maximum recommended task size is 1000 KiB.\n",
      "                                                                                \r"
     ]
    },
    {
     "data": {
      "text/plain": [
       "[(560225, (('825449122', ('o.n.a.', 29173)), 115)),\n",
       " (560325, (('825589403', ('the view', 27221)), 584)),\n",
       " (560425, (('826304432', ('taking back sunday', 27347)), 195)),\n",
       " (560525, (('826668727', ('taking back sunday', 27347)), 304)),\n",
       " (560625, (('830040544', ('taking back sunday', 27347)), 58))]"
      ]
     },
     "execution_count": 54,
     "metadata": {},
     "output_type": "execute_result"
    }
   ],
   "source": [
    "RDD.take(5)"
   ]
  },
  {
   "cell_type": "code",
   "execution_count": 55,
   "metadata": {
    "deletable": true,
    "editable": true,
    "tags": []
   },
   "outputs": [],
   "source": [
    "def split_tuple(data):\n",
    "    v = data[0]\n",
    "    w = data[1][0][0]\n",
    "    x = data[1][0][1][1]\n",
    "    y = data[1][0][1][0]\n",
    "    z = data[1][1]\n",
    "    return v, w, x , y, z"
   ]
  },
  {
   "cell_type": "code",
   "execution_count": 56,
   "metadata": {
    "deletable": true,
    "editable": true,
    "tags": []
   },
   "outputs": [],
   "source": [
    "_RDD = RDD.map(lambda x: split_tuple(x))"
   ]
  },
  {
   "cell_type": "code",
   "execution_count": 57,
   "metadata": {
    "tags": []
   },
   "outputs": [
    {
     "data": {
      "text/plain": [
       "[(279650, '421213018', 13594, 'slayer', 23),\n",
       " (279750, '421739456', 13518, 'anthrax', 69)]"
      ]
     },
     "execution_count": 57,
     "metadata": {},
     "output_type": "execute_result"
    }
   ],
   "source": [
    "_RDD.take(2)"
   ]
  },
  {
   "cell_type": "code",
   "execution_count": 58,
   "metadata": {
    "deletable": true,
    "editable": true,
    "tags": []
   },
   "outputs": [
    {
     "name": "stderr",
     "output_type": "stream",
     "text": [
      "                                                                                \r"
     ]
    }
   ],
   "source": [
    "rdd = _RDD.collect()\n"
   ]
  },
  {
   "cell_type": "code",
   "execution_count": 59,
   "metadata": {
    "tags": []
   },
   "outputs": [
    {
     "data": {
      "application/vnd.jupyter.widget-view+json": {
       "model_id": "a35c88b0021e4bcf82b305bd6c75080f",
       "version_major": 2,
       "version_minor": 0
      },
      "text/plain": [
       "  0%|          | 0/699999 [00:00<?, ?it/s]"
      ]
     },
     "metadata": {},
     "output_type": "display_data"
    }
   ],
   "source": [
    "with tqdm(total=len(rdd)) as pbar:\n",
    "    with open(\"finalRDD.csv\", \"w\") as file:\n",
    "        \n",
    "        for r in rdd:\n",
    "\n",
    "            file.write(f\"{r[0]}, {r[1]}, {r[2]}, '{r[3]}'\\n\")\n",
    "        \n",
    "            pbar.update(1)\n"
   ]
  }
 ],
 "metadata": {
  "kernelspec": {
   "display_name": "Python 3 (ipykernel)",
   "language": "python",
   "name": "python3"
  },
  "language_info": {
   "codemirror_mode": {
    "name": "ipython",
    "version": 3
   },
   "file_extension": ".py",
   "mimetype": "text/x-python",
   "name": "python",
   "nbconvert_exporter": "python",
   "pygments_lexer": "ipython3",
   "version": "3.9.2"
  }
 },
 "nbformat": 4,
 "nbformat_minor": 4
}
