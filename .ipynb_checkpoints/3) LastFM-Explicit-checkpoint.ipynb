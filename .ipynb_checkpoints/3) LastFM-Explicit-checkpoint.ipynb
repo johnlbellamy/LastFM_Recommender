{
 "cells": [
  {
   "cell_type": "code",
   "execution_count": 1,
   "metadata": {
    "collapsed": true,
    "deletable": true,
    "editable": true
   },
   "outputs": [],
   "source": [
    "import pyspark\n",
    "import math\n",
    "from pyspark import SparkContext, SparkConf\n",
    "from pyspark.mllib.recommendation import ALS, Rating, MatrixFactorizationModel\n"
   ]
  },
  {
   "cell_type": "code",
   "execution_count": 2,
   "metadata": {
    "collapsed": true,
    "deletable": true,
    "editable": true
   },
   "outputs": [],
   "source": [
    "text_file = \"hdfs://hadoop-master:9000/users/spark/out/fmModelArtBalanced.csv\"\n",
    "sc.setCheckpointDir('hdfs://hadoop-master:9000/users/spark/checkpoint')"
   ]
  },
  {
   "cell_type": "code",
   "execution_count": 3,
   "metadata": {
    "collapsed": true,
    "deletable": true,
    "editable": true
   },
   "outputs": [],
   "source": [
    "RDD = sc.textFile(text_file)"
   ]
  },
  {
   "cell_type": "code",
   "execution_count": 4,
   "metadata": {
    "collapsed": false,
    "deletable": true,
    "editable": true
   },
   "outputs": [
    {
     "data": {
      "text/plain": [
       "['2409499,232513467,203477,george w. bush,428',\n",
       " '16879990,660133657,139067,the duckworth lewis method,21',\n",
       " '15790027,565863613,93392,el presidente,55',\n",
       " '4562044,428504185,126798,david demaria,4',\n",
       " '17558632,666373732,149036,rites of undeath,21']"
      ]
     },
     "execution_count": 4,
     "metadata": {},
     "output_type": "execute_result"
    }
   ],
   "source": [
    "RDD.take(5)"
   ]
  },
  {
   "cell_type": "code",
   "execution_count": 5,
   "metadata": {
    "collapsed": true,
    "deletable": true,
    "editable": true
   },
   "outputs": [],
   "source": [
    "_RDD = RDD.map(lambda x: (x.split(\",\")))"
   ]
  },
  {
   "cell_type": "code",
   "execution_count": 6,
   "metadata": {
    "collapsed": false,
    "deletable": true,
    "editable": true
   },
   "outputs": [
    {
     "data": {
      "text/plain": [
       "[['2409499', '232513467', '203477', 'george w. bush', '428'],\n",
       " ['16879990', '660133657', '139067', 'the duckworth lewis method', '21'],\n",
       " ['15790027', '565863613', '93392', 'el presidente', '55'],\n",
       " ['4562044', '428504185', '126798', 'david demaria', '4'],\n",
       " ['17558632', '666373732', '149036', 'rites of undeath', '21']]"
      ]
     },
     "execution_count": 6,
     "metadata": {},
     "output_type": "execute_result"
    }
   ],
   "source": [
    "_RDD.take(5)"
   ]
  },
  {
   "cell_type": "code",
   "execution_count": 7,
   "metadata": {
    "collapsed": true,
    "deletable": true,
    "editable": true
   },
   "outputs": [],
   "source": [
    "#Im going to norm the ratings column by dividing by max value\n",
    "modelRDD = _RDD.map(lambda x : ((x[1]),(x[2]),(int(x[4]))/699))"
   ]
  },
  {
   "cell_type": "code",
   "execution_count": 8,
   "metadata": {
    "collapsed": false,
    "deletable": true,
    "editable": true
   },
   "outputs": [
    {
     "data": {
      "text/plain": [
       "[('232513467', '203477', 0.6123032904148784),\n",
       " ('660133657', '139067', 0.030042918454935622),\n",
       " ('565863613', '93392', 0.07868383404864092),\n",
       " ('428504185', '126798', 0.005722460658082976),\n",
       " ('666373732', '149036', 0.030042918454935622)]"
      ]
     },
     "execution_count": 8,
     "metadata": {},
     "output_type": "execute_result"
    }
   ],
   "source": [
    "modelRDD.take(5)"
   ]
  },
  {
   "cell_type": "code",
   "execution_count": 9,
   "metadata": {
    "collapsed": true,
    "deletable": true,
    "editable": true
   },
   "outputs": [],
   "source": [
    "finalRDD = modelRDD.map(lambda x: (x[0],x[1],x[2]))"
   ]
  },
  {
   "cell_type": "code",
   "execution_count": 10,
   "metadata": {
    "collapsed": false,
    "deletable": true,
    "editable": true
   },
   "outputs": [
    {
     "data": {
      "text/plain": [
       "[('232513467', '203477', 0.6123032904148784),\n",
       " ('660133657', '139067', 0.030042918454935622),\n",
       " ('565863613', '93392', 0.07868383404864092),\n",
       " ('428504185', '126798', 0.005722460658082976),\n",
       " ('666373732', '149036', 0.030042918454935622)]"
      ]
     },
     "execution_count": 10,
     "metadata": {},
     "output_type": "execute_result"
    }
   ],
   "source": [
    "finalRDD.take(5)"
   ]
  },
  {
   "cell_type": "code",
   "execution_count": 11,
   "metadata": {
    "collapsed": false,
    "deletable": true,
    "editable": true
   },
   "outputs": [
    {
     "data": {
      "text/plain": [
       "(count: 4673605, mean: 0.1969480100646009, stdev: 0.207594175697, max: 1.0, min: 0.0)"
      ]
     },
     "execution_count": 11,
     "metadata": {},
     "output_type": "execute_result"
    }
   ],
   "source": [
    "finalRDD.map(lambda x: (x[2])).stats()"
   ]
  },
  {
   "cell_type": "code",
   "execution_count": 12,
   "metadata": {
    "collapsed": true,
    "deletable": true,
    "editable": true
   },
   "outputs": [],
   "source": [
    "#Now that we have our data in the format we need, we can split the data relevant to our algorithmm (_RDD)\n",
    "# Into the testing, traing, and validation sets to develop and tet our model\n",
    "rdd_training, rdd_validation, rdd_test = finalRDD.randomSplit([6,2,2], seed=5)\n",
    "predict_validation = rdd_validation.map(lambda x: (x[0], x[1]))\n",
    "predict_test = rdd_test.map(lambda x: (x[0], x[1]))\n",
    "\n"
   ]
  },
  {
   "cell_type": "code",
   "execution_count": 13,
   "metadata": {
    "collapsed": false,
    "deletable": true,
    "editable": true
   },
   "outputs": [
    {
     "data": {
      "text/plain": [
       "PythonRDD[8] at RDD at PythonRDD.scala:48"
      ]
     },
     "execution_count": 13,
     "metadata": {},
     "output_type": "execute_result"
    }
   ],
   "source": [
    "rdd_training.cache()\n",
    "rdd_validation.cache()"
   ]
  },
  {
   "cell_type": "code",
   "execution_count": 15,
   "metadata": {
    "collapsed": false,
    "deletable": true,
    "editable": true
   },
   "outputs": [
    {
     "name": "stdout",
     "output_type": "stream",
     "text": [
      "Rank: 5\n",
      "Regularization: 0.010000\n",
      "Iterations: 2\n",
      "Iterations: 5\n",
      "Iterations: 10\n",
      "Iterations: 15\n",
      "Iterations: 20\n",
      "Regularization: 0.100000\n",
      "Iterations: 2\n",
      "Iterations: 5\n",
      "Iterations: 10\n",
      "Iterations: 15\n",
      "Iterations: 20\n",
      "Regularization: 1.000000\n",
      "Iterations: 2\n",
      "Iterations: 5\n",
      "Iterations: 10\n",
      "Iterations: 15\n",
      "Iterations: 20\n",
      "Regularization: 10.000000\n",
      "Iterations: 2\n",
      "Iterations: 5\n",
      "Iterations: 10\n",
      "Iterations: 15\n",
      "Iterations: 20\n",
      "Rank: 10\n",
      "Regularization: 0.010000\n",
      "Iterations: 2\n",
      "Iterations: 5\n",
      "Iterations: 10\n",
      "Iterations: 15\n",
      "Iterations: 20\n",
      "Regularization: 0.100000\n",
      "Iterations: 2\n",
      "Iterations: 5\n",
      "Iterations: 10\n",
      "Iterations: 15\n",
      "Iterations: 20\n",
      "Regularization: 1.000000\n",
      "Iterations: 2\n",
      "Iterations: 5\n",
      "Iterations: 10\n",
      "Iterations: 15\n",
      "Iterations: 20\n",
      "Regularization: 10.000000\n",
      "Iterations: 2\n",
      "Iterations: 5\n",
      "Iterations: 10\n",
      "Iterations: 15\n",
      "Iterations: 20\n",
      "Rank: 20\n",
      "Regularization: 0.010000\n",
      "Iterations: 2\n",
      "Iterations: 5\n",
      "Iterations: 10\n",
      "Iterations: 15\n",
      "Iterations: 20\n",
      "Regularization: 0.100000\n",
      "Iterations: 2\n",
      "Iterations: 5\n",
      "Iterations: 10\n",
      "Iterations: 15\n",
      "Iterations: 20\n",
      "Regularization: 1.000000\n",
      "Iterations: 2\n",
      "Iterations: 5\n",
      "Iterations: 10\n",
      "Iterations: 15\n",
      "Iterations: 20\n",
      "Regularization: 10.000000\n",
      "Iterations: 2\n",
      "Iterations: 5\n",
      "Iterations: 10\n",
      "Iterations: 15\n",
      "Iterations: 20\n",
      "Rank: 40\n",
      "Regularization: 0.010000\n",
      "Iterations: 2\n",
      "Iterations: 5\n",
      "Iterations: 10\n",
      "Iterations: 15\n",
      "Iterations: 20\n",
      "Regularization: 0.100000\n",
      "Iterations: 2\n",
      "Iterations: 5\n",
      "Iterations: 10\n",
      "Iterations: 15\n",
      "Iterations: 20\n",
      "Regularization: 1.000000\n",
      "Iterations: 2\n",
      "Iterations: 5\n",
      "Iterations: 10\n",
      "Iterations: 15\n",
      "Iterations: 20\n",
      "Regularization: 10.000000\n",
      "Iterations: 2\n",
      "Iterations: 5\n",
      "Iterations: 10\n",
      "Iterations: 15\n",
      "Iterations: 20\n",
      "Rank: 80\n",
      "Regularization: 0.010000\n",
      "Iterations: 2\n",
      "Iterations: 5\n",
      "Iterations: 10\n",
      "Iterations: 15\n",
      "Iterations: 20\n",
      "Regularization: 0.100000\n",
      "Iterations: 2\n",
      "Iterations: 5\n",
      "Iterations: 10\n",
      "Iterations: 15\n",
      "Iterations: 20\n",
      "Regularization: 1.000000\n",
      "Iterations: 2\n",
      "Iterations: 5\n",
      "Iterations: 10\n",
      "Iterations: 15\n",
      "Iterations: 20\n",
      "Regularization: 10.000000\n",
      "Iterations: 2\n",
      "Iterations: 5\n",
      "Iterations: 10\n",
      "Iterations: 15\n",
      "Iterations: 20\n",
      "New optimal hyperparameters\n",
      "lam                                                       0.01\n",
      "min_error                                                  inf\n",
      "model        <pyspark.mllib.recommendation.MatrixFactorizat...\n",
      "n_factors                                                   80\n",
      "n_iter                                                      20\n",
      "test_mse                                               0.12245\n",
      "dtype: object\n"
     ]
    }
   ],
   "source": [
    "import pandas as pd\n",
    "import numpy as np\n",
    "\n",
    "ALS.checkpointInterval = 2\n",
    "seed=5\n",
    "ranks = [5, 10, 20, 40, 80]\n",
    "lambdas_ = [0.01, .10, 1., 10.]\n",
    "lambdas_.sort()\n",
    "iter_array = [2, 5, 10, 15, 20]\n",
    "\n",
    "\n",
    "\n",
    "best_rank = -1\n",
    "best_iteration = -1\n",
    "\n",
    "best_params = {}\n",
    "best_params['n_factors'] = ranks[0]\n",
    "best_params['lam'] = lambdas_[0]\n",
    "best_params['n_iter'] = 0\n",
    "best_params['test_mse'] = float('inf')\n",
    "best_params['min_error'] = float('inf')\n",
    "best_params['model'] = None\n",
    "\n",
    "for rank in ranks:\n",
    "    print('Rank: {:d}'.format(rank))\n",
    "    \n",
    "    for lam in lambdas_:\n",
    "        errors = np.zeros(20)\n",
    "        err = 0\n",
    "        print('Regularization: {:f}'.format(lam))\n",
    "        for _iter in iter_array:\n",
    "            print('Iterations: {:d}'.format(_iter))\n",
    "            model = ALS.train(rdd_training, iterations=_iter, rank=rank,lambda_=lam, seed=seed)\n",
    "            predictions = model.predictAll(predict_validation).map(lambda r: ((r[0], r[1]), r[2]))\n",
    "            rates_and_predicts = rdd_validation.map(lambda r: ((int(r[0]), int(r[1])), float(r[2]))).\\\n",
    "            join(predictions)\n",
    "  \n",
    "            error = math.sqrt(rates_and_predicts.map(lambda rec: (rec[1][0] - rec[1][1])**2).mean())\n",
    "            errors[err] = error\n",
    "            err += 1\n",
    "            if  error < best_params['test_mse']:\n",
    "                best_params['n_factors'] = rank\n",
    "                best_params['lam'] = lam\n",
    "                best_params['n_iter'] = _iter\n",
    "                best_params['test_mse'] = error\n",
    "                best_params['model'] = model\n",
    "                model = None\n",
    "                predictions = sc.emptyRDD()\n",
    "                rates_and_predicts = sc.emptyRDD()\n",
    "print('New optimal hyperparameters')\n",
    "print(pd.Series(best_params))\n",
    "\n"
   ]
  },
  {
   "cell_type": "code",
   "execution_count": null,
   "metadata": {
    "collapsed": true,
    "deletable": true,
    "editable": true
   },
   "outputs": [],
   "source": [
    "#This model wants to stay at .12 rmse. We can see this below, with much lower params. It converges quickly"
   ]
  },
  {
   "cell_type": "code",
   "execution_count": 14,
   "metadata": {
    "collapsed": false,
    "deletable": true,
    "editable": true
   },
   "outputs": [
    {
     "name": "stdout",
     "output_type": "stream",
     "text": [
      "The error for the test data is 0.12\n"
     ]
    }
   ],
   "source": [
    "# Now for the tst dataset\n",
    "model = ALS.train(rdd_training, rank=5, iterations=5, seed=5)\n",
    "predictions = model.predictAll(predict_test).map(lambda r: ((r[0], r[1]), r[2]))\n",
    "rates_and_preds = rdd_test.map(lambda r: ((int(r[0]), int(r[1])), float(r[2]))).join(predictions)\n",
    "error = math.sqrt(rates_and_preds.map(lambda r: (r[1][0] - r[1][1])**2).mean())\n",
    "\n",
    "print('The error for the test data is {:.2f}'.format(error))"
   ]
  },
  {
   "cell_type": "code",
   "execution_count": 17,
   "metadata": {
    "collapsed": false,
    "deletable": true,
    "editable": true
   },
   "outputs": [],
   "source": [
    "rdd_training, rdd_test = modelRDD.randomSplit([7, 3], seed=5)\n",
    "\n",
    "complete_model = ALS.train(rdd_training, rank=5, iterations=5,seed=5)"
   ]
  },
  {
   "cell_type": "code",
   "execution_count": 18,
   "metadata": {
    "collapsed": false,
    "deletable": true,
    "editable": true
   },
   "outputs": [
    {
     "name": "stdout",
     "output_type": "stream",
     "text": [
      "For testing data the RMSE is 0.12\n"
     ]
    }
   ],
   "source": [
    "predict_test = rdd_test.map(lambda x: (x[0], x[1]))\n",
    "\n",
    "predictions = complete_model.predictAll(predict_test).map(lambda r: ((r[0], r[1]), r[2]))\n",
    "rates_and_preds = rdd_test.map(lambda r: ((int(r[0]), int(r[1])), float(r[2]))).join(predictions)\n",
    "error = math.sqrt(rates_and_preds.map(lambda r: (r[1][0] - r[1][1])**2).mean())\n",
    "\n",
    "print('For testing data the RMSE is {:.2f}'.format(error))"
   ]
  },
  {
   "cell_type": "code",
   "execution_count": 20,
   "metadata": {
    "collapsed": false,
    "deletable": true,
    "editable": true
   },
   "outputs": [
    {
     "name": "stdout",
     "output_type": "stream",
     "text": [
      "New model trained in 81.20 seconds\n"
     ]
    }
   ],
   "source": [
    "# Now we can train the model on the complete dataset\n",
    "from time import time\n",
    "\n",
    "t0 = time()\n",
    "new_ratings_model = ALS.train(modelRDD, rank=5, iterations=5, seed=5)\n",
    "tt = time() - t0\n",
    "\n",
    "print(\"New model trained in {:.2f} seconds\".format(round(tt,3)))"
   ]
  },
  {
   "cell_type": "code",
   "execution_count": 21,
   "metadata": {
    "collapsed": true,
    "deletable": true,
    "editable": true
   },
   "outputs": [],
   "source": [
    "artist_name_lookup_table = _RDD.map(lambda x: (x[2],x[3])).sortByKey().cache()\n",
    "artist_id_lookup_table = _RDD.map(lambda x: (x[3],x[2])).sortByKey().cache()"
   ]
  },
  {
   "cell_type": "code",
   "execution_count": 46,
   "metadata": {
    "collapsed": false,
    "deletable": true,
    "editable": true
   },
   "outputs": [
    {
     "data": {
      "text/plain": [
       "{'3018'}"
      ]
     },
     "execution_count": 46,
     "metadata": {},
     "output_type": "execute_result"
    }
   ],
   "source": [
    "set(artist_id_lookup_table.lookup('satisf*cktion'))"
   ]
  },
  {
   "cell_type": "code",
   "execution_count": null,
   "metadata": {
    "collapsed": true,
    "deletable": true,
    "editable": true
   },
   "outputs": [],
   "source": [
    "set(artist_name_lookup_table.lookup('23199'))\n",
    "{'alain dzukam'}\n",
    "{'gian - home studio'}"
   ]
  },
  {
   "cell_type": "code",
   "execution_count": 47,
   "metadata": {
    "collapsed": false,
    "deletable": true,
    "editable": true
   },
   "outputs": [],
   "source": [
    "# Let's test the new model with a few recommendations:\n",
    "# For the final recommender we should probably scale the recommendations numbers between perhaps 1 and 10. For now I'll\n",
    "# Regard 1 as does not like, 200 as likes and 500 as loves.\n",
    "\n",
    "johnsRecommendations = [('56','3018',.0001),\n",
    "                       ('56','153162',.0001), #Not an actual artist\n",
    "                       ('56','288963',.0001),# Alain Dzukam. Another movie\n",
    "                        ('56','14368',.0001), #David guetta. This is a movie\n",
    "                        ('56','204066',.1), #Rihanna\n",
    "                        ('56','174344',.0001),# Kaiser Chiefs\n",
    "                        ('56','95545',.0001), #Iron maiden\n",
    "                        ('56','58275',.0001),# Dire straits \n",
    "                        ('56','43548',.18),#Regina Spektor\n",
    "                        ('56','68390',.19), #Artst is 'edith piaf'\n",
    "                        ('56','281461',.20), #Artist is 'maria callas' \n",
    "                        ('56','201482',.17),# Atist is 'bryn terfel'\n",
    "                        ('56','243041',.17), # Anna netrebko\n",
    "                        ('56','244054',.17), # The residents\n",
    "                        ('56','256484',.18), #The Legendary Pink Dots\n",
    "                        ('56','206805',.17), #bjork\n",
    "                        ('56','127801',.0001), #Madonna\n",
    "                        ('56','96194',.16), #The killers\n",
    "                        ('56','216449',.0001), #Taylor Swift\n",
    "                        ('56','113418',.0001), #Miley Cyrus\n",
    "                        ('56','253951',.0001), # recommended: Madonna feat. Justin Timberlake. Lets see if model responds\n",
    "                        ('56','279301',.0001) # recommended: t-pain\n",
    "                       \n",
    "                       ]\n",
    "                       \n"
   ]
  },
  {
   "cell_type": "code",
   "execution_count": 48,
   "metadata": {
    "collapsed": false,
    "deletable": true,
    "editable": true
   },
   "outputs": [
    {
     "data": {
      "text/plain": [
       "[('56', '3018', 0.0001), ('56', '153162', 0.0001), ('56', '288963', 0.0001)]"
      ]
     },
     "execution_count": 48,
     "metadata": {},
     "output_type": "execute_result"
    }
   ],
   "source": [
    "new_user_ratings_RDD = sc.parallelize(johnsRecommendations)\n",
    "new_user_ratings_RDD.take(3)"
   ]
  },
  {
   "cell_type": "code",
   "execution_count": 49,
   "metadata": {
    "collapsed": true,
    "deletable": true,
    "editable": true
   },
   "outputs": [],
   "source": [
    "newRDD = modelRDD.union(new_user_ratings_RDD)"
   ]
  },
  {
   "cell_type": "code",
   "execution_count": 50,
   "metadata": {
    "collapsed": false,
    "deletable": true,
    "editable": true
   },
   "outputs": [
    {
     "data": {
      "text/plain": [
       "[('232513467', '203477', 0.6123032904148784),\n",
       " ('660133657', '139067', 0.030042918454935622),\n",
       " ('565863613', '93392', 0.07868383404864092),\n",
       " ('428504185', '126798', 0.005722460658082976),\n",
       " ('666373732', '149036', 0.030042918454935622)]"
      ]
     },
     "execution_count": 50,
     "metadata": {},
     "output_type": "execute_result"
    }
   ],
   "source": [
    "newRDD.take(5)"
   ]
  },
  {
   "cell_type": "code",
   "execution_count": 51,
   "metadata": {
    "collapsed": false,
    "deletable": true,
    "editable": true
   },
   "outputs": [],
   "source": [
    "modelFM = ALS.train(newRDD, rank=5, iterations=5, seed=5)"
   ]
  },
  {
   "cell_type": "code",
   "execution_count": 52,
   "metadata": {
    "collapsed": true,
    "deletable": true,
    "editable": true
   },
   "outputs": [],
   "source": [
    "#Get the artists to iterate through\n",
    "artists = newRDD.map(lambda x: (x[1]))"
   ]
  },
  {
   "cell_type": "code",
   "execution_count": 53,
   "metadata": {
    "collapsed": false,
    "deletable": true,
    "editable": true
   },
   "outputs": [
    {
     "data": {
      "text/plain": [
       "['203477', '139067', '93392', '126798', '149036']"
      ]
     },
     "execution_count": 53,
     "metadata": {},
     "output_type": "execute_result"
    }
   ],
   "source": [
    "artists.take(5)"
   ]
  },
  {
   "cell_type": "code",
   "execution_count": 54,
   "metadata": {
    "collapsed": true,
    "deletable": true,
    "editable": true
   },
   "outputs": [],
   "source": [
    "_rated_artists = set(new_user_ratings_RDD.map(lambda x: (x[1])).collect())\n",
    "unrated_artists = newRDD.filter(lambda x: x[1] not in _rated_artists ).map(lambda x: ('56', x[1]))"
   ]
  },
  {
   "cell_type": "code",
   "execution_count": 55,
   "metadata": {
    "collapsed": true,
    "deletable": true,
    "editable": true
   },
   "outputs": [],
   "source": [
    "new_user_recommendations_RDD = modelFM.predictAll(unrated_artists)"
   ]
  },
  {
   "cell_type": "code",
   "execution_count": 56,
   "metadata": {
    "collapsed": false,
    "deletable": true,
    "editable": true
   },
   "outputs": [
    {
     "data": {
      "text/plain": [
       "0.5211543805135976"
      ]
     },
     "execution_count": 56,
     "metadata": {},
     "output_type": "execute_result"
    }
   ],
   "source": [
    "new_user_recommendations_RDD.map(lambda x: (x[2])).max()"
   ]
  },
  {
   "cell_type": "code",
   "execution_count": 57,
   "metadata": {
    "collapsed": true,
    "deletable": true,
    "editable": true
   },
   "outputs": [],
   "source": [
    "top_items = new_user_recommendations_RDD.distinct().takeOrdered(20, key=lambda x: -x[2])\n"
   ]
  },
  {
   "cell_type": "code",
   "execution_count": 58,
   "metadata": {
    "collapsed": false,
    "deletable": true,
    "editable": true
   },
   "outputs": [
    {
     "name": "stdout",
     "output_type": "stream",
     "text": [
      "Your top ten recommended artists:\n",
      "{'bippp (v.a.)'}\n",
      "{'heinz holliger - zehetmair - larcher - holliger - etc.'}\n",
      "{'dj philip'}\n",
      "{'active coma'}\n",
      "{'alberto cortéz y facundo cabral'}\n",
      "{'jens rachut'}\n",
      "{'marco antonios solis'}\n",
      "{'bellhouse'}\n",
      "{'mike shiflet'}\n",
      "{'digital mystikz & loefah'}\n",
      "{'andy vores'}\n",
      "{'andrew davis'}\n",
      "{'electric eel-shock'}\n",
      "{'alexander schatten'}\n",
      "{'lech jankowski'}\n",
      "{'manu chao !'}\n",
      "{'c.a.r.n.e.'}\n",
      "{'컬투'}\n",
      "{'die dødelsäcke'}\n",
      "{'amor-te'}\n"
     ]
    }
   ],
   "source": [
    "print('Your top ten recommended artists:')\n",
    "for x in top_items:\n",
    "    artist = str(x[1])\n",
    "    print(set(artist_name_lookup_table.lookup(artist)))"
   ]
  },
  {
   "cell_type": "code",
   "execution_count": 45,
   "metadata": {
    "collapsed": false,
    "deletable": true,
    "editable": true
   },
   "outputs": [],
   "source": [
    "\n",
    "\n",
    "model_path = os.path.join('/home/spark', 'model', 'lastFMExplicit')\n",
    "\n",
    "# Save and load model\n",
    "modelFM.save(sc, model_path)\n",
    "#same_model = MatrixFactorizationModel.load(sc, model_path)"
   ]
  },
  {
   "cell_type": "code",
   "execution_count": null,
   "metadata": {
    "collapsed": true,
    "deletable": true,
    "editable": true
   },
   "outputs": [],
   "source": []
  }
 ],
 "metadata": {
  "kernelspec": {
   "display_name": "Python 3",
   "language": "python",
   "name": "python3"
  },
  "language_info": {
   "codemirror_mode": {
    "name": "ipython",
    "version": 3
   },
   "file_extension": ".py",
   "mimetype": "text/x-python",
   "name": "python",
   "nbconvert_exporter": "python",
   "pygments_lexer": "ipython3",
   "version": "3.5.2"
  }
 },
 "nbformat": 4,
 "nbformat_minor": 2
}
