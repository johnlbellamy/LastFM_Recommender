{
 "cells": [
  {
   "cell_type": "code",
   "execution_count": 26,
   "metadata": {
    "deletable": true,
    "editable": true,
    "tags": []
   },
   "outputs": [],
   "source": [
    "import pandas as pd\n",
    "import numpy as np\n",
    "import pyspark\n",
    "import math\n",
    "from pyspark import SparkContext, SparkConf\n",
    "from pyspark.mllib.recommendation import ALS, Rating, MatrixFactorizationModel\n",
    "\n",
    "from pyspark import SparkConf, SparkContext\n",
    "from pyspark.sql import SparkSession\n",
    "from pyspark.sql.types import (IntegerType, \n",
    "                               StringType, \n",
    "                               StructType, \n",
    "                               StructField)\n",
    "\n",
    "from tqdm.notebook import tqdm\n",
    "import pandas as pd\n",
    "\n",
    "conf = SparkConf()\n"
   ]
  },
  {
   "cell_type": "code",
   "execution_count": 2,
   "metadata": {
    "tags": []
   },
   "outputs": [
    {
     "name": "stderr",
     "output_type": "stream",
     "text": [
      "23/02/24 03:46:19 WARN NativeCodeLoader: Unable to load native-hadoop library for your platform... using builtin-java classes where applicable\n",
      "Using Spark's default log4j profile: org/apache/spark/log4j-defaults.properties\n",
      "Setting default log level to \"WARN\".\n",
      "To adjust logging level use sc.setLogLevel(newLevel). For SparkR, use setLogLevel(newLevel).\n"
     ]
    }
   ],
   "source": [
    "# Kubernetes is a Spark master in my setup. on my little cluster\n",
    "\n",
    "conf.setAppName(\"Last Descriptive Analysis\").setMaster(\"k8s://https://192.168.4.60:6443\") \n",
    "\n",
    "# Worker pods are created from the base Spark docker image.\n",
    "# If you use another image, specify its name instead.\n",
    "\n",
    "conf.set(\n",
    "    \"spark.kubernetes.container.image\", \n",
    "    \"johnb340/spark-executor:v1alpha\") \n",
    "\n",
    "\n",
    "conf.set(\n",
    "    \"spark.kubernetes.container.image.pullPolicy\", \n",
    "    \"IfNotPresent\") \n",
    "\n",
    "# Authentication certificate and token (required to create worker pods):\n",
    "conf.set(\n",
    "    \"spark.kubernetes.authenticate.caCertFile\", \n",
    "    \"/var/run/secrets/kubernetes.io/serviceaccount/ca.crt\")\n",
    "conf.set(\n",
    "    \"spark.kubernetes.authenticate.oauthTokenFile\", \n",
    "    \"/var/run/secrets/kubernetes.io/serviceaccount/token\")\n",
    "\n",
    "# Service account which should be used for the driver\n",
    "conf.set(\n",
    "    \"spark.kubernetes.authenticate.driver.serviceAccountName\", \n",
    "    \"spark-minion\") \n",
    "\n",
    "# 2 pods/workers will be created. Can be expanded for larger workloads.\n",
    "conf.set(\"spark.executor.instances\", \"5\") \n",
    "\n",
    "# The DNS alias for the Spark driver. Required by executors to report status.\n",
    "conf.set( \"spark.driver.host\", \"jupyter-spark-driver.default\")\n",
    "\n",
    "conf.set(\"spark.pyspark.driver.python\",\"jupyter\")\n",
    "\n",
    "conf.set(\"spark.pyspark.driver.python.opts\",\"notebook\")\n",
    "\n",
    "conf.set(\"spark.kubernetes.namespace\",\"default\")\n",
    "\n",
    "conf.set(\"spark.driver.port\", \"20020\")\n",
    "\n",
    "# Initialize spark context, create executors\n",
    "sc = pyspark.SparkContext(conf=conf)"
   ]
  },
  {
   "cell_type": "code",
   "execution_count": 6,
   "metadata": {
    "collapsed": true,
    "deletable": true,
    "editable": true,
    "jupyter": {
     "outputs_hidden": true
    },
    "tags": []
   },
   "outputs": [],
   "source": [
    "text_file = \"data/balancedRDD.csv\""
   ]
  },
  {
   "cell_type": "code",
   "execution_count": 7,
   "metadata": {
    "tags": []
   },
   "outputs": [
    {
     "name": "stderr",
     "output_type": "stream",
     "text": [
      "/tmp/ipykernel_9952/2856737018.py:1: FutureWarning: The error_bad_lines argument has been deprecated and will be removed in a future version. Use on_bad_lines in the future.\n",
      "\n",
      "\n",
      "  df = pd.read_csv(text_file, error_bad_lines=False)\n"
     ]
    }
   ],
   "source": [
    "df = pd.read_csv(text_file, error_bad_lines=False)"
   ]
  },
  {
   "cell_type": "code",
   "execution_count": 8,
   "metadata": {
    "tags": []
   },
   "outputs": [],
   "source": [
    "spark = SparkSession(sc)"
   ]
  },
  {
   "cell_type": "code",
   "execution_count": 9,
   "metadata": {
    "tags": []
   },
   "outputs": [
    {
     "name": "stderr",
     "output_type": "stream",
     "text": [
      "/usr/local/lib/python3.9/dist-packages/pyspark/sql/pandas/conversion.py:331: FutureWarning: iteritems is deprecated and will be removed in a future version. Use .items instead.\n",
      "  for column, series in pdf.iteritems():\n"
     ]
    }
   ],
   "source": [
    "df =  spark.createDataFrame(df)"
   ]
  },
  {
   "cell_type": "code",
   "execution_count": 10,
   "metadata": {
    "collapsed": true,
    "deletable": true,
    "editable": true,
    "jupyter": {
     "outputs_hidden": true
    },
    "tags": []
   },
   "outputs": [],
   "source": [
    "RDD = df.rdd"
   ]
  },
  {
   "cell_type": "code",
   "execution_count": 11,
   "metadata": {
    "collapsed": false,
    "deletable": true,
    "editable": true,
    "jupyter": {
     "outputs_hidden": false
    },
    "tags": []
   },
   "outputs": [
    {
     "name": "stderr",
     "output_type": "stream",
     "text": [
      "23/02/24 03:48:06 WARN TaskSetManager: Stage 0 contains a task of very large size (2969 KiB). The maximum recommended task size is 1000 KiB.\n",
      "                                                                                \r"
     ]
    },
    {
     "data": {
      "text/plain": [
       "[Row(564500=568200,  840854315=842801245,  27185=27264,   vanessa hudgens='  emilie autumn',  216=91),\n",
       " Row(564500=569400,  840854315=845566037,  27185=27317,   vanessa hudgens='  absynthe minded',  216=87),\n",
       " Row(564500=569500,  840854315=846311499,  27185=27328,   vanessa hudgens='  r. kelly',  216=6),\n",
       " Row(564500=569700,  840854315=850268306,  27185=27333,   vanessa hudgens='  westlife',  216=156),\n",
       " Row(564500=571100,  840854315=855644453,  27185=27408,   vanessa hudgens='  morbid angel',  216=37)]"
      ]
     },
     "execution_count": 11,
     "metadata": {},
     "output_type": "execute_result"
    }
   ],
   "source": [
    "RDD.take(5)"
   ]
  },
  {
   "cell_type": "code",
   "execution_count": 16,
   "metadata": {
    "tags": []
   },
   "outputs": [
    {
     "name": "stderr",
     "output_type": "stream",
     "text": [
      "23/02/24 03:50:36 WARN TaskSetManager: Stage 3 contains a task of very large size (2969 KiB). The maximum recommended task size is 1000 KiB.\n",
      "                                                                                \r"
     ]
    },
    {
     "data": {
      "text/plain": [
       "699"
      ]
     },
     "execution_count": 16,
     "metadata": {},
     "output_type": "execute_result"
    }
   ],
   "source": [
    "RDD.map(lambda x:(int(x[4]))).max()"
   ]
  },
  {
   "cell_type": "code",
   "execution_count": 17,
   "metadata": {
    "deletable": true,
    "editable": true,
    "tags": []
   },
   "outputs": [],
   "source": [
    "#Im going to norm the ratings column by dividing by max value\n",
    "modelRDD = RDD.map(lambda x : ((x[1]),(x[2]),(int(x[4]))/699))"
   ]
  },
  {
   "cell_type": "code",
   "execution_count": 18,
   "metadata": {
    "collapsed": false,
    "deletable": true,
    "editable": true,
    "jupyter": {
     "outputs_hidden": false
    },
    "tags": []
   },
   "outputs": [
    {
     "name": "stderr",
     "output_type": "stream",
     "text": [
      "23/02/24 03:50:49 WARN TaskSetManager: Stage 4 contains a task of very large size (2969 KiB). The maximum recommended task size is 1000 KiB.\n",
      "                                                                                \r"
     ]
    },
    {
     "data": {
      "text/plain": [
       "[(842801245, 27264, 0.1301859799713877),\n",
       " (845566037, 27317, 0.12446351931330472),\n",
       " (846311499, 27328, 0.008583690987124463),\n",
       " (850268306, 27333, 0.22317596566523606),\n",
       " (855644453, 27408, 0.05293276108726753)]"
      ]
     },
     "execution_count": 18,
     "metadata": {},
     "output_type": "execute_result"
    }
   ],
   "source": [
    "modelRDD.take(5)"
   ]
  },
  {
   "cell_type": "code",
   "execution_count": 19,
   "metadata": {
    "collapsed": true,
    "deletable": true,
    "editable": true,
    "jupyter": {
     "outputs_hidden": true
    },
    "tags": []
   },
   "outputs": [],
   "source": [
    "# for model we only want user, artist and rating\n",
    "finalRDD = modelRDD.map(lambda x: (x[0],x[1],x[2]))"
   ]
  },
  {
   "cell_type": "code",
   "execution_count": 20,
   "metadata": {
    "collapsed": false,
    "deletable": true,
    "editable": true,
    "jupyter": {
     "outputs_hidden": false
    },
    "tags": []
   },
   "outputs": [
    {
     "name": "stderr",
     "output_type": "stream",
     "text": [
      "23/02/24 03:50:53 WARN TaskSetManager: Stage 5 contains a task of very large size (2969 KiB). The maximum recommended task size is 1000 KiB.\n",
      "                                                                                \r"
     ]
    },
    {
     "data": {
      "text/plain": [
       "[(842801245, 27264, 0.1301859799713877),\n",
       " (845566037, 27317, 0.12446351931330472),\n",
       " (846311499, 27328, 0.008583690987124463),\n",
       " (850268306, 27333, 0.22317596566523606),\n",
       " (855644453, 27408, 0.05293276108726753)]"
      ]
     },
     "execution_count": 20,
     "metadata": {},
     "output_type": "execute_result"
    }
   ],
   "source": [
    "finalRDD.take(5)"
   ]
  },
  {
   "cell_type": "code",
   "execution_count": 21,
   "metadata": {
    "collapsed": false,
    "deletable": true,
    "editable": true,
    "jupyter": {
     "outputs_hidden": false
    },
    "tags": []
   },
   "outputs": [
    {
     "name": "stderr",
     "output_type": "stream",
     "text": [
      "23/02/24 03:51:27 WARN TaskSetManager: Stage 6 contains a task of very large size (2969 KiB). The maximum recommended task size is 1000 KiB.\n",
      "                                                                                \r"
     ]
    },
    {
     "data": {
      "text/plain": [
       "(count: 444041, mean: 0.19855469081028176, stdev: 0.20862379377754262, max: 1.0, min: 0.001430615164520744)"
      ]
     },
     "execution_count": 21,
     "metadata": {},
     "output_type": "execute_result"
    }
   ],
   "source": [
    "finalRDD.map(lambda x: (x[2])).stats()"
   ]
  },
  {
   "cell_type": "code",
   "execution_count": 22,
   "metadata": {
    "collapsed": true,
    "deletable": true,
    "editable": true,
    "jupyter": {
     "outputs_hidden": true
    },
    "tags": []
   },
   "outputs": [],
   "source": [
    "#Now that we have our data in the format we need, we can split the data relevant to our algorithmm (_RDD)\n",
    "# Into the testing, traing, and validation sets to develop and tet our model\n",
    "rdd_training, rdd_validation, rdd_test = finalRDD.randomSplit([6,2,2], seed=5)\n",
    "predict_validation = rdd_validation.map(lambda x: (x[0], x[1]))\n",
    "predict_test = rdd_test.map(lambda x: (x[0], x[1]))\n",
    "\n"
   ]
  },
  {
   "cell_type": "code",
   "execution_count": 23,
   "metadata": {
    "collapsed": false,
    "deletable": true,
    "editable": true,
    "jupyter": {
     "outputs_hidden": false
    },
    "tags": []
   },
   "outputs": [
    {
     "data": {
      "text/plain": [
       "PythonRDD[17] at RDD at PythonRDD.scala:53"
      ]
     },
     "execution_count": 23,
     "metadata": {},
     "output_type": "execute_result"
    }
   ],
   "source": [
    "# cach so performance is faster an more stable\n",
    "rdd_training.cache()\n",
    "rdd_validation.cache()"
   ]
  },
  {
   "cell_type": "code",
   "execution_count": null,
   "metadata": {
    "collapsed": false,
    "deletable": true,
    "editable": true,
    "jupyter": {
     "outputs_hidden": false
    },
    "tags": []
   },
   "outputs": [
    {
     "name": "stdout",
     "output_type": "stream",
     "text": [
      "Rank: 5\n",
      "Regularization: 0.010000\n",
      "Iterations: 2\n"
     ]
    },
    {
     "name": "stderr",
     "output_type": "stream",
     "text": [
      "23/02/24 03:57:47 WARN TaskSetManager: Stage 7 contains a task of very large size (2969 KiB). The maximum recommended task size is 1000 KiB.\n",
      "23/02/24 03:57:48 WARN TaskSetManager: Stage 8 contains a task of very large size (2969 KiB). The maximum recommended task size is 1000 KiB.\n",
      "23/02/24 03:57:48 WARN TaskSetManager: Stage 9 contains a task of very large size (2969 KiB). The maximum recommended task size is 1000 KiB.\n",
      "23/02/24 03:57:49 WARN TaskSetManager: Stage 10 contains a task of very large size (2969 KiB). The maximum recommended task size is 1000 KiB.\n",
      "23/02/24 03:57:58 WARN TaskSetManager: Stage 61 contains a task of very large size (2969 KiB). The maximum recommended task size is 1000 KiB.\n",
      "23/02/24 03:58:00 WARN TaskSetManager: Stage 62 contains a task of very large size (2969 KiB). The maximum recommended task size is 1000 KiB.\n",
      "23/02/24 03:58:03 WARN TaskSetManager: Stage 70 contains a task of very large size (2969 KiB). The maximum recommended task size is 1000 KiB.\n",
      "23/02/24 03:58:07 WARN TaskSetManager: Stage 72 contains a task of very large size (2970 KiB). The maximum recommended task size is 1000 KiB.\n",
      "23/02/24 03:58:11 WARN TaskSetManager: Stage 74 contains a task of very large size (2969 KiB). The maximum recommended task size is 1000 KiB.\n",
      "23/02/24 03:58:11 WARN TaskSetManager: Stage 75 contains a task of very large size (2969 KiB). The maximum recommended task size is 1000 KiB.\n",
      "23/02/24 03:58:11 WARN TaskSetManager: Stage 76 contains a task of very large size (2969 KiB). The maximum recommended task size is 1000 KiB.\n"
     ]
    },
    {
     "name": "stdout",
     "output_type": "stream",
     "text": [
      "Iterations: 5\n"
     ]
    },
    {
     "name": "stderr",
     "output_type": "stream",
     "text": [
      "23/02/24 03:58:12 WARN TaskSetManager: Stage 77 contains a task of very large size (3001 KiB). The maximum recommended task size is 1000 KiB.\n",
      "23/02/24 03:58:19 WARN TaskSetManager: Stage 164 contains a task of very large size (2969 KiB). The maximum recommended task size is 1000 KiB.\n",
      "23/02/24 03:58:20 WARN TaskSetManager: Stage 165 contains a task of very large size (2969 KiB). The maximum recommended task size is 1000 KiB.\n",
      "23/02/24 03:58:24 WARN TaskSetManager: Stage 179 contains a task of very large size (2969 KiB). The maximum recommended task size is 1000 KiB.\n",
      "23/02/24 03:58:27 WARN TaskSetManager: Stage 181 contains a task of very large size (3001 KiB). The maximum recommended task size is 1000 KiB.\n",
      "23/02/24 03:58:30 WARN TaskSetManager: Stage 183 contains a task of very large size (2969 KiB). The maximum recommended task size is 1000 KiB.\n",
      "23/02/24 03:58:30 WARN TaskSetManager: Stage 184 contains a task of very large size (2969 KiB). The maximum recommended task size is 1000 KiB.\n"
     ]
    },
    {
     "name": "stdout",
     "output_type": "stream",
     "text": [
      "Iterations: 10\n"
     ]
    },
    {
     "name": "stderr",
     "output_type": "stream",
     "text": [
      "23/02/24 03:58:31 WARN TaskSetManager: Stage 185 contains a task of very large size (2969 KiB). The maximum recommended task size is 1000 KiB.\n",
      "23/02/24 03:58:31 WARN TaskSetManager: Stage 186 contains a task of very large size (2729 KiB). The maximum recommended task size is 1000 KiB.\n",
      "23/02/24 03:58:40 WARN TaskSetManager: Stage 333 contains a task of very large size (2969 KiB). The maximum recommended task size is 1000 KiB.\n",
      "23/02/24 03:58:41 WARN TaskSetManager: Stage 334 contains a task of very large size (2969 KiB). The maximum recommended task size is 1000 KiB.\n",
      "23/02/24 03:58:44 WARN TaskSetManager: Stage 358 contains a task of very large size (2969 KiB). The maximum recommended task size is 1000 KiB.\n",
      "23/02/24 03:58:47 WARN TaskSetManager: Stage 360 contains a task of very large size (3001 KiB). The maximum recommended task size is 1000 KiB.\n",
      "23/02/24 03:58:51 WARN TaskSetManager: Stage 362 contains a task of very large size (2969 KiB). The maximum recommended task size is 1000 KiB.\n",
      "23/02/24 03:58:51 WARN TaskSetManager: Stage 363 contains a task of very large size (2969 KiB). The maximum recommended task size is 1000 KiB.\n",
      "23/02/24 03:58:51 WARN TaskSetManager: Stage 364 contains a task of very large size (2969 KiB). The maximum recommended task size is 1000 KiB.\n"
     ]
    },
    {
     "name": "stdout",
     "output_type": "stream",
     "text": [
      "Iterations: 15\n"
     ]
    },
    {
     "name": "stderr",
     "output_type": "stream",
     "text": [
      "23/02/24 03:58:51 WARN TaskSetManager: Stage 365 contains a task of very large size (2969 KiB). The maximum recommended task size is 1000 KiB.\n",
      "23/02/24 03:59:04 WARN TaskSetManager: Stage 572 contains a task of very large size (2969 KiB). The maximum recommended task size is 1000 KiB.\n",
      "23/02/24 03:59:05 WARN TaskSetManager: Stage 573 contains a task of very large size (2969 KiB). The maximum recommended task size is 1000 KiB.\n",
      "23/02/24 03:59:09 WARN TaskSetManager: Stage 607 contains a task of very large size (2969 KiB). The maximum recommended task size is 1000 KiB.\n",
      "23/02/24 03:59:12 WARN TaskSetManager: Stage 609 contains a task of very large size (3001 KiB). The maximum recommended task size is 1000 KiB.\n",
      "23/02/24 03:59:15 WARN TaskSetManager: Stage 611 contains a task of very large size (2969 KiB). The maximum recommended task size is 1000 KiB.\n",
      "23/02/24 03:59:15 WARN TaskSetManager: Stage 612 contains a task of very large size (2969 KiB). The maximum recommended task size is 1000 KiB.\n"
     ]
    },
    {
     "name": "stdout",
     "output_type": "stream",
     "text": [
      "Iterations: 20\n"
     ]
    },
    {
     "name": "stderr",
     "output_type": "stream",
     "text": [
      "23/02/24 03:59:15 WARN TaskSetManager: Stage 613 contains a task of very large size (2969 KiB). The maximum recommended task size is 1000 KiB.\n",
      "23/02/24 03:59:16 WARN TaskSetManager: Stage 614 contains a task of very large size (2999 KiB). The maximum recommended task size is 1000 KiB.\n",
      "23/02/24 03:59:30 WARN TaskSetManager: Stage 881 contains a task of very large size (2969 KiB). The maximum recommended task size is 1000 KiB.\n",
      "23/02/24 03:59:31 WARN TaskSetManager: Stage 882 contains a task of very large size (2969 KiB). The maximum recommended task size is 1000 KiB.\n",
      "23/02/24 03:59:35 WARN TaskSetManager: Stage 925 contains a task of very large size (2969 KiB). The maximum recommended task size is 1000 KiB.\n",
      "23/02/24 03:59:38 WARN TaskSetManager: Stage 928 contains a task of very large size (3001 KiB). The maximum recommended task size is 1000 KiB.\n",
      "23/02/24 03:59:41 WARN TaskSetManager: Stage 930 contains a task of very large size (2969 KiB). The maximum recommended task size is 1000 KiB.\n",
      "23/02/24 03:59:41 WARN TaskSetManager: Stage 931 contains a task of very large size (2969 KiB). The maximum recommended task size is 1000 KiB.\n"
     ]
    },
    {
     "name": "stdout",
     "output_type": "stream",
     "text": [
      "Regularization: 0.100000\n",
      "Iterations: 2\n"
     ]
    },
    {
     "name": "stderr",
     "output_type": "stream",
     "text": [
      "23/02/24 03:59:42 WARN TaskSetManager: Stage 932 contains a task of very large size (2969 KiB). The maximum recommended task size is 1000 KiB.\n",
      "23/02/24 03:59:42 WARN TaskSetManager: Stage 933 contains a task of very large size (3001 KiB). The maximum recommended task size is 1000 KiB.\n",
      "23/02/24 03:59:47 WARN TaskSetManager: Stage 984 contains a task of very large size (2969 KiB). The maximum recommended task size is 1000 KiB.\n",
      "23/02/24 03:59:48 WARN TaskSetManager: Stage 985 contains a task of very large size (2969 KiB). The maximum recommended task size is 1000 KiB.\n",
      "23/02/24 03:59:51 WARN TaskSetManager: Stage 992 contains a task of very large size (2969 KiB). The maximum recommended task size is 1000 KiB.\n",
      "23/02/24 03:59:54 WARN TaskSetManager: Stage 995 contains a task of very large size (3001 KiB). The maximum recommended task size is 1000 KiB.\n",
      "23/02/24 03:59:57 WARN TaskSetManager: Stage 997 contains a task of very large size (2969 KiB). The maximum recommended task size is 1000 KiB.\n",
      "23/02/24 03:59:57 WARN TaskSetManager: Stage 998 contains a task of very large size (2969 KiB). The maximum recommended task size is 1000 KiB.\n",
      "23/02/24 03:59:58 WARN TaskSetManager: Stage 999 contains a task of very large size (2969 KiB). The maximum recommended task size is 1000 KiB.\n"
     ]
    },
    {
     "name": "stdout",
     "output_type": "stream",
     "text": [
      "Iterations: 5\n"
     ]
    },
    {
     "name": "stderr",
     "output_type": "stream",
     "text": [
      "23/02/24 03:59:58 WARN TaskSetManager: Stage 1000 contains a task of very large size (2969 KiB). The maximum recommended task size is 1000 KiB.\n",
      "23/02/24 04:00:04 WARN TaskSetManager: Stage 1087 contains a task of very large size (2969 KiB). The maximum recommended task size is 1000 KiB.\n",
      "23/02/24 04:00:05 WARN TaskSetManager: Stage 1088 contains a task of very large size (2969 KiB). The maximum recommended task size is 1000 KiB.\n",
      "23/02/24 04:00:08 WARN TaskSetManager: Stage 1102 contains a task of very large size (2969 KiB). The maximum recommended task size is 1000 KiB.\n",
      "23/02/24 04:00:11 WARN TaskSetManager: Stage 1104 contains a task of very large size (3001 KiB). The maximum recommended task size is 1000 KiB.\n",
      "23/02/24 04:00:15 WARN TaskSetManager: Stage 1106 contains a task of very large size (2969 KiB). The maximum recommended task size is 1000 KiB.\n",
      "23/02/24 04:00:15 WARN TaskSetManager: Stage 1107 contains a task of very large size (2969 KiB). The maximum recommended task size is 1000 KiB.\n",
      "23/02/24 04:00:15 WARN TaskSetManager: Stage 1108 contains a task of very large size (2969 KiB). The maximum recommended task size is 1000 KiB.\n"
     ]
    },
    {
     "name": "stdout",
     "output_type": "stream",
     "text": [
      "Iterations: 10\n"
     ]
    },
    {
     "name": "stderr",
     "output_type": "stream",
     "text": [
      "23/02/24 04:00:15 WARN TaskSetManager: Stage 1109 contains a task of very large size (2999 KiB). The maximum recommended task size is 1000 KiB.\n",
      "23/02/24 04:00:24 WARN TaskSetManager: Stage 1256 contains a task of very large size (2969 KiB). The maximum recommended task size is 1000 KiB.\n",
      "23/02/24 04:00:24 WARN TaskSetManager: Stage 1257 contains a task of very large size (2969 KiB). The maximum recommended task size is 1000 KiB.\n",
      "23/02/24 04:00:27 WARN TaskSetManager: Stage 1280 contains a task of very large size (2969 KiB). The maximum recommended task size is 1000 KiB.\n",
      "23/02/24 04:00:30 WARN TaskSetManager: Stage 1283 contains a task of very large size (2999 KiB). The maximum recommended task size is 1000 KiB.\n",
      "23/02/24 04:00:33 WARN TaskSetManager: Stage 1285 contains a task of very large size (2969 KiB). The maximum recommended task size is 1000 KiB.\n",
      "23/02/24 04:00:34 WARN TaskSetManager: Stage 1286 contains a task of very large size (2969 KiB). The maximum recommended task size is 1000 KiB.\n",
      "23/02/24 04:00:34 WARN TaskSetManager: Stage 1287 contains a task of very large size (2969 KiB). The maximum recommended task size is 1000 KiB.\n"
     ]
    },
    {
     "name": "stdout",
     "output_type": "stream",
     "text": [
      "Iterations: 15\n"
     ]
    },
    {
     "name": "stderr",
     "output_type": "stream",
     "text": [
      "23/02/24 04:00:34 WARN TaskSetManager: Stage 1288 contains a task of very large size (2969 KiB). The maximum recommended task size is 1000 KiB.\n",
      "23/02/24 04:00:44 WARN TaskSetManager: Stage 1495 contains a task of very large size (2969 KiB). The maximum recommended task size is 1000 KiB.\n",
      "23/02/24 04:00:45 WARN TaskSetManager: Stage 1496 contains a task of very large size (2969 KiB). The maximum recommended task size is 1000 KiB.\n",
      "23/02/24 04:00:48 WARN TaskSetManager: Stage 1530 contains a task of very large size (2969 KiB). The maximum recommended task size is 1000 KiB.\n",
      "23/02/24 04:00:51 WARN TaskSetManager: Stage 1532 contains a task of very large size (2729 KiB). The maximum recommended task size is 1000 KiB.\n",
      "23/02/24 04:00:55 WARN TaskSetManager: Stage 1534 contains a task of very large size (2969 KiB). The maximum recommended task size is 1000 KiB.\n",
      "23/02/24 04:00:55 WARN TaskSetManager: Stage 1535 contains a task of very large size (2969 KiB). The maximum recommended task size is 1000 KiB.\n",
      "23/02/24 04:00:55 WARN TaskSetManager: Stage 1536 contains a task of very large size (2969 KiB). The maximum recommended task size is 1000 KiB.\n"
     ]
    },
    {
     "name": "stdout",
     "output_type": "stream",
     "text": [
      "Iterations: 20\n"
     ]
    },
    {
     "name": "stderr",
     "output_type": "stream",
     "text": [
      "23/02/24 04:00:55 WARN TaskSetManager: Stage 1537 contains a task of very large size (2969 KiB). The maximum recommended task size is 1000 KiB.\n",
      "23/02/24 04:01:09 WARN TaskSetManager: Stage 1804 contains a task of very large size (2969 KiB). The maximum recommended task size is 1000 KiB.\n",
      "23/02/24 04:01:10 WARN TaskSetManager: Stage 1805 contains a task of very large size (2969 KiB). The maximum recommended task size is 1000 KiB.\n",
      "23/02/24 04:01:13 WARN TaskSetManager: Stage 1849 contains a task of very large size (2969 KiB). The maximum recommended task size is 1000 KiB.\n",
      "23/02/24 04:01:17 WARN TaskSetManager: Stage 1851 contains a task of very large size (3001 KiB). The maximum recommended task size is 1000 KiB.\n",
      "23/02/24 04:01:20 WARN TaskSetManager: Stage 1853 contains a task of very large size (2969 KiB). The maximum recommended task size is 1000 KiB.\n",
      "23/02/24 04:01:20 WARN TaskSetManager: Stage 1854 contains a task of very large size (2969 KiB). The maximum recommended task size is 1000 KiB.\n"
     ]
    },
    {
     "name": "stdout",
     "output_type": "stream",
     "text": [
      "Regularization: 1.000000\n",
      "Iterations: 2\n"
     ]
    },
    {
     "name": "stderr",
     "output_type": "stream",
     "text": [
      "23/02/24 04:01:20 WARN TaskSetManager: Stage 1855 contains a task of very large size (2969 KiB). The maximum recommended task size is 1000 KiB.\n",
      "23/02/24 04:01:21 WARN TaskSetManager: Stage 1856 contains a task of very large size (3002 KiB). The maximum recommended task size is 1000 KiB.\n",
      "23/02/24 04:01:26 WARN TaskSetManager: Stage 1907 contains a task of very large size (2969 KiB). The maximum recommended task size is 1000 KiB.\n",
      "23/02/24 04:01:27 WARN TaskSetManager: Stage 1908 contains a task of very large size (2969 KiB). The maximum recommended task size is 1000 KiB.\n",
      "23/02/24 04:01:30 WARN TaskSetManager: Stage 1916 contains a task of very large size (2969 KiB). The maximum recommended task size is 1000 KiB.\n",
      "23/02/24 04:01:34 WARN TaskSetManager: Stage 1918 contains a task of very large size (2729 KiB). The maximum recommended task size is 1000 KiB.\n",
      "23/02/24 04:01:38 WARN TaskSetManager: Stage 1920 contains a task of very large size (2969 KiB). The maximum recommended task size is 1000 KiB.\n",
      "23/02/24 04:01:38 WARN TaskSetManager: Stage 1921 contains a task of very large size (2969 KiB). The maximum recommended task size is 1000 KiB.\n",
      "23/02/24 04:01:38 WARN TaskSetManager: Stage 1922 contains a task of very large size (2969 KiB). The maximum recommended task size is 1000 KiB.\n"
     ]
    },
    {
     "name": "stdout",
     "output_type": "stream",
     "text": [
      "Iterations: 5\n"
     ]
    },
    {
     "name": "stderr",
     "output_type": "stream",
     "text": [
      "23/02/24 04:01:38 WARN TaskSetManager: Stage 1923 contains a task of very large size (3001 KiB). The maximum recommended task size is 1000 KiB.\n",
      "23/02/24 04:01:44 WARN TaskSetManager: Stage 2010 contains a task of very large size (2969 KiB). The maximum recommended task size is 1000 KiB.\n",
      "23/02/24 04:01:45 WARN TaskSetManager: Stage 2011 contains a task of very large size (2969 KiB). The maximum recommended task size is 1000 KiB.\n",
      "23/02/24 04:01:48 WARN TaskSetManager: Stage 2024 contains a task of very large size (2969 KiB). The maximum recommended task size is 1000 KiB.\n",
      "23/02/24 04:01:51 WARN TaskSetManager: Stage 2027 contains a task of very large size (2970 KiB). The maximum recommended task size is 1000 KiB.\n",
      "23/02/24 04:01:55 WARN TaskSetManager: Stage 2029 contains a task of very large size (2969 KiB). The maximum recommended task size is 1000 KiB.\n",
      "23/02/24 04:01:55 WARN TaskSetManager: Stage 2030 contains a task of very large size (2969 KiB). The maximum recommended task size is 1000 KiB.\n"
     ]
    },
    {
     "name": "stdout",
     "output_type": "stream",
     "text": [
      "Iterations: 10\n"
     ]
    },
    {
     "name": "stderr",
     "output_type": "stream",
     "text": [
      "23/02/24 04:01:55 WARN TaskSetManager: Stage 2031 contains a task of very large size (2969 KiB). The maximum recommended task size is 1000 KiB.\n",
      "23/02/24 04:01:55 WARN TaskSetManager: Stage 2032 contains a task of very large size (3001 KiB). The maximum recommended task size is 1000 KiB.\n",
      "23/02/24 04:02:04 WARN TaskSetManager: Stage 2179 contains a task of very large size (2969 KiB). The maximum recommended task size is 1000 KiB.\n",
      "23/02/24 04:02:06 WARN TaskSetManager: Stage 2180 contains a task of very large size (2969 KiB). The maximum recommended task size is 1000 KiB.\n",
      "23/02/24 04:02:09 WARN TaskSetManager: Stage 2203 contains a task of very large size (2969 KiB). The maximum recommended task size is 1000 KiB.\n",
      "23/02/24 04:02:12 WARN TaskSetManager: Stage 2206 contains a task of very large size (3001 KiB). The maximum recommended task size is 1000 KiB.\n",
      "23/02/24 04:02:16 WARN TaskSetManager: Stage 2208 contains a task of very large size (2969 KiB). The maximum recommended task size is 1000 KiB.\n",
      "23/02/24 04:02:16 WARN TaskSetManager: Stage 2209 contains a task of very large size (2969 KiB). The maximum recommended task size is 1000 KiB.\n",
      "23/02/24 04:02:16 WARN TaskSetManager: Stage 2210 contains a task of very large size (2969 KiB). The maximum recommended task size is 1000 KiB.\n"
     ]
    },
    {
     "name": "stdout",
     "output_type": "stream",
     "text": [
      "Iterations: 15\n"
     ]
    },
    {
     "name": "stderr",
     "output_type": "stream",
     "text": [
      "23/02/24 04:02:16 WARN TaskSetManager: Stage 2211 contains a task of very large size (3002 KiB). The maximum recommended task size is 1000 KiB.\n",
      "23/02/24 04:02:29 WARN TaskSetManager: Stage 2418 contains a task of very large size (2969 KiB). The maximum recommended task size is 1000 KiB.\n",
      "23/02/24 04:02:30 WARN TaskSetManager: Stage 2419 contains a task of very large size (2969 KiB). The maximum recommended task size is 1000 KiB.\n",
      "23/02/24 04:02:33 WARN TaskSetManager: Stage 2452 contains a task of very large size (2969 KiB). The maximum recommended task size is 1000 KiB.\n",
      "23/02/24 04:02:36 WARN TaskSetManager: Stage 2455 contains a task of very large size (2999 KiB). The maximum recommended task size is 1000 KiB.\n",
      "23/02/24 04:02:40 WARN TaskSetManager: Stage 2457 contains a task of very large size (2969 KiB). The maximum recommended task size is 1000 KiB.\n",
      "23/02/24 04:02:40 WARN TaskSetManager: Stage 2458 contains a task of very large size (2969 KiB). The maximum recommended task size is 1000 KiB.\n"
     ]
    },
    {
     "name": "stdout",
     "output_type": "stream",
     "text": [
      "Iterations: 20\n"
     ]
    },
    {
     "name": "stderr",
     "output_type": "stream",
     "text": [
      "23/02/24 04:02:40 WARN TaskSetManager: Stage 2459 contains a task of very large size (2969 KiB). The maximum recommended task size is 1000 KiB.\n",
      "23/02/24 04:02:40 WARN TaskSetManager: Stage 2460 contains a task of very large size (3002 KiB). The maximum recommended task size is 1000 KiB.\n",
      "23/02/24 04:02:54 WARN TaskSetManager: Stage 2727 contains a task of very large size (2969 KiB). The maximum recommended task size is 1000 KiB.\n",
      "23/02/24 04:02:54 WARN TaskSetManager: Stage 2728 contains a task of very large size (2969 KiB). The maximum recommended task size is 1000 KiB.\n",
      "23/02/24 04:02:58 WARN TaskSetManager: Stage 2771 contains a task of very large size (2969 KiB). The maximum recommended task size is 1000 KiB.\n",
      "23/02/24 04:03:01 WARN TaskSetManager: Stage 2774 contains a task of very large size (2970 KiB). The maximum recommended task size is 1000 KiB.\n",
      "23/02/24 04:03:05 WARN TaskSetManager: Stage 2776 contains a task of very large size (2969 KiB). The maximum recommended task size is 1000 KiB.\n",
      "23/02/24 04:03:05 WARN TaskSetManager: Stage 2777 contains a task of very large size (2969 KiB). The maximum recommended task size is 1000 KiB.\n"
     ]
    },
    {
     "name": "stdout",
     "output_type": "stream",
     "text": [
      "Regularization: 10.000000\n",
      "Iterations: 2\n"
     ]
    },
    {
     "name": "stderr",
     "output_type": "stream",
     "text": [
      "23/02/24 04:03:05 WARN TaskSetManager: Stage 2778 contains a task of very large size (2969 KiB). The maximum recommended task size is 1000 KiB.\n",
      "23/02/24 04:03:05 WARN TaskSetManager: Stage 2779 contains a task of very large size (2999 KiB). The maximum recommended task size is 1000 KiB.\n",
      "23/02/24 04:03:11 WARN TaskSetManager: Stage 2830 contains a task of very large size (2969 KiB). The maximum recommended task size is 1000 KiB.\n",
      "23/02/24 04:03:11 WARN TaskSetManager: Stage 2831 contains a task of very large size (2969 KiB). The maximum recommended task size is 1000 KiB.\n",
      "23/02/24 04:03:14 WARN TaskSetManager: Stage 2839 contains a task of very large size (2969 KiB). The maximum recommended task size is 1000 KiB.\n",
      "23/02/24 04:03:17 WARN TaskSetManager: Stage 2841 contains a task of very large size (3001 KiB). The maximum recommended task size is 1000 KiB.\n",
      "23/02/24 04:03:21 WARN TaskSetManager: Stage 2843 contains a task of very large size (2969 KiB). The maximum recommended task size is 1000 KiB.\n",
      "23/02/24 04:03:21 WARN TaskSetManager: Stage 2844 contains a task of very large size (2969 KiB). The maximum recommended task size is 1000 KiB.\n"
     ]
    },
    {
     "name": "stdout",
     "output_type": "stream",
     "text": [
      "Iterations: 5\n"
     ]
    },
    {
     "name": "stderr",
     "output_type": "stream",
     "text": [
      "23/02/24 04:03:21 WARN TaskSetManager: Stage 2845 contains a task of very large size (2969 KiB). The maximum recommended task size is 1000 KiB.\n",
      "23/02/24 04:03:22 WARN TaskSetManager: Stage 2846 contains a task of very large size (2969 KiB). The maximum recommended task size is 1000 KiB.\n",
      "23/02/24 04:03:28 WARN TaskSetManager: Stage 2933 contains a task of very large size (2969 KiB). The maximum recommended task size is 1000 KiB.\n",
      "23/02/24 04:03:29 WARN TaskSetManager: Stage 2934 contains a task of very large size (2969 KiB). The maximum recommended task size is 1000 KiB.\n",
      "23/02/24 04:03:32 WARN TaskSetManager: Stage 2948 contains a task of very large size (2969 KiB). The maximum recommended task size is 1000 KiB.\n",
      "23/02/24 04:03:35 WARN TaskSetManager: Stage 2950 contains a task of very large size (2999 KiB). The maximum recommended task size is 1000 KiB.\n",
      "                                                                                \r"
     ]
    },
    {
     "name": "stdout",
     "output_type": "stream",
     "text": [
      "Iterations: 10\n"
     ]
    },
    {
     "name": "stderr",
     "output_type": "stream",
     "text": [
      "23/02/24 04:03:38 WARN TaskSetManager: Stage 2952 contains a task of very large size (2969 KiB). The maximum recommended task size is 1000 KiB.\n",
      "23/02/24 04:03:38 WARN TaskSetManager: Stage 2953 contains a task of very large size (2969 KiB). The maximum recommended task size is 1000 KiB.\n",
      "23/02/24 04:03:38 WARN TaskSetManager: Stage 2954 contains a task of very large size (2969 KiB). The maximum recommended task size is 1000 KiB.\n",
      "23/02/24 04:03:39 WARN TaskSetManager: Stage 2955 contains a task of very large size (2729 KiB). The maximum recommended task size is 1000 KiB.\n",
      "23/02/24 04:03:49 WARN TaskSetManager: Stage 3102 contains a task of very large size (2969 KiB). The maximum recommended task size is 1000 KiB.\n",
      "23/02/24 04:03:49 WARN TaskSetManager: Stage 3103 contains a task of very large size (2969 KiB). The maximum recommended task size is 1000 KiB.\n",
      "23/02/24 04:03:52 WARN TaskSetManager: Stage 3127 contains a task of very large size (2969 KiB). The maximum recommended task size is 1000 KiB.\n",
      "23/02/24 04:03:55 WARN TaskSetManager: Stage 3129 contains a task of very large size (2999 KiB). The maximum recommended task size is 1000 KiB.\n",
      "23/02/24 04:03:59 WARN TaskSetManager: Stage 3131 contains a task of very large size (2969 KiB). The maximum recommended task size is 1000 KiB.\n",
      "23/02/24 04:03:59 WARN TaskSetManager: Stage 3132 contains a task of very large size (2969 KiB). The maximum recommended task size is 1000 KiB.\n"
     ]
    },
    {
     "name": "stdout",
     "output_type": "stream",
     "text": [
      "Iterations: 15\n"
     ]
    },
    {
     "name": "stderr",
     "output_type": "stream",
     "text": [
      "23/02/24 04:03:59 WARN TaskSetManager: Stage 3133 contains a task of very large size (2969 KiB). The maximum recommended task size is 1000 KiB.\n",
      "23/02/24 04:04:00 WARN TaskSetManager: Stage 3134 contains a task of very large size (2969 KiB). The maximum recommended task size is 1000 KiB.\n",
      "23/02/24 04:04:10 WARN TaskSetManager: Stage 3341 contains a task of very large size (2969 KiB). The maximum recommended task size is 1000 KiB.\n",
      "23/02/24 04:04:11 WARN TaskSetManager: Stage 3342 contains a task of very large size (2969 KiB). The maximum recommended task size is 1000 KiB.\n",
      "23/02/24 04:04:15 WARN TaskSetManager: Stage 3376 contains a task of very large size (2969 KiB). The maximum recommended task size is 1000 KiB.\n",
      "23/02/24 04:04:18 WARN TaskSetManager: Stage 3378 contains a task of very large size (2999 KiB). The maximum recommended task size is 1000 KiB.\n",
      "23/02/24 04:04:22 WARN TaskSetManager: Stage 3380 contains a task of very large size (2969 KiB). The maximum recommended task size is 1000 KiB.\n",
      "23/02/24 04:04:22 WARN TaskSetManager: Stage 3381 contains a task of very large size (2969 KiB). The maximum recommended task size is 1000 KiB.\n",
      "23/02/24 04:04:22 WARN TaskSetManager: Stage 3382 contains a task of very large size (2969 KiB). The maximum recommended task size is 1000 KiB.\n"
     ]
    },
    {
     "name": "stdout",
     "output_type": "stream",
     "text": [
      "Iterations: 20\n"
     ]
    },
    {
     "name": "stderr",
     "output_type": "stream",
     "text": [
      "23/02/24 04:04:22 WARN TaskSetManager: Stage 3383 contains a task of very large size (2969 KiB). The maximum recommended task size is 1000 KiB.\n",
      "23/02/24 04:04:37 WARN TaskSetManager: Stage 3650 contains a task of very large size (2969 KiB). The maximum recommended task size is 1000 KiB.\n",
      "23/02/24 04:04:37 WARN TaskSetManager: Stage 3651 contains a task of very large size (2969 KiB). The maximum recommended task size is 1000 KiB.\n",
      "23/02/24 04:04:40 WARN TaskSetManager: Stage 3695 contains a task of very large size (2969 KiB). The maximum recommended task size is 1000 KiB.\n",
      "23/02/24 04:04:43 WARN TaskSetManager: Stage 3697 contains a task of very large size (2999 KiB). The maximum recommended task size is 1000 KiB.\n",
      "23/02/24 04:04:47 WARN TaskSetManager: Stage 3699 contains a task of very large size (2969 KiB). The maximum recommended task size is 1000 KiB.\n",
      "23/02/24 04:04:47 WARN TaskSetManager: Stage 3700 contains a task of very large size (2969 KiB). The maximum recommended task size is 1000 KiB.\n"
     ]
    },
    {
     "name": "stdout",
     "output_type": "stream",
     "text": [
      "Rank: 10\n",
      "Regularization: 0.010000\n",
      "Iterations: 2\n"
     ]
    },
    {
     "name": "stderr",
     "output_type": "stream",
     "text": [
      "23/02/24 04:04:47 WARN TaskSetManager: Stage 3701 contains a task of very large size (2969 KiB). The maximum recommended task size is 1000 KiB.\n",
      "23/02/24 04:04:47 WARN TaskSetManager: Stage 3702 contains a task of very large size (2999 KiB). The maximum recommended task size is 1000 KiB.\n",
      "23/02/24 04:04:53 WARN TaskSetManager: Stage 3753 contains a task of very large size (2969 KiB). The maximum recommended task size is 1000 KiB.\n",
      "23/02/24 04:04:54 WARN TaskSetManager: Stage 3754 contains a task of very large size (2969 KiB). The maximum recommended task size is 1000 KiB.\n",
      "23/02/24 04:04:57 WARN TaskSetManager: Stage 3762 contains a task of very large size (2969 KiB). The maximum recommended task size is 1000 KiB.\n",
      "23/02/24 04:05:01 WARN TaskSetManager: Stage 3764 contains a task of very large size (2999 KiB). The maximum recommended task size is 1000 KiB.\n",
      "23/02/24 04:05:04 WARN TaskSetManager: Stage 3766 contains a task of very large size (2969 KiB). The maximum recommended task size is 1000 KiB.\n",
      "23/02/24 04:05:04 WARN TaskSetManager: Stage 3767 contains a task of very large size (2969 KiB). The maximum recommended task size is 1000 KiB.\n",
      "23/02/24 04:05:04 WARN TaskSetManager: Stage 3768 contains a task of very large size (2969 KiB). The maximum recommended task size is 1000 KiB.\n"
     ]
    },
    {
     "name": "stdout",
     "output_type": "stream",
     "text": [
      "Iterations: 5\n"
     ]
    },
    {
     "name": "stderr",
     "output_type": "stream",
     "text": [
      "23/02/24 04:05:05 WARN TaskSetManager: Stage 3769 contains a task of very large size (2969 KiB). The maximum recommended task size is 1000 KiB.\n",
      "23/02/24 04:05:13 WARN TaskSetManager: Stage 3856 contains a task of very large size (2969 KiB). The maximum recommended task size is 1000 KiB.\n",
      "23/02/24 04:05:14 WARN TaskSetManager: Stage 3857 contains a task of very large size (2969 KiB). The maximum recommended task size is 1000 KiB.\n",
      "23/02/24 04:05:17 WARN TaskSetManager: Stage 3870 contains a task of very large size (2969 KiB). The maximum recommended task size is 1000 KiB.\n",
      "23/02/24 04:05:20 WARN TaskSetManager: Stage 3873 contains a task of very large size (2970 KiB). The maximum recommended task size is 1000 KiB.\n",
      "23/02/24 04:05:24 WARN TaskSetManager: Stage 3875 contains a task of very large size (2969 KiB). The maximum recommended task size is 1000 KiB.\n"
     ]
    },
    {
     "name": "stdout",
     "output_type": "stream",
     "text": [
      "Iterations: 10\n"
     ]
    },
    {
     "name": "stderr",
     "output_type": "stream",
     "text": [
      "23/02/24 04:05:24 WARN TaskSetManager: Stage 3876 contains a task of very large size (2969 KiB). The maximum recommended task size is 1000 KiB.\n",
      "23/02/24 04:05:24 WARN TaskSetManager: Stage 3877 contains a task of very large size (2969 KiB). The maximum recommended task size is 1000 KiB.\n",
      "23/02/24 04:05:24 WARN TaskSetManager: Stage 3878 contains a task of very large size (2999 KiB). The maximum recommended task size is 1000 KiB.\n",
      "23/02/24 04:05:36 WARN TaskSetManager: Stage 4025 contains a task of very large size (2969 KiB). The maximum recommended task size is 1000 KiB.\n",
      "23/02/24 04:05:37 WARN TaskSetManager: Stage 4026 contains a task of very large size (2969 KiB). The maximum recommended task size is 1000 KiB.\n",
      "23/02/24 04:05:41 WARN TaskSetManager: Stage 4049 contains a task of very large size (2969 KiB). The maximum recommended task size is 1000 KiB.\n",
      "23/02/24 04:05:44 WARN TaskSetManager: Stage 4052 contains a task of very large size (2970 KiB). The maximum recommended task size is 1000 KiB.\n",
      "23/02/24 04:05:47 WARN TaskSetManager: Stage 4054 contains a task of very large size (2969 KiB). The maximum recommended task size is 1000 KiB.\n",
      "23/02/24 04:05:47 WARN TaskSetManager: Stage 4055 contains a task of very large size (2969 KiB). The maximum recommended task size is 1000 KiB.\n"
     ]
    },
    {
     "name": "stdout",
     "output_type": "stream",
     "text": [
      "Iterations: 15\n"
     ]
    },
    {
     "name": "stderr",
     "output_type": "stream",
     "text": [
      "23/02/24 04:05:47 WARN TaskSetManager: Stage 4056 contains a task of very large size (2969 KiB). The maximum recommended task size is 1000 KiB.\n",
      "23/02/24 04:05:48 WARN TaskSetManager: Stage 4057 contains a task of very large size (3001 KiB). The maximum recommended task size is 1000 KiB.\n",
      "23/02/24 04:06:03 WARN TaskSetManager: Stage 4264 contains a task of very large size (2969 KiB). The maximum recommended task size is 1000 KiB.\n",
      "23/02/24 04:06:04 WARN TaskSetManager: Stage 4265 contains a task of very large size (2969 KiB). The maximum recommended task size is 1000 KiB.\n",
      "23/02/24 04:06:08 WARN TaskSetManager: Stage 4299 contains a task of very large size (2969 KiB). The maximum recommended task size is 1000 KiB.\n",
      "23/02/24 04:06:11 WARN TaskSetManager: Stage 4301 contains a task of very large size (2970 KiB). The maximum recommended task size is 1000 KiB.\n",
      "23/02/24 04:06:15 WARN TaskSetManager: Stage 4303 contains a task of very large size (2969 KiB). The maximum recommended task size is 1000 KiB.\n",
      "23/02/24 04:06:15 WARN TaskSetManager: Stage 4304 contains a task of very large size (2969 KiB). The maximum recommended task size is 1000 KiB.\n"
     ]
    },
    {
     "name": "stdout",
     "output_type": "stream",
     "text": [
      "Iterations: 20\n"
     ]
    },
    {
     "name": "stderr",
     "output_type": "stream",
     "text": [
      "23/02/24 04:06:15 WARN TaskSetManager: Stage 4305 contains a task of very large size (2969 KiB). The maximum recommended task size is 1000 KiB.\n",
      "23/02/24 04:06:16 WARN TaskSetManager: Stage 4306 contains a task of very large size (2729 KiB). The maximum recommended task size is 1000 KiB.\n",
      "23/02/24 04:06:34 WARN TaskSetManager: Stage 4573 contains a task of very large size (2969 KiB). The maximum recommended task size is 1000 KiB.\n",
      "23/02/24 04:06:34 WARN TaskSetManager: Stage 4574 contains a task of very large size (2969 KiB). The maximum recommended task size is 1000 KiB.\n",
      "23/02/24 04:06:38 WARN TaskSetManager: Stage 4618 contains a task of very large size (2969 KiB). The maximum recommended task size is 1000 KiB.\n",
      "23/02/24 04:06:41 WARN TaskSetManager: Stage 4620 contains a task of very large size (2729 KiB). The maximum recommended task size is 1000 KiB.\n",
      "23/02/24 04:06:45 WARN TaskSetManager: Stage 4622 contains a task of very large size (2969 KiB). The maximum recommended task size is 1000 KiB.\n",
      "23/02/24 04:06:45 WARN TaskSetManager: Stage 4623 contains a task of very large size (2969 KiB). The maximum recommended task size is 1000 KiB.\n"
     ]
    },
    {
     "name": "stdout",
     "output_type": "stream",
     "text": [
      "Regularization: 0.100000\n",
      "Iterations: 2\n"
     ]
    },
    {
     "name": "stderr",
     "output_type": "stream",
     "text": [
      "23/02/24 04:06:45 WARN TaskSetManager: Stage 4624 contains a task of very large size (2969 KiB). The maximum recommended task size is 1000 KiB.\n",
      "23/02/24 04:06:45 WARN TaskSetManager: Stage 4625 contains a task of very large size (3001 KiB). The maximum recommended task size is 1000 KiB.\n",
      "23/02/24 04:06:51 WARN TaskSetManager: Stage 4676 contains a task of very large size (2969 KiB). The maximum recommended task size is 1000 KiB.\n",
      "23/02/24 04:06:52 WARN TaskSetManager: Stage 4677 contains a task of very large size (2969 KiB). The maximum recommended task size is 1000 KiB.\n",
      "23/02/24 04:06:56 WARN TaskSetManager: Stage 4685 contains a task of very large size (2969 KiB). The maximum recommended task size is 1000 KiB.\n",
      "23/02/24 04:06:59 WARN TaskSetManager: Stage 4687 contains a task of very large size (2970 KiB). The maximum recommended task size is 1000 KiB.\n",
      "23/02/24 04:07:02 WARN TaskSetManager: Stage 4689 contains a task of very large size (2969 KiB). The maximum recommended task size is 1000 KiB.\n",
      "23/02/24 04:07:02 WARN TaskSetManager: Stage 4690 contains a task of very large size (2969 KiB). The maximum recommended task size is 1000 KiB.\n"
     ]
    },
    {
     "name": "stdout",
     "output_type": "stream",
     "text": [
      "Iterations: 5\n"
     ]
    },
    {
     "name": "stderr",
     "output_type": "stream",
     "text": [
      "23/02/24 04:07:02 WARN TaskSetManager: Stage 4691 contains a task of very large size (2969 KiB). The maximum recommended task size is 1000 KiB.\n",
      "23/02/24 04:07:03 WARN TaskSetManager: Stage 4692 contains a task of very large size (3002 KiB). The maximum recommended task size is 1000 KiB.\n",
      "23/02/24 04:07:10 WARN TaskSetManager: Stage 4779 contains a task of very large size (2969 KiB). The maximum recommended task size is 1000 KiB.\n",
      "23/02/24 04:07:11 WARN TaskSetManager: Stage 4780 contains a task of very large size (2969 KiB). The maximum recommended task size is 1000 KiB.\n",
      "23/02/24 04:07:15 WARN TaskSetManager: Stage 4793 contains a task of very large size (2969 KiB). The maximum recommended task size is 1000 KiB.\n",
      "23/02/24 04:07:18 WARN TaskSetManager: Stage 4796 contains a task of very large size (2970 KiB). The maximum recommended task size is 1000 KiB.\n",
      "23/02/24 04:07:21 WARN TaskSetManager: Stage 4798 contains a task of very large size (2969 KiB). The maximum recommended task size is 1000 KiB.\n",
      "23/02/24 04:07:21 WARN TaskSetManager: Stage 4799 contains a task of very large size (2969 KiB). The maximum recommended task size is 1000 KiB.\n",
      "23/02/24 04:07:21 WARN TaskSetManager: Stage 4800 contains a task of very large size (2969 KiB). The maximum recommended task size is 1000 KiB.\n"
     ]
    },
    {
     "name": "stdout",
     "output_type": "stream",
     "text": [
      "Iterations: 10\n"
     ]
    },
    {
     "name": "stderr",
     "output_type": "stream",
     "text": [
      "23/02/24 04:07:21 WARN TaskSetManager: Stage 4801 contains a task of very large size (2999 KiB). The maximum recommended task size is 1000 KiB.\n",
      "23/02/24 04:07:33 WARN TaskSetManager: Stage 4948 contains a task of very large size (2969 KiB). The maximum recommended task size is 1000 KiB.\n",
      "23/02/24 04:07:34 WARN TaskSetManager: Stage 4949 contains a task of very large size (2969 KiB). The maximum recommended task size is 1000 KiB.\n",
      "23/02/24 04:07:37 WARN TaskSetManager: Stage 4973 contains a task of very large size (2969 KiB). The maximum recommended task size is 1000 KiB.\n",
      "23/02/24 04:07:40 WARN TaskSetManager: Stage 4975 contains a task of very large size (2970 KiB). The maximum recommended task size is 1000 KiB.\n",
      "23/02/24 04:07:44 WARN TaskSetManager: Stage 4977 contains a task of very large size (2969 KiB). The maximum recommended task size is 1000 KiB.\n",
      "23/02/24 04:07:44 WARN TaskSetManager: Stage 4978 contains a task of very large size (2969 KiB). The maximum recommended task size is 1000 KiB.\n"
     ]
    },
    {
     "name": "stdout",
     "output_type": "stream",
     "text": [
      "Iterations: 15\n"
     ]
    },
    {
     "name": "stderr",
     "output_type": "stream",
     "text": [
      "23/02/24 04:07:44 WARN TaskSetManager: Stage 4979 contains a task of very large size (2969 KiB). The maximum recommended task size is 1000 KiB.\n",
      "23/02/24 04:07:44 WARN TaskSetManager: Stage 4980 contains a task of very large size (3001 KiB). The maximum recommended task size is 1000 KiB.\n",
      "23/02/24 04:07:58 WARN TaskSetManager: Stage 5187 contains a task of very large size (2969 KiB). The maximum recommended task size is 1000 KiB.\n",
      "23/02/24 04:07:59 WARN TaskSetManager: Stage 5188 contains a task of very large size (2969 KiB). The maximum recommended task size is 1000 KiB.\n",
      "23/02/24 04:08:02 WARN TaskSetManager: Stage 5222 contains a task of very large size (2969 KiB). The maximum recommended task size is 1000 KiB.\n",
      "23/02/24 04:08:05 WARN TaskSetManager: Stage 5224 contains a task of very large size (2970 KiB). The maximum recommended task size is 1000 KiB.\n",
      "23/02/24 04:08:09 WARN TaskSetManager: Stage 5226 contains a task of very large size (2969 KiB). The maximum recommended task size is 1000 KiB.\n"
     ]
    },
    {
     "name": "stdout",
     "output_type": "stream",
     "text": [
      "Iterations: 20\n"
     ]
    },
    {
     "name": "stderr",
     "output_type": "stream",
     "text": [
      "23/02/24 04:08:09 WARN TaskSetManager: Stage 5227 contains a task of very large size (2969 KiB). The maximum recommended task size is 1000 KiB.\n",
      "23/02/24 04:08:09 WARN TaskSetManager: Stage 5228 contains a task of very large size (2969 KiB). The maximum recommended task size is 1000 KiB.\n",
      "23/02/24 04:08:09 WARN TaskSetManager: Stage 5229 contains a task of very large size (3001 KiB). The maximum recommended task size is 1000 KiB.\n",
      "23/02/24 04:08:27 WARN TaskSetManager: Stage 5496 contains a task of very large size (2969 KiB). The maximum recommended task size is 1000 KiB.\n",
      "23/02/24 04:08:29 WARN TaskSetManager: Stage 5497 contains a task of very large size (2969 KiB). The maximum recommended task size is 1000 KiB.\n",
      "23/02/24 04:08:32 WARN TaskSetManager: Stage 5540 contains a task of very large size (2969 KiB). The maximum recommended task size is 1000 KiB.\n",
      "23/02/24 04:08:35 WARN TaskSetManager: Stage 5543 contains a task of very large size (3001 KiB). The maximum recommended task size is 1000 KiB.\n",
      "23/02/24 04:08:39 WARN TaskSetManager: Stage 5545 contains a task of very large size (2969 KiB). The maximum recommended task size is 1000 KiB.\n"
     ]
    },
    {
     "name": "stdout",
     "output_type": "stream",
     "text": [
      "Regularization: 1.000000\n",
      "Iterations: 2\n"
     ]
    },
    {
     "name": "stderr",
     "output_type": "stream",
     "text": [
      "23/02/24 04:08:39 WARN TaskSetManager: Stage 5546 contains a task of very large size (2969 KiB). The maximum recommended task size is 1000 KiB.\n",
      "23/02/24 04:08:39 WARN TaskSetManager: Stage 5547 contains a task of very large size (2969 KiB). The maximum recommended task size is 1000 KiB.\n",
      "23/02/24 04:08:39 WARN TaskSetManager: Stage 5548 contains a task of very large size (2999 KiB). The maximum recommended task size is 1000 KiB.\n",
      "23/02/24 04:08:45 WARN TaskSetManager: Stage 5599 contains a task of very large size (2969 KiB). The maximum recommended task size is 1000 KiB.\n",
      "23/02/24 04:08:46 WARN TaskSetManager: Stage 5600 contains a task of very large size (2969 KiB). The maximum recommended task size is 1000 KiB.\n",
      "23/02/24 04:08:49 WARN TaskSetManager: Stage 5607 contains a task of very large size (2969 KiB). The maximum recommended task size is 1000 KiB.\n",
      "23/02/24 04:08:51 WARN TaskSetManager: Stage 5610 contains a task of very large size (2729 KiB). The maximum recommended task size is 1000 KiB.\n",
      "23/02/24 04:08:55 WARN TaskSetManager: Stage 5612 contains a task of very large size (2969 KiB). The maximum recommended task size is 1000 KiB.\n",
      "23/02/24 04:08:55 WARN TaskSetManager: Stage 5613 contains a task of very large size (2969 KiB). The maximum recommended task size is 1000 KiB.\n"
     ]
    },
    {
     "name": "stdout",
     "output_type": "stream",
     "text": [
      "Iterations: 5\n"
     ]
    },
    {
     "name": "stderr",
     "output_type": "stream",
     "text": [
      "23/02/24 04:08:55 WARN TaskSetManager: Stage 5614 contains a task of very large size (2969 KiB). The maximum recommended task size is 1000 KiB.\n",
      "23/02/24 04:08:55 WARN TaskSetManager: Stage 5615 contains a task of very large size (3001 KiB). The maximum recommended task size is 1000 KiB.\n",
      "23/02/24 04:09:04 WARN TaskSetManager: Stage 5702 contains a task of very large size (2969 KiB). The maximum recommended task size is 1000 KiB.\n",
      "23/02/24 04:09:05 WARN TaskSetManager: Stage 5703 contains a task of very large size (2969 KiB). The maximum recommended task size is 1000 KiB.\n",
      "23/02/24 04:09:09 WARN TaskSetManager: Stage 5716 contains a task of very large size (2969 KiB). The maximum recommended task size is 1000 KiB.\n",
      "23/02/24 04:09:12 WARN TaskSetManager: Stage 5719 contains a task of very large size (2970 KiB). The maximum recommended task size is 1000 KiB.\n",
      "                                                                                \r"
     ]
    },
    {
     "name": "stdout",
     "output_type": "stream",
     "text": [
      "Iterations: 10\n"
     ]
    },
    {
     "name": "stderr",
     "output_type": "stream",
     "text": [
      "23/02/24 04:09:16 WARN TaskSetManager: Stage 5721 contains a task of very large size (2969 KiB). The maximum recommended task size is 1000 KiB.\n",
      "23/02/24 04:09:16 WARN TaskSetManager: Stage 5722 contains a task of very large size (2969 KiB). The maximum recommended task size is 1000 KiB.\n",
      "23/02/24 04:09:16 WARN TaskSetManager: Stage 5723 contains a task of very large size (2969 KiB). The maximum recommended task size is 1000 KiB.\n",
      "23/02/24 04:09:16 WARN TaskSetManager: Stage 5724 contains a task of very large size (3001 KiB). The maximum recommended task size is 1000 KiB.\n",
      "23/02/24 04:09:27 WARN TaskSetManager: Stage 5871 contains a task of very large size (2969 KiB). The maximum recommended task size is 1000 KiB.\n",
      "23/02/24 04:09:28 WARN TaskSetManager: Stage 5872 contains a task of very large size (2969 KiB). The maximum recommended task size is 1000 KiB.\n",
      "23/02/24 04:09:32 WARN TaskSetManager: Stage 5895 contains a task of very large size (2969 KiB). The maximum recommended task size is 1000 KiB.\n",
      "23/02/24 04:09:35 WARN TaskSetManager: Stage 5898 contains a task of very large size (3001 KiB). The maximum recommended task size is 1000 KiB.\n",
      "23/02/24 04:09:38 WARN TaskSetManager: Stage 5900 contains a task of very large size (2969 KiB). The maximum recommended task size is 1000 KiB.\n",
      "23/02/24 04:09:38 WARN TaskSetManager: Stage 5901 contains a task of very large size (2969 KiB). The maximum recommended task size is 1000 KiB.\n"
     ]
    },
    {
     "name": "stdout",
     "output_type": "stream",
     "text": [
      "Iterations: 15\n"
     ]
    },
    {
     "name": "stderr",
     "output_type": "stream",
     "text": [
      "23/02/24 04:09:39 WARN TaskSetManager: Stage 5902 contains a task of very large size (2969 KiB). The maximum recommended task size is 1000 KiB.\n",
      "23/02/24 04:09:39 WARN TaskSetManager: Stage 5903 contains a task of very large size (2729 KiB). The maximum recommended task size is 1000 KiB.\n",
      "23/02/24 04:09:54 WARN TaskSetManager: Stage 6110 contains a task of very large size (2969 KiB). The maximum recommended task size is 1000 KiB.\n",
      "23/02/24 04:09:54 WARN TaskSetManager: Stage 6111 contains a task of very large size (2969 KiB). The maximum recommended task size is 1000 KiB.\n",
      "23/02/24 04:09:58 WARN TaskSetManager: Stage 6145 contains a task of very large size (2969 KiB). The maximum recommended task size is 1000 KiB.\n",
      "23/02/24 04:10:01 WARN TaskSetManager: Stage 6147 contains a task of very large size (2970 KiB). The maximum recommended task size is 1000 KiB.\n",
      "23/02/24 04:10:04 WARN TaskSetManager: Stage 6149 contains a task of very large size (2969 KiB). The maximum recommended task size is 1000 KiB.\n",
      "23/02/24 04:10:04 WARN TaskSetManager: Stage 6150 contains a task of very large size (2969 KiB). The maximum recommended task size is 1000 KiB.\n"
     ]
    },
    {
     "name": "stdout",
     "output_type": "stream",
     "text": [
      "Iterations: 20\n"
     ]
    },
    {
     "name": "stderr",
     "output_type": "stream",
     "text": [
      "23/02/24 04:10:04 WARN TaskSetManager: Stage 6151 contains a task of very large size (2969 KiB). The maximum recommended task size is 1000 KiB.\n",
      "23/02/24 04:10:05 WARN TaskSetManager: Stage 6152 contains a task of very large size (2729 KiB). The maximum recommended task size is 1000 KiB.\n",
      "23/02/24 04:10:22 WARN TaskSetManager: Stage 6419 contains a task of very large size (2969 KiB). The maximum recommended task size is 1000 KiB.\n",
      "23/02/24 04:10:23 WARN TaskSetManager: Stage 6420 contains a task of very large size (2969 KiB). The maximum recommended task size is 1000 KiB.\n",
      "23/02/24 04:10:26 WARN TaskSetManager: Stage 6463 contains a task of very large size (2969 KiB). The maximum recommended task size is 1000 KiB.\n",
      "23/02/24 04:10:29 WARN TaskSetManager: Stage 6466 contains a task of very large size (2729 KiB). The maximum recommended task size is 1000 KiB.\n",
      "23/02/24 04:10:33 WARN TaskSetManager: Stage 6468 contains a task of very large size (2969 KiB). The maximum recommended task size is 1000 KiB.\n",
      "23/02/24 04:10:33 WARN TaskSetManager: Stage 6469 contains a task of very large size (2969 KiB). The maximum recommended task size is 1000 KiB.\n",
      "23/02/24 04:10:33 WARN TaskSetManager: Stage 6470 contains a task of very large size (2969 KiB). The maximum recommended task size is 1000 KiB.\n"
     ]
    },
    {
     "name": "stdout",
     "output_type": "stream",
     "text": [
      "Regularization: 10.000000\n",
      "Iterations: 2\n"
     ]
    },
    {
     "name": "stderr",
     "output_type": "stream",
     "text": [
      "23/02/24 04:10:33 WARN TaskSetManager: Stage 6471 contains a task of very large size (2729 KiB). The maximum recommended task size is 1000 KiB.\n",
      "23/02/24 04:10:39 WARN TaskSetManager: Stage 6522 contains a task of very large size (2969 KiB). The maximum recommended task size is 1000 KiB.\n",
      "23/02/24 04:10:40 WARN TaskSetManager: Stage 6523 contains a task of very large size (2969 KiB). The maximum recommended task size is 1000 KiB.\n",
      "23/02/24 04:10:43 WARN TaskSetManager: Stage 6530 contains a task of very large size (2969 KiB). The maximum recommended task size is 1000 KiB.\n",
      "23/02/24 04:10:46 WARN TaskSetManager: Stage 6533 contains a task of very large size (2999 KiB). The maximum recommended task size is 1000 KiB.\n",
      "23/02/24 04:10:50 WARN TaskSetManager: Stage 6535 contains a task of very large size (2969 KiB). The maximum recommended task size is 1000 KiB.\n",
      "23/02/24 04:10:50 WARN TaskSetManager: Stage 6536 contains a task of very large size (2969 KiB). The maximum recommended task size is 1000 KiB.\n",
      "23/02/24 04:10:50 WARN TaskSetManager: Stage 6537 contains a task of very large size (2969 KiB). The maximum recommended task size is 1000 KiB.\n"
     ]
    },
    {
     "name": "stdout",
     "output_type": "stream",
     "text": [
      "Iterations: 5\n"
     ]
    },
    {
     "name": "stderr",
     "output_type": "stream",
     "text": [
      "23/02/24 04:10:51 WARN TaskSetManager: Stage 6538 contains a task of very large size (3001 KiB). The maximum recommended task size is 1000 KiB.\n",
      "23/02/24 04:10:59 WARN TaskSetManager: Stage 6625 contains a task of very large size (2969 KiB). The maximum recommended task size is 1000 KiB.\n",
      "23/02/24 04:11:00 WARN TaskSetManager: Stage 6626 contains a task of very large size (2969 KiB). The maximum recommended task size is 1000 KiB.\n",
      "23/02/24 04:11:04 WARN TaskSetManager: Stage 6640 contains a task of very large size (2969 KiB). The maximum recommended task size is 1000 KiB.\n",
      "23/02/24 04:11:07 WARN TaskSetManager: Stage 6642 contains a task of very large size (2729 KiB). The maximum recommended task size is 1000 KiB.\n",
      "23/02/24 04:11:11 WARN TaskSetManager: Stage 6644 contains a task of very large size (2969 KiB). The maximum recommended task size is 1000 KiB.\n",
      "23/02/24 04:11:11 WARN TaskSetManager: Stage 6645 contains a task of very large size (2969 KiB). The maximum recommended task size is 1000 KiB.\n"
     ]
    },
    {
     "name": "stdout",
     "output_type": "stream",
     "text": [
      "Iterations: 10\n"
     ]
    },
    {
     "name": "stderr",
     "output_type": "stream",
     "text": [
      "23/02/24 04:11:11 WARN TaskSetManager: Stage 6646 contains a task of very large size (2969 KiB). The maximum recommended task size is 1000 KiB.\n",
      "23/02/24 04:11:11 WARN TaskSetManager: Stage 6647 contains a task of very large size (3001 KiB). The maximum recommended task size is 1000 KiB.\n",
      "23/02/24 04:11:22 WARN TaskSetManager: Stage 6794 contains a task of very large size (2969 KiB). The maximum recommended task size is 1000 KiB.\n",
      "23/02/24 04:11:23 WARN TaskSetManager: Stage 6795 contains a task of very large size (2969 KiB). The maximum recommended task size is 1000 KiB.\n",
      "23/02/24 04:11:27 WARN TaskSetManager: Stage 6819 contains a task of very large size (2969 KiB). The maximum recommended task size is 1000 KiB.\n",
      "23/02/24 04:11:30 WARN TaskSetManager: Stage 6821 contains a task of very large size (2970 KiB). The maximum recommended task size is 1000 KiB.\n",
      "23/02/24 04:11:33 WARN TaskSetManager: Stage 6823 contains a task of very large size (2969 KiB). The maximum recommended task size is 1000 KiB.\n",
      "23/02/24 04:11:33 WARN TaskSetManager: Stage 6824 contains a task of very large size (2969 KiB). The maximum recommended task size is 1000 KiB.\n",
      "23/02/24 04:11:33 WARN TaskSetManager: Stage 6825 contains a task of very large size (2969 KiB). The maximum recommended task size is 1000 KiB.\n"
     ]
    },
    {
     "name": "stdout",
     "output_type": "stream",
     "text": [
      "Iterations: 15\n"
     ]
    },
    {
     "name": "stderr",
     "output_type": "stream",
     "text": [
      "23/02/24 04:11:33 WARN TaskSetManager: Stage 6826 contains a task of very large size (3001 KiB). The maximum recommended task size is 1000 KiB.\n",
      "23/02/24 04:11:47 WARN TaskSetManager: Stage 7033 contains a task of very large size (2969 KiB). The maximum recommended task size is 1000 KiB.\n",
      "23/02/24 04:11:48 WARN TaskSetManager: Stage 7034 contains a task of very large size (2969 KiB). The maximum recommended task size is 1000 KiB.\n",
      "23/02/24 04:11:51 WARN TaskSetManager: Stage 7067 contains a task of very large size (2969 KiB). The maximum recommended task size is 1000 KiB.\n",
      "23/02/24 04:11:54 WARN TaskSetManager: Stage 7070 contains a task of very large size (2729 KiB). The maximum recommended task size is 1000 KiB.\n",
      "23/02/24 04:11:57 WARN TaskSetManager: Stage 7072 contains a task of very large size (2969 KiB). The maximum recommended task size is 1000 KiB.\n",
      "23/02/24 04:11:57 WARN TaskSetManager: Stage 7073 contains a task of very large size (2969 KiB). The maximum recommended task size is 1000 KiB.\n"
     ]
    },
    {
     "name": "stdout",
     "output_type": "stream",
     "text": [
      "Iterations: 20\n"
     ]
    },
    {
     "name": "stderr",
     "output_type": "stream",
     "text": [
      "23/02/24 04:11:58 WARN TaskSetManager: Stage 7074 contains a task of very large size (2969 KiB). The maximum recommended task size is 1000 KiB.\n",
      "23/02/24 04:11:58 WARN TaskSetManager: Stage 7075 contains a task of very large size (2729 KiB). The maximum recommended task size is 1000 KiB.\n",
      "23/02/24 04:12:13 WARN TaskSetManager: Stage 7342 contains a task of very large size (2969 KiB). The maximum recommended task size is 1000 KiB.\n",
      "23/02/24 04:12:13 WARN TaskSetManager: Stage 7343 contains a task of very large size (2969 KiB). The maximum recommended task size is 1000 KiB.\n",
      "23/02/24 04:12:16 WARN TaskSetManager: Stage 7387 contains a task of very large size (2969 KiB). The maximum recommended task size is 1000 KiB.\n",
      "23/02/24 04:12:20 WARN TaskSetManager: Stage 7389 contains a task of very large size (2970 KiB). The maximum recommended task size is 1000 KiB.\n",
      "23/02/24 04:12:23 WARN TaskSetManager: Stage 7391 contains a task of very large size (2969 KiB). The maximum recommended task size is 1000 KiB.\n",
      "23/02/24 04:12:23 WARN TaskSetManager: Stage 7392 contains a task of very large size (2969 KiB). The maximum recommended task size is 1000 KiB.\n"
     ]
    },
    {
     "name": "stdout",
     "output_type": "stream",
     "text": [
      "Rank: 20\n",
      "Regularization: 0.010000\n",
      "Iterations: 2\n"
     ]
    },
    {
     "name": "stderr",
     "output_type": "stream",
     "text": [
      "23/02/24 04:12:23 WARN TaskSetManager: Stage 7393 contains a task of very large size (2969 KiB). The maximum recommended task size is 1000 KiB.\n",
      "23/02/24 04:12:23 WARN TaskSetManager: Stage 7394 contains a task of very large size (2729 KiB). The maximum recommended task size is 1000 KiB.\n",
      "23/02/24 04:12:30 WARN TaskSetManager: Stage 7445 contains a task of very large size (2969 KiB). The maximum recommended task size is 1000 KiB.\n",
      "23/02/24 04:12:31 WARN TaskSetManager: Stage 7446 contains a task of very large size (2969 KiB). The maximum recommended task size is 1000 KiB.\n",
      "23/02/24 04:12:34 WARN TaskSetManager: Stage 7453 contains a task of very large size (2969 KiB). The maximum recommended task size is 1000 KiB.\n",
      "23/02/24 04:12:37 WARN TaskSetManager: Stage 7456 contains a task of very large size (2999 KiB). The maximum recommended task size is 1000 KiB.\n",
      "23/02/24 04:12:41 WARN TaskSetManager: Stage 7458 contains a task of very large size (2969 KiB). The maximum recommended task size is 1000 KiB.\n",
      "23/02/24 04:12:41 WARN TaskSetManager: Stage 7459 contains a task of very large size (2969 KiB). The maximum recommended task size is 1000 KiB.\n"
     ]
    },
    {
     "name": "stdout",
     "output_type": "stream",
     "text": [
      "Iterations: 5\n"
     ]
    },
    {
     "name": "stderr",
     "output_type": "stream",
     "text": [
      "23/02/24 04:12:41 WARN TaskSetManager: Stage 7460 contains a task of very large size (2969 KiB). The maximum recommended task size is 1000 KiB.\n",
      "23/02/24 04:12:42 WARN TaskSetManager: Stage 7461 contains a task of very large size (2969 KiB). The maximum recommended task size is 1000 KiB.\n",
      "23/02/24 04:12:52 WARN TaskSetManager: Stage 7548 contains a task of very large size (2969 KiB). The maximum recommended task size is 1000 KiB.\n",
      "23/02/24 04:12:53 WARN TaskSetManager: Stage 7549 contains a task of very large size (2969 KiB). The maximum recommended task size is 1000 KiB.\n",
      "23/02/24 04:12:56 WARN TaskSetManager: Stage 7562 contains a task of very large size (2969 KiB). The maximum recommended task size is 1000 KiB.\n",
      "23/02/24 04:12:59 WARN TaskSetManager: Stage 7565 contains a task of very large size (3001 KiB). The maximum recommended task size is 1000 KiB.\n",
      "23/02/24 04:13:02 WARN TaskSetManager: Stage 7567 contains a task of very large size (2969 KiB). The maximum recommended task size is 1000 KiB.\n",
      "23/02/24 04:13:03 WARN TaskSetManager: Stage 7568 contains a task of very large size (2969 KiB). The maximum recommended task size is 1000 KiB.\n"
     ]
    },
    {
     "name": "stdout",
     "output_type": "stream",
     "text": [
      "Iterations: 10\n"
     ]
    },
    {
     "name": "stderr",
     "output_type": "stream",
     "text": [
      "23/02/24 04:13:03 WARN TaskSetManager: Stage 7569 contains a task of very large size (2969 KiB). The maximum recommended task size is 1000 KiB.\n",
      "23/02/24 04:13:03 WARN TaskSetManager: Stage 7570 contains a task of very large size (2729 KiB). The maximum recommended task size is 1000 KiB.\n",
      "23/02/24 04:13:20 WARN TaskSetManager: Stage 7717 contains a task of very large size (2969 KiB). The maximum recommended task size is 1000 KiB.\n",
      "23/02/24 04:13:21 WARN TaskSetManager: Stage 7718 contains a task of very large size (2969 KiB). The maximum recommended task size is 1000 KiB.\n",
      "23/02/24 04:13:24 WARN TaskSetManager: Stage 7742 contains a task of very large size (2969 KiB). The maximum recommended task size is 1000 KiB.\n",
      "23/02/24 04:13:27 WARN TaskSetManager: Stage 7744 contains a task of very large size (2970 KiB). The maximum recommended task size is 1000 KiB.\n",
      "23/02/24 04:13:31 WARN TaskSetManager: Stage 7746 contains a task of very large size (2969 KiB). The maximum recommended task size is 1000 KiB.\n",
      "23/02/24 04:13:31 WARN TaskSetManager: Stage 7747 contains a task of very large size (2969 KiB). The maximum recommended task size is 1000 KiB.\n",
      "23/02/24 04:13:31 WARN TaskSetManager: Stage 7748 contains a task of very large size (2969 KiB). The maximum recommended task size is 1000 KiB.\n"
     ]
    },
    {
     "name": "stdout",
     "output_type": "stream",
     "text": [
      "Iterations: 15\n"
     ]
    },
    {
     "name": "stderr",
     "output_type": "stream",
     "text": [
      "23/02/24 04:13:31 WARN TaskSetManager: Stage 7749 contains a task of very large size (2729 KiB). The maximum recommended task size is 1000 KiB.\n",
      "23/02/24 04:13:51 WARN TaskSetManager: Stage 7956 contains a task of very large size (2969 KiB). The maximum recommended task size is 1000 KiB.\n",
      "23/02/24 04:13:52 WARN TaskSetManager: Stage 7957 contains a task of very large size (2969 KiB). The maximum recommended task size is 1000 KiB.\n",
      "23/02/24 04:13:55 WARN TaskSetManager: Stage 7991 contains a task of very large size (2969 KiB). The maximum recommended task size is 1000 KiB.\n",
      "23/02/24 04:13:58 WARN TaskSetManager: Stage 7993 contains a task of very large size (2999 KiB). The maximum recommended task size is 1000 KiB.\n",
      "23/02/24 04:14:02 WARN TaskSetManager: Stage 7995 contains a task of very large size (2969 KiB). The maximum recommended task size is 1000 KiB.\n",
      "23/02/24 04:14:02 WARN TaskSetManager: Stage 7996 contains a task of very large size (2969 KiB). The maximum recommended task size is 1000 KiB.\n"
     ]
    },
    {
     "name": "stdout",
     "output_type": "stream",
     "text": [
      "Iterations: 20\n"
     ]
    },
    {
     "name": "stderr",
     "output_type": "stream",
     "text": [
      "23/02/24 04:14:02 WARN TaskSetManager: Stage 7997 contains a task of very large size (2969 KiB). The maximum recommended task size is 1000 KiB.\n",
      "23/02/24 04:14:02 WARN TaskSetManager: Stage 7998 contains a task of very large size (3001 KiB). The maximum recommended task size is 1000 KiB.\n",
      "23/02/24 04:14:28 WARN TaskSetManager: Stage 8265 contains a task of very large size (2969 KiB). The maximum recommended task size is 1000 KiB.\n",
      "23/02/24 04:14:28 WARN TaskSetManager: Stage 8266 contains a task of very large size (2969 KiB). The maximum recommended task size is 1000 KiB.\n",
      "23/02/24 04:14:31 WARN TaskSetManager: Stage 8310 contains a task of very large size (2969 KiB). The maximum recommended task size is 1000 KiB.\n",
      "23/02/24 04:14:35 WARN TaskSetManager: Stage 8312 contains a task of very large size (2970 KiB). The maximum recommended task size is 1000 KiB.\n",
      "23/02/24 04:14:38 WARN TaskSetManager: Stage 8314 contains a task of very large size (2969 KiB). The maximum recommended task size is 1000 KiB.\n",
      "23/02/24 04:14:38 WARN TaskSetManager: Stage 8315 contains a task of very large size (2969 KiB). The maximum recommended task size is 1000 KiB.\n",
      "23/02/24 04:14:38 WARN TaskSetManager: Stage 8316 contains a task of very large size (2969 KiB). The maximum recommended task size is 1000 KiB.\n"
     ]
    },
    {
     "name": "stdout",
     "output_type": "stream",
     "text": [
      "Regularization: 0.100000\n",
      "Iterations: 2\n"
     ]
    },
    {
     "name": "stderr",
     "output_type": "stream",
     "text": [
      "23/02/24 04:14:38 WARN TaskSetManager: Stage 8317 contains a task of very large size (3002 KiB). The maximum recommended task size is 1000 KiB.\n",
      "23/02/24 04:14:45 WARN TaskSetManager: Stage 8368 contains a task of very large size (2969 KiB). The maximum recommended task size is 1000 KiB.\n",
      "23/02/24 04:14:46 WARN TaskSetManager: Stage 8369 contains a task of very large size (2969 KiB). The maximum recommended task size is 1000 KiB.\n",
      "23/02/24 04:14:49 WARN TaskSetManager: Stage 8377 contains a task of very large size (2969 KiB). The maximum recommended task size is 1000 KiB.\n",
      "23/02/24 04:14:53 WARN TaskSetManager: Stage 8379 contains a task of very large size (2999 KiB). The maximum recommended task size is 1000 KiB.\n",
      "23/02/24 04:14:56 WARN TaskSetManager: Stage 8381 contains a task of very large size (2969 KiB). The maximum recommended task size is 1000 KiB.\n",
      "23/02/24 04:14:56 WARN TaskSetManager: Stage 8382 contains a task of very large size (2969 KiB). The maximum recommended task size is 1000 KiB.\n",
      "23/02/24 04:14:56 WARN TaskSetManager: Stage 8383 contains a task of very large size (2969 KiB). The maximum recommended task size is 1000 KiB.\n"
     ]
    },
    {
     "name": "stdout",
     "output_type": "stream",
     "text": [
      "Iterations: 5\n"
     ]
    },
    {
     "name": "stderr",
     "output_type": "stream",
     "text": [
      "23/02/24 04:14:57 WARN TaskSetManager: Stage 8384 contains a task of very large size (3001 KiB). The maximum recommended task size is 1000 KiB.\n",
      "23/02/24 04:15:07 WARN TaskSetManager: Stage 8471 contains a task of very large size (2969 KiB). The maximum recommended task size is 1000 KiB.\n",
      "23/02/24 04:15:07 WARN TaskSetManager: Stage 8472 contains a task of very large size (2969 KiB). The maximum recommended task size is 1000 KiB.\n",
      "23/02/24 04:15:10 WARN TaskSetManager: Stage 8486 contains a task of very large size (2969 KiB). The maximum recommended task size is 1000 KiB.\n",
      "23/02/24 04:15:13 WARN TaskSetManager: Stage 8488 contains a task of very large size (2729 KiB). The maximum recommended task size is 1000 KiB.\n",
      "23/02/24 04:15:17 WARN TaskSetManager: Stage 8490 contains a task of very large size (2969 KiB). The maximum recommended task size is 1000 KiB.\n"
     ]
    },
    {
     "name": "stdout",
     "output_type": "stream",
     "text": [
      "Iterations: 10\n"
     ]
    },
    {
     "name": "stderr",
     "output_type": "stream",
     "text": [
      "23/02/24 04:15:17 WARN TaskSetManager: Stage 8491 contains a task of very large size (2969 KiB). The maximum recommended task size is 1000 KiB.\n",
      "23/02/24 04:15:17 WARN TaskSetManager: Stage 8492 contains a task of very large size (2969 KiB). The maximum recommended task size is 1000 KiB.\n",
      "23/02/24 04:15:17 WARN TaskSetManager: Stage 8493 contains a task of very large size (3001 KiB). The maximum recommended task size is 1000 KiB.\n",
      "23/02/24 04:15:32 WARN TaskSetManager: Stage 8640 contains a task of very large size (2969 KiB). The maximum recommended task size is 1000 KiB.\n",
      "23/02/24 04:15:33 WARN TaskSetManager: Stage 8641 contains a task of very large size (2969 KiB). The maximum recommended task size is 1000 KiB.\n",
      "23/02/24 04:15:35 WARN TaskSetManager: Stage 8665 contains a task of very large size (2969 KiB). The maximum recommended task size is 1000 KiB.\n",
      "23/02/24 04:15:38 WARN TaskSetManager: Stage 8667 contains a task of very large size (2999 KiB). The maximum recommended task size is 1000 KiB.\n",
      "23/02/24 04:15:41 WARN TaskSetManager: Stage 8669 contains a task of very large size (2969 KiB). The maximum recommended task size is 1000 KiB.\n",
      "23/02/24 04:15:41 WARN TaskSetManager: Stage 8670 contains a task of very large size (2969 KiB). The maximum recommended task size is 1000 KiB.\n"
     ]
    },
    {
     "name": "stdout",
     "output_type": "stream",
     "text": [
      "Iterations: 15\n"
     ]
    },
    {
     "name": "stderr",
     "output_type": "stream",
     "text": [
      "23/02/24 04:15:42 WARN TaskSetManager: Stage 8671 contains a task of very large size (2969 KiB). The maximum recommended task size is 1000 KiB.\n",
      "23/02/24 04:15:42 WARN TaskSetManager: Stage 8672 contains a task of very large size (3001 KiB). The maximum recommended task size is 1000 KiB.\n",
      "23/02/24 04:16:04 WARN TaskSetManager: Stage 8879 contains a task of very large size (2969 KiB). The maximum recommended task size is 1000 KiB.\n",
      "23/02/24 04:16:04 WARN TaskSetManager: Stage 8880 contains a task of very large size (2969 KiB). The maximum recommended task size is 1000 KiB.\n",
      "23/02/24 04:16:07 WARN TaskSetManager: Stage 8914 contains a task of very large size (2969 KiB). The maximum recommended task size is 1000 KiB.\n",
      "23/02/24 04:16:10 WARN TaskSetManager: Stage 8916 contains a task of very large size (3001 KiB). The maximum recommended task size is 1000 KiB.\n",
      "                                                                                \r"
     ]
    },
    {
     "name": "stdout",
     "output_type": "stream",
     "text": [
      "Iterations: 20\n"
     ]
    },
    {
     "name": "stderr",
     "output_type": "stream",
     "text": [
      "23/02/24 04:16:14 WARN TaskSetManager: Stage 8918 contains a task of very large size (2969 KiB). The maximum recommended task size is 1000 KiB.\n",
      "23/02/24 04:16:14 WARN TaskSetManager: Stage 8919 contains a task of very large size (2969 KiB). The maximum recommended task size is 1000 KiB.\n",
      "23/02/24 04:16:14 WARN TaskSetManager: Stage 8920 contains a task of very large size (2969 KiB). The maximum recommended task size is 1000 KiB.\n",
      "23/02/24 04:16:15 WARN TaskSetManager: Stage 8921 contains a task of very large size (2729 KiB). The maximum recommended task size is 1000 KiB.\n",
      "23/02/24 04:16:43 WARN TaskSetManager: Stage 9188 contains a task of very large size (2969 KiB). The maximum recommended task size is 1000 KiB.\n",
      "23/02/24 04:16:44 WARN TaskSetManager: Stage 9189 contains a task of very large size (2969 KiB). The maximum recommended task size is 1000 KiB.\n",
      "23/02/24 04:16:47 WARN TaskSetManager: Stage 9232 contains a task of very large size (2969 KiB). The maximum recommended task size is 1000 KiB.\n",
      "23/02/24 04:16:51 WARN TaskSetManager: Stage 9235 contains a task of very large size (2970 KiB). The maximum recommended task size is 1000 KiB.\n",
      "23/02/24 04:16:55 WARN TaskSetManager: Stage 9237 contains a task of very large size (2969 KiB). The maximum recommended task size is 1000 KiB.\n",
      "23/02/24 04:16:55 WARN TaskSetManager: Stage 9238 contains a task of very large size (2969 KiB). The maximum recommended task size is 1000 KiB.\n"
     ]
    },
    {
     "name": "stdout",
     "output_type": "stream",
     "text": [
      "Regularization: 1.000000\n",
      "Iterations: 2\n"
     ]
    },
    {
     "name": "stderr",
     "output_type": "stream",
     "text": [
      "23/02/24 04:16:56 WARN TaskSetManager: Stage 9239 contains a task of very large size (2969 KiB). The maximum recommended task size is 1000 KiB.\n",
      "23/02/24 04:16:56 WARN TaskSetManager: Stage 9240 contains a task of very large size (3002 KiB). The maximum recommended task size is 1000 KiB.\n",
      "23/02/24 04:17:04 WARN TaskSetManager: Stage 9291 contains a task of very large size (2969 KiB). The maximum recommended task size is 1000 KiB.\n",
      "23/02/24 04:17:04 WARN TaskSetManager: Stage 9292 contains a task of very large size (2969 KiB). The maximum recommended task size is 1000 KiB.\n",
      "23/02/24 04:17:08 WARN TaskSetManager: Stage 9299 contains a task of very large size (2969 KiB). The maximum recommended task size is 1000 KiB.\n",
      "23/02/24 04:17:12 WARN TaskSetManager: Stage 9302 contains a task of very large size (2729 KiB). The maximum recommended task size is 1000 KiB.\n",
      "23/02/24 04:17:15 WARN TaskSetManager: Stage 9304 contains a task of very large size (2969 KiB). The maximum recommended task size is 1000 KiB.\n",
      "23/02/24 04:17:15 WARN TaskSetManager: Stage 9305 contains a task of very large size (2969 KiB). The maximum recommended task size is 1000 KiB.\n"
     ]
    },
    {
     "name": "stdout",
     "output_type": "stream",
     "text": [
      "Iterations: 5\n"
     ]
    },
    {
     "name": "stderr",
     "output_type": "stream",
     "text": [
      "23/02/24 04:17:16 WARN TaskSetManager: Stage 9306 contains a task of very large size (2969 KiB). The maximum recommended task size is 1000 KiB.\n",
      "23/02/24 04:17:16 WARN TaskSetManager: Stage 9307 contains a task of very large size (3001 KiB). The maximum recommended task size is 1000 KiB.\n",
      "23/02/24 04:17:26 WARN TaskSetManager: Stage 9394 contains a task of very large size (2969 KiB). The maximum recommended task size is 1000 KiB.\n",
      "23/02/24 04:17:26 WARN TaskSetManager: Stage 9395 contains a task of very large size (2969 KiB). The maximum recommended task size is 1000 KiB.\n",
      "23/02/24 04:17:29 WARN TaskSetManager: Stage 9409 contains a task of very large size (2969 KiB). The maximum recommended task size is 1000 KiB.\n",
      "23/02/24 04:17:32 WARN TaskSetManager: Stage 9411 contains a task of very large size (2729 KiB). The maximum recommended task size is 1000 KiB.\n",
      "                                                                                \r"
     ]
    },
    {
     "name": "stdout",
     "output_type": "stream",
     "text": [
      "Iterations: 10\n"
     ]
    },
    {
     "name": "stderr",
     "output_type": "stream",
     "text": [
      "23/02/24 04:17:35 WARN TaskSetManager: Stage 9413 contains a task of very large size (2969 KiB). The maximum recommended task size is 1000 KiB.\n",
      "23/02/24 04:17:35 WARN TaskSetManager: Stage 9414 contains a task of very large size (2969 KiB). The maximum recommended task size is 1000 KiB.\n",
      "23/02/24 04:17:35 WARN TaskSetManager: Stage 9415 contains a task of very large size (2969 KiB). The maximum recommended task size is 1000 KiB.\n",
      "23/02/24 04:17:36 WARN TaskSetManager: Stage 9416 contains a task of very large size (2729 KiB). The maximum recommended task size is 1000 KiB.\n",
      "23/02/24 04:17:51 WARN TaskSetManager: Stage 9563 contains a task of very large size (2969 KiB). The maximum recommended task size is 1000 KiB.\n",
      "23/02/24 04:17:52 WARN TaskSetManager: Stage 9564 contains a task of very large size (2969 KiB). The maximum recommended task size is 1000 KiB.\n",
      "23/02/24 04:17:55 WARN TaskSetManager: Stage 9588 contains a task of very large size (2969 KiB). The maximum recommended task size is 1000 KiB.\n",
      "23/02/24 04:17:58 WARN TaskSetManager: Stage 9590 contains a task of very large size (2970 KiB). The maximum recommended task size is 1000 KiB.\n",
      "23/02/24 04:18:01 WARN TaskSetManager: Stage 9592 contains a task of very large size (2969 KiB). The maximum recommended task size is 1000 KiB.\n",
      "23/02/24 04:18:01 WARN TaskSetManager: Stage 9593 contains a task of very large size (2969 KiB). The maximum recommended task size is 1000 KiB.\n",
      "23/02/24 04:18:01 WARN TaskSetManager: Stage 9594 contains a task of very large size (2969 KiB). The maximum recommended task size is 1000 KiB.\n"
     ]
    },
    {
     "name": "stdout",
     "output_type": "stream",
     "text": [
      "Iterations: 15\n"
     ]
    },
    {
     "name": "stderr",
     "output_type": "stream",
     "text": [
      "23/02/24 04:18:02 WARN TaskSetManager: Stage 9595 contains a task of very large size (2969 KiB). The maximum recommended task size is 1000 KiB.\n",
      "23/02/24 04:18:24 WARN TaskSetManager: Stage 9802 contains a task of very large size (2969 KiB). The maximum recommended task size is 1000 KiB.\n",
      "23/02/24 04:18:25 WARN TaskSetManager: Stage 9803 contains a task of very large size (2969 KiB). The maximum recommended task size is 1000 KiB.\n",
      "23/02/24 04:18:28 WARN TaskSetManager: Stage 9836 contains a task of very large size (2969 KiB). The maximum recommended task size is 1000 KiB.\n",
      "23/02/24 04:18:31 WARN TaskSetManager: Stage 9839 contains a task of very large size (2729 KiB). The maximum recommended task size is 1000 KiB.\n",
      "23/02/24 04:18:34 WARN TaskSetManager: Stage 9841 contains a task of very large size (2969 KiB). The maximum recommended task size is 1000 KiB.\n",
      "23/02/24 04:18:34 WARN TaskSetManager: Stage 9842 contains a task of very large size (2969 KiB). The maximum recommended task size is 1000 KiB.\n"
     ]
    },
    {
     "name": "stdout",
     "output_type": "stream",
     "text": [
      "Iterations: 20\n"
     ]
    },
    {
     "name": "stderr",
     "output_type": "stream",
     "text": [
      "23/02/24 04:18:35 WARN TaskSetManager: Stage 9843 contains a task of very large size (2969 KiB). The maximum recommended task size is 1000 KiB.\n",
      "23/02/24 04:18:35 WARN TaskSetManager: Stage 9844 contains a task of very large size (2999 KiB). The maximum recommended task size is 1000 KiB.\n",
      "23/02/24 04:19:00 WARN TaskSetManager: Stage 10111 contains a task of very large size (2969 KiB). The maximum recommended task size is 1000 KiB.\n",
      "23/02/24 04:19:00 WARN TaskSetManager: Stage 10112 contains a task of very large size (2969 KiB). The maximum recommended task size is 1000 KiB.\n",
      "23/02/24 04:19:03 WARN TaskSetManager: Stage 10155 contains a task of very large size (2969 KiB). The maximum recommended task size is 1000 KiB.\n",
      "23/02/24 04:19:07 WARN TaskSetManager: Stage 10158 contains a task of very large size (2729 KiB). The maximum recommended task size is 1000 KiB.\n",
      "23/02/24 04:19:11 WARN TaskSetManager: Stage 10160 contains a task of very large size (2969 KiB). The maximum recommended task size is 1000 KiB.\n"
     ]
    },
    {
     "name": "stdout",
     "output_type": "stream",
     "text": [
      "Regularization: 10.000000\n",
      "Iterations: 2\n"
     ]
    },
    {
     "name": "stderr",
     "output_type": "stream",
     "text": [
      "23/02/24 04:19:11 WARN TaskSetManager: Stage 10161 contains a task of very large size (2969 KiB). The maximum recommended task size is 1000 KiB.\n",
      "23/02/24 04:19:11 WARN TaskSetManager: Stage 10162 contains a task of very large size (2969 KiB). The maximum recommended task size is 1000 KiB.\n",
      "23/02/24 04:19:11 WARN TaskSetManager: Stage 10163 contains a task of very large size (2999 KiB). The maximum recommended task size is 1000 KiB.\n",
      "23/02/24 04:19:17 WARN TaskSetManager: Stage 10214 contains a task of very large size (2969 KiB). The maximum recommended task size is 1000 KiB.\n",
      "23/02/24 04:19:18 WARN TaskSetManager: Stage 10215 contains a task of very large size (2969 KiB). The maximum recommended task size is 1000 KiB.\n",
      "23/02/24 04:19:21 WARN TaskSetManager: Stage 10223 contains a task of very large size (2969 KiB). The maximum recommended task size is 1000 KiB.\n",
      "23/02/24 04:19:24 WARN TaskSetManager: Stage 10225 contains a task of very large size (2970 KiB). The maximum recommended task size is 1000 KiB.\n",
      "23/02/24 04:19:28 WARN TaskSetManager: Stage 10227 contains a task of very large size (2969 KiB). The maximum recommended task size is 1000 KiB.\n",
      "23/02/24 04:19:28 WARN TaskSetManager: Stage 10228 contains a task of very large size (2969 KiB). The maximum recommended task size is 1000 KiB.\n",
      "23/02/24 04:19:28 WARN TaskSetManager: Stage 10229 contains a task of very large size (2969 KiB). The maximum recommended task size is 1000 KiB.\n"
     ]
    },
    {
     "name": "stdout",
     "output_type": "stream",
     "text": [
      "Iterations: 5\n"
     ]
    },
    {
     "name": "stderr",
     "output_type": "stream",
     "text": [
      "23/02/24 04:19:28 WARN TaskSetManager: Stage 10230 contains a task of very large size (2729 KiB). The maximum recommended task size is 1000 KiB.\n",
      "23/02/24 04:19:38 WARN TaskSetManager: Stage 10317 contains a task of very large size (2969 KiB). The maximum recommended task size is 1000 KiB.\n",
      "23/02/24 04:19:39 WARN TaskSetManager: Stage 10318 contains a task of very large size (2969 KiB). The maximum recommended task size is 1000 KiB.\n",
      "23/02/24 04:19:42 WARN TaskSetManager: Stage 10332 contains a task of very large size (2969 KiB). The maximum recommended task size is 1000 KiB.\n",
      "23/02/24 04:19:45 WARN TaskSetManager: Stage 10334 contains a task of very large size (2970 KiB). The maximum recommended task size is 1000 KiB.\n",
      "23/02/24 04:19:48 WARN TaskSetManager: Stage 10336 contains a task of very large size (2969 KiB). The maximum recommended task size is 1000 KiB.\n",
      "23/02/24 04:19:48 WARN TaskSetManager: Stage 10337 contains a task of very large size (2969 KiB). The maximum recommended task size is 1000 KiB.\n"
     ]
    },
    {
     "name": "stdout",
     "output_type": "stream",
     "text": [
      "Iterations: 10\n"
     ]
    },
    {
     "name": "stderr",
     "output_type": "stream",
     "text": [
      "23/02/24 04:19:49 WARN TaskSetManager: Stage 10338 contains a task of very large size (2969 KiB). The maximum recommended task size is 1000 KiB.\n",
      "23/02/24 04:19:49 WARN TaskSetManager: Stage 10339 contains a task of very large size (2969 KiB). The maximum recommended task size is 1000 KiB.\n",
      "23/02/24 04:20:05 WARN TaskSetManager: Stage 10486 contains a task of very large size (2969 KiB). The maximum recommended task size is 1000 KiB.\n",
      "23/02/24 04:20:05 WARN TaskSetManager: Stage 10487 contains a task of very large size (2969 KiB). The maximum recommended task size is 1000 KiB.\n",
      "23/02/24 04:20:08 WARN TaskSetManager: Stage 10510 contains a task of very large size (2969 KiB). The maximum recommended task size is 1000 KiB.\n",
      "23/02/24 04:20:11 WARN TaskSetManager: Stage 10513 contains a task of very large size (2970 KiB). The maximum recommended task size is 1000 KiB.\n",
      "23/02/24 04:20:15 WARN TaskSetManager: Stage 10515 contains a task of very large size (2969 KiB). The maximum recommended task size is 1000 KiB.\n",
      "23/02/24 04:20:15 WARN TaskSetManager: Stage 10516 contains a task of very large size (2969 KiB). The maximum recommended task size is 1000 KiB.\n"
     ]
    },
    {
     "name": "stdout",
     "output_type": "stream",
     "text": [
      "Iterations: 15\n"
     ]
    },
    {
     "name": "stderr",
     "output_type": "stream",
     "text": [
      "23/02/24 04:20:15 WARN TaskSetManager: Stage 10517 contains a task of very large size (2969 KiB). The maximum recommended task size is 1000 KiB.\n",
      "23/02/24 04:20:15 WARN TaskSetManager: Stage 10518 contains a task of very large size (2969 KiB). The maximum recommended task size is 1000 KiB.\n",
      "23/02/24 04:20:37 WARN TaskSetManager: Stage 10725 contains a task of very large size (2969 KiB). The maximum recommended task size is 1000 KiB.\n",
      "23/02/24 04:20:38 WARN TaskSetManager: Stage 10726 contains a task of very large size (2969 KiB). The maximum recommended task size is 1000 KiB.\n",
      "23/02/24 04:20:41 WARN TaskSetManager: Stage 10759 contains a task of very large size (2969 KiB). The maximum recommended task size is 1000 KiB.\n",
      "23/02/24 04:20:44 WARN TaskSetManager: Stage 10762 contains a task of very large size (2729 KiB). The maximum recommended task size is 1000 KiB.\n",
      "23/02/24 04:20:48 WARN TaskSetManager: Stage 10764 contains a task of very large size (2969 KiB). The maximum recommended task size is 1000 KiB.\n",
      "23/02/24 04:20:48 WARN TaskSetManager: Stage 10765 contains a task of very large size (2969 KiB). The maximum recommended task size is 1000 KiB.\n",
      "23/02/24 04:20:48 WARN TaskSetManager: Stage 10766 contains a task of very large size (2969 KiB). The maximum recommended task size is 1000 KiB.\n"
     ]
    },
    {
     "name": "stdout",
     "output_type": "stream",
     "text": [
      "Iterations: 20\n"
     ]
    },
    {
     "name": "stderr",
     "output_type": "stream",
     "text": [
      "23/02/24 04:20:48 WARN TaskSetManager: Stage 10767 contains a task of very large size (3001 KiB). The maximum recommended task size is 1000 KiB.\n",
      "23/02/24 04:21:09 WARN TaskSetManager: Stage 11034 contains a task of very large size (2969 KiB). The maximum recommended task size is 1000 KiB.\n",
      "23/02/24 04:21:09 WARN TaskSetManager: Stage 11035 contains a task of very large size (2969 KiB). The maximum recommended task size is 1000 KiB.\n",
      "23/02/24 04:21:11 WARN TaskSetManager: Stage 11078 contains a task of very large size (2969 KiB). The maximum recommended task size is 1000 KiB.\n",
      "23/02/24 04:21:14 WARN TaskSetManager: Stage 11081 contains a task of very large size (2729 KiB). The maximum recommended task size is 1000 KiB.\n",
      "23/02/24 04:21:18 WARN TaskSetManager: Stage 11083 contains a task of very large size (2969 KiB). The maximum recommended task size is 1000 KiB.\n",
      "23/02/24 04:21:18 WARN TaskSetManager: Stage 11084 contains a task of very large size (2969 KiB). The maximum recommended task size is 1000 KiB.\n",
      "23/02/24 04:21:18 WARN TaskSetManager: Stage 11085 contains a task of very large size (2969 KiB). The maximum recommended task size is 1000 KiB.\n"
     ]
    },
    {
     "name": "stdout",
     "output_type": "stream",
     "text": [
      "Rank: 40\n",
      "Regularization: 0.010000\n",
      "Iterations: 2\n"
     ]
    },
    {
     "name": "stderr",
     "output_type": "stream",
     "text": [
      "23/02/24 04:21:18 WARN TaskSetManager: Stage 11086 contains a task of very large size (2969 KiB). The maximum recommended task size is 1000 KiB.\n",
      "23/02/24 04:21:27 WARN TaskSetManager: Stage 11137 contains a task of very large size (2969 KiB). The maximum recommended task size is 1000 KiB.\n",
      "23/02/24 04:21:28 WARN TaskSetManager: Stage 11138 contains a task of very large size (2969 KiB). The maximum recommended task size is 1000 KiB.\n",
      "23/02/24 04:21:31 WARN TaskSetManager: Stage 11145 contains a task of very large size (2969 KiB). The maximum recommended task size is 1000 KiB.\n",
      "23/02/24 04:21:34 WARN TaskSetManager: Stage 11148 contains a task of very large size (2729 KiB). The maximum recommended task size is 1000 KiB.\n",
      "23/02/24 04:21:37 WARN TaskSetManager: Stage 11150 contains a task of very large size (2969 KiB). The maximum recommended task size is 1000 KiB.\n",
      "23/02/24 04:21:37 WARN TaskSetManager: Stage 11151 contains a task of very large size (2969 KiB). The maximum recommended task size is 1000 KiB.\n"
     ]
    },
    {
     "name": "stdout",
     "output_type": "stream",
     "text": [
      "Iterations: 5\n"
     ]
    },
    {
     "name": "stderr",
     "output_type": "stream",
     "text": [
      "23/02/24 04:21:38 WARN TaskSetManager: Stage 11152 contains a task of very large size (2969 KiB). The maximum recommended task size is 1000 KiB.\n",
      "23/02/24 04:21:38 WARN TaskSetManager: Stage 11153 contains a task of very large size (3001 KiB). The maximum recommended task size is 1000 KiB.\n",
      "23/02/24 04:21:54 WARN TaskSetManager: Stage 11240 contains a task of very large size (2969 KiB). The maximum recommended task size is 1000 KiB.\n",
      "23/02/24 04:21:54 WARN TaskSetManager: Stage 11241 contains a task of very large size (2969 KiB). The maximum recommended task size is 1000 KiB.\n",
      "23/02/24 04:21:57 WARN TaskSetManager: Stage 11255 contains a task of very large size (2969 KiB). The maximum recommended task size is 1000 KiB.\n",
      "23/02/24 04:22:00 WARN TaskSetManager: Stage 11257 contains a task of very large size (2729 KiB). The maximum recommended task size is 1000 KiB.\n",
      "23/02/24 04:22:04 WARN TaskSetManager: Stage 11259 contains a task of very large size (2969 KiB). The maximum recommended task size is 1000 KiB.\n"
     ]
    },
    {
     "name": "stdout",
     "output_type": "stream",
     "text": [
      "Iterations: 10\n"
     ]
    },
    {
     "name": "stderr",
     "output_type": "stream",
     "text": [
      "23/02/24 04:22:04 WARN TaskSetManager: Stage 11260 contains a task of very large size (2969 KiB). The maximum recommended task size is 1000 KiB.\n",
      "23/02/24 04:22:04 WARN TaskSetManager: Stage 11261 contains a task of very large size (2969 KiB). The maximum recommended task size is 1000 KiB.\n",
      "23/02/24 04:22:04 WARN TaskSetManager: Stage 11262 contains a task of very large size (3001 KiB). The maximum recommended task size is 1000 KiB.\n",
      "23/02/24 04:22:31 WARN TaskSetManager: Stage 11409 contains a task of very large size (2969 KiB). The maximum recommended task size is 1000 KiB.\n",
      "23/02/24 04:22:32 WARN TaskSetManager: Stage 11410 contains a task of very large size (2969 KiB). The maximum recommended task size is 1000 KiB.\n",
      "23/02/24 04:22:36 WARN TaskSetManager: Stage 11434 contains a task of very large size (2969 KiB). The maximum recommended task size is 1000 KiB.\n",
      "23/02/24 04:22:39 WARN TaskSetManager: Stage 11436 contains a task of very large size (2970 KiB). The maximum recommended task size is 1000 KiB.\n",
      "23/02/24 04:22:42 WARN TaskSetManager: Stage 11438 contains a task of very large size (2969 KiB). The maximum recommended task size is 1000 KiB.\n"
     ]
    },
    {
     "name": "stdout",
     "output_type": "stream",
     "text": [
      "Iterations: 15\n"
     ]
    },
    {
     "name": "stderr",
     "output_type": "stream",
     "text": [
      "23/02/24 04:22:42 WARN TaskSetManager: Stage 11439 contains a task of very large size (2969 KiB). The maximum recommended task size is 1000 KiB.\n",
      "23/02/24 04:22:42 WARN TaskSetManager: Stage 11440 contains a task of very large size (2969 KiB). The maximum recommended task size is 1000 KiB.\n",
      "23/02/24 04:22:43 WARN TaskSetManager: Stage 11441 contains a task of very large size (2729 KiB). The maximum recommended task size is 1000 KiB.\n",
      "23/02/24 04:23:26 WARN TaskSetManager: Stage 11648 contains a task of very large size (2969 KiB). The maximum recommended task size is 1000 KiB.\n",
      "23/02/24 04:23:27 WARN TaskSetManager: Stage 11649 contains a task of very large size (2969 KiB). The maximum recommended task size is 1000 KiB.\n",
      "23/02/24 04:23:30 WARN TaskSetManager: Stage 11683 contains a task of very large size (2969 KiB). The maximum recommended task size is 1000 KiB.\n",
      "23/02/24 04:23:33 WARN TaskSetManager: Stage 11685 contains a task of very large size (2999 KiB). The maximum recommended task size is 1000 KiB.\n",
      "23/02/24 04:23:37 WARN TaskSetManager: Stage 11687 contains a task of very large size (2969 KiB). The maximum recommended task size is 1000 KiB.\n",
      "23/02/24 04:23:37 WARN TaskSetManager: Stage 11688 contains a task of very large size (2969 KiB). The maximum recommended task size is 1000 KiB.\n"
     ]
    },
    {
     "name": "stdout",
     "output_type": "stream",
     "text": [
      "Iterations: 20\n"
     ]
    },
    {
     "name": "stderr",
     "output_type": "stream",
     "text": [
      "23/02/24 04:23:37 WARN TaskSetManager: Stage 11689 contains a task of very large size (2969 KiB). The maximum recommended task size is 1000 KiB.\n",
      "23/02/24 04:23:38 WARN TaskSetManager: Stage 11690 contains a task of very large size (2969 KiB). The maximum recommended task size is 1000 KiB.\n",
      "23/02/24 04:24:25 WARN TaskSetManager: Stage 11957 contains a task of very large size (2969 KiB). The maximum recommended task size is 1000 KiB.\n",
      "23/02/24 04:24:26 WARN TaskSetManager: Stage 11958 contains a task of very large size (2969 KiB). The maximum recommended task size is 1000 KiB.\n",
      "23/02/24 04:24:30 WARN TaskSetManager: Stage 12002 contains a task of very large size (2969 KiB). The maximum recommended task size is 1000 KiB.\n",
      "23/02/24 04:24:33 WARN TaskSetManager: Stage 12004 contains a task of very large size (2999 KiB). The maximum recommended task size is 1000 KiB.\n",
      "23/02/24 04:24:37 WARN TaskSetManager: Stage 12006 contains a task of very large size (2969 KiB). The maximum recommended task size is 1000 KiB.\n",
      "23/02/24 04:24:37 WARN TaskSetManager: Stage 12007 contains a task of very large size (2969 KiB). The maximum recommended task size is 1000 KiB.\n"
     ]
    },
    {
     "name": "stdout",
     "output_type": "stream",
     "text": [
      "Regularization: 0.100000\n",
      "Iterations: 2\n"
     ]
    },
    {
     "name": "stderr",
     "output_type": "stream",
     "text": [
      "23/02/24 04:24:37 WARN TaskSetManager: Stage 12008 contains a task of very large size (2969 KiB). The maximum recommended task size is 1000 KiB.\n",
      "23/02/24 04:24:37 WARN TaskSetManager: Stage 12009 contains a task of very large size (2729 KiB). The maximum recommended task size is 1000 KiB.\n",
      "23/02/24 04:24:48 WARN TaskSetManager: Stage 12060 contains a task of very large size (2969 KiB). The maximum recommended task size is 1000 KiB.\n",
      "23/02/24 04:24:49 WARN TaskSetManager: Stage 12061 contains a task of very large size (2969 KiB). The maximum recommended task size is 1000 KiB.\n",
      "23/02/24 04:24:52 WARN TaskSetManager: Stage 12069 contains a task of very large size (2969 KiB). The maximum recommended task size is 1000 KiB.\n",
      "23/02/24 04:24:55 WARN TaskSetManager: Stage 12071 contains a task of very large size (2970 KiB). The maximum recommended task size is 1000 KiB.\n",
      "23/02/24 04:24:58 WARN TaskSetManager: Stage 12073 contains a task of very large size (2969 KiB). The maximum recommended task size is 1000 KiB.\n"
     ]
    },
    {
     "name": "stdout",
     "output_type": "stream",
     "text": [
      "Iterations: 5\n"
     ]
    },
    {
     "name": "stderr",
     "output_type": "stream",
     "text": [
      "23/02/24 04:24:58 WARN TaskSetManager: Stage 12074 contains a task of very large size (2969 KiB). The maximum recommended task size is 1000 KiB.\n",
      "23/02/24 04:24:59 WARN TaskSetManager: Stage 12075 contains a task of very large size (2969 KiB). The maximum recommended task size is 1000 KiB.\n",
      "23/02/24 04:24:59 WARN TaskSetManager: Stage 12076 contains a task of very large size (2729 KiB). The maximum recommended task size is 1000 KiB.\n",
      "23/02/24 04:25:15 WARN TaskSetManager: Stage 12163 contains a task of very large size (2969 KiB). The maximum recommended task size is 1000 KiB.\n",
      "23/02/24 04:25:16 WARN TaskSetManager: Stage 12164 contains a task of very large size (2969 KiB). The maximum recommended task size is 1000 KiB.\n",
      "23/02/24 04:25:19 WARN TaskSetManager: Stage 12177 contains a task of very large size (2969 KiB). The maximum recommended task size is 1000 KiB.\n",
      "23/02/24 04:25:23 WARN TaskSetManager: Stage 12180 contains a task of very large size (2729 KiB). The maximum recommended task size is 1000 KiB.\n",
      "23/02/24 04:25:27 WARN TaskSetManager: Stage 12182 contains a task of very large size (2969 KiB). The maximum recommended task size is 1000 KiB.\n",
      "23/02/24 04:25:27 WARN TaskSetManager: Stage 12183 contains a task of very large size (2969 KiB). The maximum recommended task size is 1000 KiB.\n"
     ]
    },
    {
     "name": "stdout",
     "output_type": "stream",
     "text": [
      "Iterations: 10\n"
     ]
    },
    {
     "name": "stderr",
     "output_type": "stream",
     "text": [
      "23/02/24 04:25:27 WARN TaskSetManager: Stage 12184 contains a task of very large size (2969 KiB). The maximum recommended task size is 1000 KiB.\n",
      "23/02/24 04:25:27 WARN TaskSetManager: Stage 12185 contains a task of very large size (2999 KiB). The maximum recommended task size is 1000 KiB.\n",
      "23/02/24 04:25:57 WARN TaskSetManager: Stage 12332 contains a task of very large size (2969 KiB). The maximum recommended task size is 1000 KiB.\n",
      "23/02/24 04:25:57 WARN TaskSetManager: Stage 12333 contains a task of very large size (2969 KiB). The maximum recommended task size is 1000 KiB.\n",
      "23/02/24 04:26:00 WARN TaskSetManager: Stage 12357 contains a task of very large size (2969 KiB). The maximum recommended task size is 1000 KiB.\n",
      "23/02/24 04:26:04 WARN TaskSetManager: Stage 12359 contains a task of very large size (3001 KiB). The maximum recommended task size is 1000 KiB.\n",
      "23/02/24 04:26:08 WARN TaskSetManager: Stage 12361 contains a task of very large size (2969 KiB). The maximum recommended task size is 1000 KiB.\n",
      "23/02/24 04:26:08 WARN TaskSetManager: Stage 12362 contains a task of very large size (2969 KiB). The maximum recommended task size is 1000 KiB.\n",
      "23/02/24 04:26:08 WARN TaskSetManager: Stage 12363 contains a task of very large size (2969 KiB). The maximum recommended task size is 1000 KiB.\n"
     ]
    },
    {
     "name": "stdout",
     "output_type": "stream",
     "text": [
      "Iterations: 15\n"
     ]
    },
    {
     "name": "stderr",
     "output_type": "stream",
     "text": [
      "23/02/24 04:26:08 WARN TaskSetManager: Stage 12364 contains a task of very large size (3001 KiB). The maximum recommended task size is 1000 KiB.\n",
      "23/02/24 04:26:49 WARN TaskSetManager: Stage 12571 contains a task of very large size (2969 KiB). The maximum recommended task size is 1000 KiB.\n",
      "23/02/24 04:26:50 WARN TaskSetManager: Stage 12572 contains a task of very large size (2969 KiB). The maximum recommended task size is 1000 KiB.\n",
      "23/02/24 04:26:53 WARN TaskSetManager: Stage 12606 contains a task of very large size (2969 KiB). The maximum recommended task size is 1000 KiB.\n",
      "23/02/24 04:26:57 WARN TaskSetManager: Stage 12608 contains a task of very large size (2970 KiB). The maximum recommended task size is 1000 KiB.\n",
      "23/02/24 04:27:00 WARN TaskSetManager: Stage 12610 contains a task of very large size (2969 KiB). The maximum recommended task size is 1000 KiB.\n",
      "23/02/24 04:27:00 WARN TaskSetManager: Stage 12611 contains a task of very large size (2969 KiB). The maximum recommended task size is 1000 KiB.\n"
     ]
    },
    {
     "name": "stdout",
     "output_type": "stream",
     "text": [
      "Iterations: 20\n"
     ]
    },
    {
     "name": "stderr",
     "output_type": "stream",
     "text": [
      "23/02/24 04:27:00 WARN TaskSetManager: Stage 12612 contains a task of very large size (2969 KiB). The maximum recommended task size is 1000 KiB.\n",
      "23/02/24 04:27:01 WARN TaskSetManager: Stage 12613 contains a task of very large size (3001 KiB). The maximum recommended task size is 1000 KiB.\n",
      "23/02/24 04:27:52 WARN TaskSetManager: Stage 12880 contains a task of very large size (2969 KiB). The maximum recommended task size is 1000 KiB.\n",
      "23/02/24 04:27:53 WARN TaskSetManager: Stage 12881 contains a task of very large size (2969 KiB). The maximum recommended task size is 1000 KiB.\n",
      "23/02/24 04:27:57 WARN TaskSetManager: Stage 12925 contains a task of very large size (2969 KiB). The maximum recommended task size is 1000 KiB.\n",
      "23/02/24 04:28:00 WARN TaskSetManager: Stage 12927 contains a task of very large size (3001 KiB). The maximum recommended task size is 1000 KiB.\n",
      "23/02/24 04:28:03 WARN TaskSetManager: Stage 12929 contains a task of very large size (2969 KiB). The maximum recommended task size is 1000 KiB.\n",
      "23/02/24 04:28:03 WARN TaskSetManager: Stage 12930 contains a task of very large size (2969 KiB). The maximum recommended task size is 1000 KiB.\n",
      "23/02/24 04:28:03 WARN TaskSetManager: Stage 12931 contains a task of very large size (2969 KiB). The maximum recommended task size is 1000 KiB.\n"
     ]
    },
    {
     "name": "stdout",
     "output_type": "stream",
     "text": [
      "Regularization: 1.000000\n",
      "Iterations: 2\n"
     ]
    },
    {
     "name": "stderr",
     "output_type": "stream",
     "text": [
      "23/02/24 04:28:04 WARN TaskSetManager: Stage 12932 contains a task of very large size (3001 KiB). The maximum recommended task size is 1000 KiB.\n",
      "23/02/24 04:28:14 WARN TaskSetManager: Stage 12983 contains a task of very large size (2969 KiB). The maximum recommended task size is 1000 KiB.\n",
      "23/02/24 04:28:15 WARN TaskSetManager: Stage 12984 contains a task of very large size (2969 KiB). The maximum recommended task size is 1000 KiB.\n",
      "23/02/24 04:28:18 WARN TaskSetManager: Stage 12992 contains a task of very large size (2969 KiB). The maximum recommended task size is 1000 KiB.\n",
      "23/02/24 04:28:21 WARN TaskSetManager: Stage 12994 contains a task of very large size (2999 KiB). The maximum recommended task size is 1000 KiB.\n",
      "23/02/24 04:28:25 WARN TaskSetManager: Stage 12996 contains a task of very large size (2969 KiB). The maximum recommended task size is 1000 KiB.\n",
      "23/02/24 04:28:25 WARN TaskSetManager: Stage 12997 contains a task of very large size (2969 KiB). The maximum recommended task size is 1000 KiB.\n"
     ]
    },
    {
     "name": "stdout",
     "output_type": "stream",
     "text": [
      "Iterations: 5\n"
     ]
    },
    {
     "name": "stderr",
     "output_type": "stream",
     "text": [
      "23/02/24 04:28:25 WARN TaskSetManager: Stage 12998 contains a task of very large size (2969 KiB). The maximum recommended task size is 1000 KiB.\n",
      "23/02/24 04:28:26 WARN TaskSetManager: Stage 12999 contains a task of very large size (2729 KiB). The maximum recommended task size is 1000 KiB.\n",
      "23/02/24 04:28:44 WARN TaskSetManager: Stage 13086 contains a task of very large size (2969 KiB). The maximum recommended task size is 1000 KiB.\n",
      "23/02/24 04:28:45 WARN TaskSetManager: Stage 13087 contains a task of very large size (2969 KiB). The maximum recommended task size is 1000 KiB.\n",
      "23/02/24 04:28:48 WARN TaskSetManager: Stage 13100 contains a task of very large size (2969 KiB). The maximum recommended task size is 1000 KiB.\n",
      "23/02/24 04:28:51 WARN TaskSetManager: Stage 13103 contains a task of very large size (3001 KiB). The maximum recommended task size is 1000 KiB.\n",
      "23/02/24 04:28:55 WARN TaskSetManager: Stage 13105 contains a task of very large size (2969 KiB). The maximum recommended task size is 1000 KiB.\n",
      "23/02/24 04:28:55 WARN TaskSetManager: Stage 13106 contains a task of very large size (2969 KiB). The maximum recommended task size is 1000 KiB.\n",
      "23/02/24 04:28:55 WARN TaskSetManager: Stage 13107 contains a task of very large size (2969 KiB). The maximum recommended task size is 1000 KiB.\n"
     ]
    },
    {
     "name": "stdout",
     "output_type": "stream",
     "text": [
      "Iterations: 10\n"
     ]
    },
    {
     "name": "stderr",
     "output_type": "stream",
     "text": [
      "23/02/24 04:28:55 WARN TaskSetManager: Stage 13108 contains a task of very large size (2969 KiB). The maximum recommended task size is 1000 KiB.\n",
      "23/02/24 04:29:21 WARN TaskSetManager: Stage 13255 contains a task of very large size (2969 KiB). The maximum recommended task size is 1000 KiB.\n",
      "23/02/24 04:29:22 WARN TaskSetManager: Stage 13256 contains a task of very large size (2969 KiB). The maximum recommended task size is 1000 KiB.\n",
      "23/02/24 04:29:25 WARN TaskSetManager: Stage 13279 contains a task of very large size (2969 KiB). The maximum recommended task size is 1000 KiB.\n",
      "23/02/24 04:29:28 WARN TaskSetManager: Stage 13282 contains a task of very large size (3001 KiB). The maximum recommended task size is 1000 KiB.\n",
      "23/02/24 04:29:32 WARN TaskSetManager: Stage 13284 contains a task of very large size (2969 KiB). The maximum recommended task size is 1000 KiB.\n",
      "23/02/24 04:29:32 WARN TaskSetManager: Stage 13285 contains a task of very large size (2969 KiB). The maximum recommended task size is 1000 KiB.\n"
     ]
    },
    {
     "name": "stdout",
     "output_type": "stream",
     "text": [
      "Iterations: 15\n"
     ]
    },
    {
     "name": "stderr",
     "output_type": "stream",
     "text": [
      "23/02/24 04:29:32 WARN TaskSetManager: Stage 13286 contains a task of very large size (2969 KiB). The maximum recommended task size is 1000 KiB.\n",
      "23/02/24 04:29:33 WARN TaskSetManager: Stage 13287 contains a task of very large size (2729 KiB). The maximum recommended task size is 1000 KiB.\n",
      "23/02/24 04:30:19 WARN TaskSetManager: Stage 13494 contains a task of very large size (2969 KiB). The maximum recommended task size is 1000 KiB.\n",
      "23/02/24 04:30:20 WARN TaskSetManager: Stage 13495 contains a task of very large size (2969 KiB). The maximum recommended task size is 1000 KiB.\n",
      "23/02/24 04:30:23 WARN TaskSetManager: Stage 13528 contains a task of very large size (2969 KiB). The maximum recommended task size is 1000 KiB.\n",
      "23/02/24 04:30:26 WARN TaskSetManager: Stage 13531 contains a task of very large size (3001 KiB). The maximum recommended task size is 1000 KiB.\n",
      "23/02/24 04:30:30 WARN TaskSetManager: Stage 13533 contains a task of very large size (2969 KiB). The maximum recommended task size is 1000 KiB.\n"
     ]
    },
    {
     "name": "stdout",
     "output_type": "stream",
     "text": [
      "Iterations: 20\n"
     ]
    },
    {
     "name": "stderr",
     "output_type": "stream",
     "text": [
      "23/02/24 04:30:30 WARN TaskSetManager: Stage 13534 contains a task of very large size (2969 KiB). The maximum recommended task size is 1000 KiB.\n",
      "23/02/24 04:30:30 WARN TaskSetManager: Stage 13535 contains a task of very large size (2969 KiB). The maximum recommended task size is 1000 KiB.\n",
      "23/02/24 04:30:31 WARN TaskSetManager: Stage 13536 contains a task of very large size (3002 KiB). The maximum recommended task size is 1000 KiB.\n",
      "23/02/24 04:31:26 WARN TaskSetManager: Stage 13803 contains a task of very large size (2969 KiB). The maximum recommended task size is 1000 KiB.\n",
      "23/02/24 04:31:27 WARN TaskSetManager: Stage 13804 contains a task of very large size (2969 KiB). The maximum recommended task size is 1000 KiB.\n",
      "23/02/24 04:31:31 WARN TaskSetManager: Stage 13848 contains a task of very large size (2969 KiB). The maximum recommended task size is 1000 KiB.\n",
      "23/02/24 04:31:34 WARN TaskSetManager: Stage 13850 contains a task of very large size (3001 KiB). The maximum recommended task size is 1000 KiB.\n",
      "23/02/24 04:31:38 WARN TaskSetManager: Stage 13852 contains a task of very large size (2969 KiB). The maximum recommended task size is 1000 KiB.\n",
      "23/02/24 04:31:38 WARN TaskSetManager: Stage 13853 contains a task of very large size (2969 KiB). The maximum recommended task size is 1000 KiB.\n",
      "23/02/24 04:31:38 WARN TaskSetManager: Stage 13854 contains a task of very large size (2969 KiB). The maximum recommended task size is 1000 KiB.\n"
     ]
    },
    {
     "name": "stdout",
     "output_type": "stream",
     "text": [
      "Regularization: 10.000000\n",
      "Iterations: 2\n"
     ]
    },
    {
     "name": "stderr",
     "output_type": "stream",
     "text": [
      "23/02/24 04:31:38 WARN TaskSetManager: Stage 13855 contains a task of very large size (3002 KiB). The maximum recommended task size is 1000 KiB.\n",
      "23/02/24 04:31:48 WARN TaskSetManager: Stage 13906 contains a task of very large size (2969 KiB). The maximum recommended task size is 1000 KiB.\n",
      "23/02/24 04:31:49 WARN TaskSetManager: Stage 13907 contains a task of very large size (2969 KiB). The maximum recommended task size is 1000 KiB.\n",
      "23/02/24 04:31:52 WARN TaskSetManager: Stage 13915 contains a task of very large size (2969 KiB). The maximum recommended task size is 1000 KiB.\n",
      "23/02/24 04:31:55 WARN TaskSetManager: Stage 13917 contains a task of very large size (2970 KiB). The maximum recommended task size is 1000 KiB.\n",
      "23/02/24 04:31:59 WARN TaskSetManager: Stage 13919 contains a task of very large size (2969 KiB). The maximum recommended task size is 1000 KiB.\n",
      "23/02/24 04:31:59 WARN TaskSetManager: Stage 13920 contains a task of very large size (2969 KiB). The maximum recommended task size is 1000 KiB.\n"
     ]
    },
    {
     "name": "stdout",
     "output_type": "stream",
     "text": [
      "Iterations: 5\n"
     ]
    },
    {
     "name": "stderr",
     "output_type": "stream",
     "text": [
      "23/02/24 04:31:59 WARN TaskSetManager: Stage 13921 contains a task of very large size (2969 KiB). The maximum recommended task size is 1000 KiB.\n",
      "23/02/24 04:31:59 WARN TaskSetManager: Stage 13922 contains a task of very large size (2729 KiB). The maximum recommended task size is 1000 KiB.\n",
      "23/02/24 04:32:19 WARN TaskSetManager: Stage 14009 contains a task of very large size (2969 KiB). The maximum recommended task size is 1000 KiB.\n",
      "23/02/24 04:32:20 WARN TaskSetManager: Stage 14010 contains a task of very large size (2969 KiB). The maximum recommended task size is 1000 KiB.\n",
      "23/02/24 04:32:23 WARN TaskSetManager: Stage 14024 contains a task of very large size (2969 KiB). The maximum recommended task size is 1000 KiB.\n",
      "23/02/24 04:32:26 WARN TaskSetManager: Stage 14026 contains a task of very large size (2999 KiB). The maximum recommended task size is 1000 KiB.\n",
      "23/02/24 04:32:30 WARN TaskSetManager: Stage 14028 contains a task of very large size (2969 KiB). The maximum recommended task size is 1000 KiB.\n",
      "23/02/24 04:32:30 WARN TaskSetManager: Stage 14029 contains a task of very large size (2969 KiB). The maximum recommended task size is 1000 KiB.\n",
      "23/02/24 04:32:30 WARN TaskSetManager: Stage 14030 contains a task of very large size (2969 KiB). The maximum recommended task size is 1000 KiB.\n"
     ]
    },
    {
     "name": "stdout",
     "output_type": "stream",
     "text": [
      "Iterations: 10\n"
     ]
    },
    {
     "name": "stderr",
     "output_type": "stream",
     "text": [
      "23/02/24 04:32:30 WARN TaskSetManager: Stage 14031 contains a task of very large size (2969 KiB). The maximum recommended task size is 1000 KiB.\n",
      "23/02/24 04:32:59 WARN TaskSetManager: Stage 14178 contains a task of very large size (2969 KiB). The maximum recommended task size is 1000 KiB.\n",
      "23/02/24 04:33:00 WARN TaskSetManager: Stage 14179 contains a task of very large size (2969 KiB). The maximum recommended task size is 1000 KiB.\n",
      "23/02/24 04:33:03 WARN TaskSetManager: Stage 14202 contains a task of very large size (2969 KiB). The maximum recommended task size is 1000 KiB.\n",
      "23/02/24 04:33:05 WARN TaskSetManager: Stage 14205 contains a task of very large size (3001 KiB). The maximum recommended task size is 1000 KiB.\n",
      "23/02/24 04:33:09 WARN TaskSetManager: Stage 14207 contains a task of very large size (2969 KiB). The maximum recommended task size is 1000 KiB.\n",
      "23/02/24 04:33:09 WARN TaskSetManager: Stage 14208 contains a task of very large size (2969 KiB). The maximum recommended task size is 1000 KiB.\n"
     ]
    },
    {
     "name": "stdout",
     "output_type": "stream",
     "text": [
      "Iterations: 15\n"
     ]
    },
    {
     "name": "stderr",
     "output_type": "stream",
     "text": [
      "23/02/24 04:33:10 WARN TaskSetManager: Stage 14209 contains a task of very large size (2969 KiB). The maximum recommended task size is 1000 KiB.\n",
      "23/02/24 04:33:10 WARN TaskSetManager: Stage 14210 contains a task of very large size (3001 KiB). The maximum recommended task size is 1000 KiB.\n",
      "23/02/24 04:33:48 WARN TaskSetManager: Stage 14417 contains a task of very large size (2969 KiB). The maximum recommended task size is 1000 KiB.\n",
      "23/02/24 04:33:49 WARN TaskSetManager: Stage 14418 contains a task of very large size (2969 KiB). The maximum recommended task size is 1000 KiB.\n",
      "23/02/24 04:33:53 WARN TaskSetManager: Stage 14452 contains a task of very large size (2969 KiB). The maximum recommended task size is 1000 KiB.\n",
      "23/02/24 04:33:56 WARN TaskSetManager: Stage 14454 contains a task of very large size (2970 KiB). The maximum recommended task size is 1000 KiB.\n",
      "23/02/24 04:33:59 WARN TaskSetManager: Stage 14456 contains a task of very large size (2969 KiB). The maximum recommended task size is 1000 KiB.\n",
      "23/02/24 04:33:59 WARN TaskSetManager: Stage 14457 contains a task of very large size (2969 KiB). The maximum recommended task size is 1000 KiB.\n"
     ]
    },
    {
     "name": "stdout",
     "output_type": "stream",
     "text": [
      "Iterations: 20\n"
     ]
    },
    {
     "name": "stderr",
     "output_type": "stream",
     "text": [
      "23/02/24 04:33:59 WARN TaskSetManager: Stage 14458 contains a task of very large size (2969 KiB). The maximum recommended task size is 1000 KiB.\n",
      "23/02/24 04:33:59 WARN TaskSetManager: Stage 14459 contains a task of very large size (2969 KiB). The maximum recommended task size is 1000 KiB.\n",
      "23/02/24 04:34:44 WARN TaskSetManager: Stage 14726 contains a task of very large size (2969 KiB). The maximum recommended task size is 1000 KiB.\n",
      "23/02/24 04:34:46 WARN TaskSetManager: Stage 14727 contains a task of very large size (2969 KiB). The maximum recommended task size is 1000 KiB.\n",
      "23/02/24 04:34:49 WARN TaskSetManager: Stage 14770 contains a task of very large size (2969 KiB). The maximum recommended task size is 1000 KiB.\n",
      "23/02/24 04:34:52 WARN TaskSetManager: Stage 14773 contains a task of very large size (2729 KiB). The maximum recommended task size is 1000 KiB.\n",
      "23/02/24 04:34:56 WARN TaskSetManager: Stage 14775 contains a task of very large size (2969 KiB). The maximum recommended task size is 1000 KiB.\n",
      "23/02/24 04:34:56 WARN TaskSetManager: Stage 14776 contains a task of very large size (2969 KiB). The maximum recommended task size is 1000 KiB.\n"
     ]
    },
    {
     "name": "stdout",
     "output_type": "stream",
     "text": [
      "Rank: 80\n",
      "Regularization: 0.010000\n",
      "Iterations: 2\n"
     ]
    },
    {
     "name": "stderr",
     "output_type": "stream",
     "text": [
      "23/02/24 04:34:56 WARN TaskSetManager: Stage 14777 contains a task of very large size (2969 KiB). The maximum recommended task size is 1000 KiB.\n",
      "23/02/24 04:34:57 WARN TaskSetManager: Stage 14778 contains a task of very large size (2969 KiB). The maximum recommended task size is 1000 KiB.\n",
      "23/02/24 04:35:22 WARN TaskSetManager: Stage 14829 contains a task of very large size (2969 KiB). The maximum recommended task size is 1000 KiB.\n",
      "23/02/24 04:35:23 WARN TaskSetManager: Stage 14830 contains a task of very large size (2969 KiB). The maximum recommended task size is 1000 KiB.\n",
      "23/02/24 04:35:27 WARN TaskSetManager: Stage 14837 contains a task of very large size (2969 KiB). The maximum recommended task size is 1000 KiB.\n",
      "23/02/24 04:35:29 WARN TaskSetManager: Stage 14840 contains a task of very large size (2970 KiB). The maximum recommended task size is 1000 KiB.\n",
      "23/02/24 04:35:34 WARN TaskSetManager: Stage 14842 contains a task of very large size (2969 KiB). The maximum recommended task size is 1000 KiB.\n"
     ]
    },
    {
     "name": "stdout",
     "output_type": "stream",
     "text": [
      "Iterations: 5\n"
     ]
    },
    {
     "name": "stderr",
     "output_type": "stream",
     "text": [
      "23/02/24 04:35:34 WARN TaskSetManager: Stage 14843 contains a task of very large size (2969 KiB). The maximum recommended task size is 1000 KiB.\n",
      "23/02/24 04:35:34 WARN TaskSetManager: Stage 14844 contains a task of very large size (2969 KiB). The maximum recommended task size is 1000 KiB.\n",
      "23/02/24 04:35:34 WARN TaskSetManager: Stage 14845 contains a task of very large size (3001 KiB). The maximum recommended task size is 1000 KiB.\n",
      "23/02/24 04:36:20 WARN TaskSetManager: Stage 14932 contains a task of very large size (2969 KiB). The maximum recommended task size is 1000 KiB.\n",
      "23/02/24 04:36:21 WARN TaskSetManager: Stage 14933 contains a task of very large size (2969 KiB). The maximum recommended task size is 1000 KiB.\n",
      "23/02/24 04:36:24 WARN TaskSetManager: Stage 14946 contains a task of very large size (2969 KiB). The maximum recommended task size is 1000 KiB.\n",
      "23/02/24 04:36:27 WARN TaskSetManager: Stage 14949 contains a task of very large size (2999 KiB). The maximum recommended task size is 1000 KiB.\n",
      "23/02/24 04:36:32 WARN TaskSetManager: Stage 14951 contains a task of very large size (2969 KiB). The maximum recommended task size is 1000 KiB.\n",
      "23/02/24 04:36:32 WARN TaskSetManager: Stage 14952 contains a task of very large size (2969 KiB). The maximum recommended task size is 1000 KiB.\n"
     ]
    },
    {
     "name": "stdout",
     "output_type": "stream",
     "text": [
      "Iterations: 10\n"
     ]
    },
    {
     "name": "stderr",
     "output_type": "stream",
     "text": [
      "23/02/24 04:36:32 WARN TaskSetManager: Stage 14953 contains a task of very large size (2969 KiB). The maximum recommended task size is 1000 KiB.\n",
      "23/02/24 04:36:33 WARN TaskSetManager: Stage 14954 contains a task of very large size (3002 KiB). The maximum recommended task size is 1000 KiB.\n",
      "23/02/24 04:37:56 WARN TaskSetManager: Stage 15101 contains a task of very large size (2969 KiB). The maximum recommended task size is 1000 KiB.\n",
      "23/02/24 04:37:57 WARN TaskSetManager: Stage 15102 contains a task of very large size (2969 KiB). The maximum recommended task size is 1000 KiB.\n",
      "23/02/24 04:38:00 WARN TaskSetManager: Stage 15126 contains a task of very large size (2969 KiB). The maximum recommended task size is 1000 KiB.\n",
      "23/02/24 04:38:03 WARN TaskSetManager: Stage 15128 contains a task of very large size (3001 KiB). The maximum recommended task size is 1000 KiB.\n",
      "23/02/24 04:38:09 WARN TaskSetManager: Stage 15130 contains a task of very large size (2969 KiB). The maximum recommended task size is 1000 KiB.\n"
     ]
    },
    {
     "name": "stdout",
     "output_type": "stream",
     "text": [
      "Iterations: 15\n"
     ]
    },
    {
     "name": "stderr",
     "output_type": "stream",
     "text": [
      "23/02/24 04:38:09 WARN TaskSetManager: Stage 15131 contains a task of very large size (2969 KiB). The maximum recommended task size is 1000 KiB.\n",
      "23/02/24 04:38:09 WARN TaskSetManager: Stage 15132 contains a task of very large size (2969 KiB). The maximum recommended task size is 1000 KiB.\n",
      "23/02/24 04:38:09 WARN TaskSetManager: Stage 15133 contains a task of very large size (2729 KiB). The maximum recommended task size is 1000 KiB.\n",
      "23/02/24 04:40:11 WARN TaskSetManager: Stage 15340 contains a task of very large size (2969 KiB). The maximum recommended task size is 1000 KiB.\n",
      "23/02/24 04:40:11 WARN TaskSetManager: Stage 15341 contains a task of very large size (2969 KiB). The maximum recommended task size is 1000 KiB.\n",
      "23/02/24 04:40:14 WARN TaskSetManager: Stage 15374 contains a task of very large size (2969 KiB). The maximum recommended task size is 1000 KiB.\n",
      "23/02/24 04:40:17 WARN TaskSetManager: Stage 15377 contains a task of very large size (3001 KiB). The maximum recommended task size is 1000 KiB.\n",
      "23/02/24 04:40:22 WARN TaskSetManager: Stage 15379 contains a task of very large size (2969 KiB). The maximum recommended task size is 1000 KiB.\n",
      "23/02/24 04:40:22 WARN TaskSetManager: Stage 15380 contains a task of very large size (2969 KiB). The maximum recommended task size is 1000 KiB.\n"
     ]
    },
    {
     "name": "stdout",
     "output_type": "stream",
     "text": [
      "Iterations: 20\n"
     ]
    },
    {
     "name": "stderr",
     "output_type": "stream",
     "text": [
      "23/02/24 04:40:23 WARN TaskSetManager: Stage 15381 contains a task of very large size (2969 KiB). The maximum recommended task size is 1000 KiB.\n",
      "23/02/24 04:40:23 WARN TaskSetManager: Stage 15382 contains a task of very large size (2969 KiB). The maximum recommended task size is 1000 KiB.\n",
      "23/02/24 04:43:04 WARN TaskSetManager: Stage 15649 contains a task of very large size (2969 KiB). The maximum recommended task size is 1000 KiB.\n",
      "23/02/24 04:43:05 WARN TaskSetManager: Stage 15650 contains a task of very large size (2969 KiB). The maximum recommended task size is 1000 KiB.\n",
      "23/02/24 04:43:08 WARN TaskSetManager: Stage 15694 contains a task of very large size (2969 KiB). The maximum recommended task size is 1000 KiB.\n",
      "23/02/24 04:43:11 WARN TaskSetManager: Stage 15696 contains a task of very large size (2999 KiB). The maximum recommended task size is 1000 KiB.\n",
      "23/02/24 04:43:16 WARN TaskSetManager: Stage 15698 contains a task of very large size (2969 KiB). The maximum recommended task size is 1000 KiB.\n",
      "23/02/24 04:43:16 WARN TaskSetManager: Stage 15699 contains a task of very large size (2969 KiB). The maximum recommended task size is 1000 KiB.\n"
     ]
    },
    {
     "name": "stdout",
     "output_type": "stream",
     "text": [
      "Regularization: 0.100000\n",
      "Iterations: 2\n"
     ]
    },
    {
     "name": "stderr",
     "output_type": "stream",
     "text": [
      "23/02/24 04:43:16 WARN TaskSetManager: Stage 15700 contains a task of very large size (2969 KiB). The maximum recommended task size is 1000 KiB.\n",
      "23/02/24 04:43:16 WARN TaskSetManager: Stage 15701 contains a task of very large size (2999 KiB). The maximum recommended task size is 1000 KiB.\n",
      "23/02/24 04:43:38 WARN TaskSetManager: Stage 15752 contains a task of very large size (2969 KiB). The maximum recommended task size is 1000 KiB.\n",
      "23/02/24 04:43:38 WARN TaskSetManager: Stage 15753 contains a task of very large size (2969 KiB). The maximum recommended task size is 1000 KiB.\n",
      "23/02/24 04:43:42 WARN TaskSetManager: Stage 15760 contains a task of very large size (2969 KiB). The maximum recommended task size is 1000 KiB.\n",
      "23/02/24 04:43:45 WARN TaskSetManager: Stage 15763 contains a task of very large size (2970 KiB). The maximum recommended task size is 1000 KiB.\n",
      "23/02/24 04:43:51 WARN TaskSetManager: Stage 15765 contains a task of very large size (2969 KiB). The maximum recommended task size is 1000 KiB.\n",
      "23/02/24 04:43:51 WARN TaskSetManager: Stage 15766 contains a task of very large size (2969 KiB). The maximum recommended task size is 1000 KiB.\n"
     ]
    },
    {
     "name": "stdout",
     "output_type": "stream",
     "text": [
      "Iterations: 5\n"
     ]
    },
    {
     "name": "stderr",
     "output_type": "stream",
     "text": [
      "23/02/24 04:43:51 WARN TaskSetManager: Stage 15767 contains a task of very large size (2969 KiB). The maximum recommended task size is 1000 KiB.\n",
      "23/02/24 04:43:51 WARN TaskSetManager: Stage 15768 contains a task of very large size (3002 KiB). The maximum recommended task size is 1000 KiB.\n",
      "23/02/24 04:44:38 WARN TaskSetManager: Stage 15855 contains a task of very large size (2969 KiB). The maximum recommended task size is 1000 KiB.\n",
      "23/02/24 04:44:39 WARN TaskSetManager: Stage 15856 contains a task of very large size (2969 KiB). The maximum recommended task size is 1000 KiB.\n",
      "23/02/24 04:44:43 WARN TaskSetManager: Stage 15869 contains a task of very large size (2969 KiB). The maximum recommended task size is 1000 KiB.\n",
      "23/02/24 04:44:46 WARN TaskSetManager: Stage 15872 contains a task of very large size (2999 KiB). The maximum recommended task size is 1000 KiB.\n",
      "23/02/24 04:44:51 WARN TaskSetManager: Stage 15874 contains a task of very large size (2969 KiB). The maximum recommended task size is 1000 KiB.\n",
      "23/02/24 04:44:51 WARN TaskSetManager: Stage 15875 contains a task of very large size (2969 KiB). The maximum recommended task size is 1000 KiB.\n",
      "23/02/24 04:44:51 WARN TaskSetManager: Stage 15876 contains a task of very large size (2969 KiB). The maximum recommended task size is 1000 KiB.\n"
     ]
    },
    {
     "name": "stdout",
     "output_type": "stream",
     "text": [
      "Iterations: 10\n"
     ]
    },
    {
     "name": "stderr",
     "output_type": "stream",
     "text": [
      "23/02/24 04:44:51 WARN TaskSetManager: Stage 15877 contains a task of very large size (3001 KiB). The maximum recommended task size is 1000 KiB.\n",
      "[Stage 15906:>                                                      (0 + 5) / 5]\r"
     ]
    }
   ],
   "source": [
    "ALS.checkpointInterval = 2\n",
    "seed=5\n",
    "ranks = [5, 10, 20, 40, 80]\n",
    "lambdas_ = [0.01, .10, 1., 10.]\n",
    "lambdas_.sort()\n",
    "iter_array = [2, 5, 10, 15, 20]\n",
    "\n",
    "\n",
    "\n",
    "best_rank = -1\n",
    "best_iteration = -1\n",
    "\n",
    "best_params = {}\n",
    "best_params['n_factors'] = ranks[0]\n",
    "best_params['lam'] = lambdas_[0]\n",
    "best_params['n_iter'] = 0\n",
    "best_params['test_mse'] = float('inf')\n",
    "best_params['min_error'] = float('inf')\n",
    "best_params['model'] = None\n",
    "\n",
    "for rank in ranks:\n",
    "    print('Rank: {:d}'.format(rank))\n",
    "    \n",
    "    for lam in lambdas_:\n",
    "        errors = np.zeros(20)\n",
    "        err = 0\n",
    "        print('Regularization: {:f}'.format(lam))\n",
    "        for _iter in iter_array:\n",
    "            print('Iterations: {:d}'.format(_iter))\n",
    "            model = ALS.train(rdd_training, iterations=_iter, rank=rank,lambda_=lam, seed=seed)\n",
    "            predictions = model.predictAll(predict_validation).map(lambda r: ((r[0], r[1]), r[2]))\n",
    "            rates_and_predicts = rdd_validation.map(lambda r: ((int(r[0]), int(r[1])), float(r[2]))).\\\n",
    "            join(predictions)\n",
    "  \n",
    "            error = math.sqrt(rates_and_predicts.map(lambda rec: (rec[1][0] - rec[1][1])**2).mean())\n",
    "            errors[err] = error\n",
    "            err += 1\n",
    "            if  error < best_params['test_mse']:\n",
    "                best_params['n_factors'] = rank\n",
    "                best_params['lam'] = lam\n",
    "                best_params['n_iter'] = _iter\n",
    "                best_params['test_mse'] = error\n",
    "                best_params['model'] = model\n",
    "                model = None\n",
    "                predictions = sc.emptyRDD()\n",
    "                rates_and_predicts = sc.emptyRDD()\n",
    "print('New optimal hyperparameters')\n",
    "print(pd.Series(best_params))\n",
    "\n"
   ]
  },
  {
   "cell_type": "code",
   "execution_count": null,
   "metadata": {
    "deletable": true,
    "editable": true,
    "tags": []
   },
   "outputs": [],
   "source": [
    "#This model wants to stay at .12 rmse. We can see this below, with much lower params. It converges quickly"
   ]
  },
  {
   "cell_type": "code",
   "execution_count": 14,
   "metadata": {
    "collapsed": false,
    "deletable": true,
    "editable": true,
    "jupyter": {
     "outputs_hidden": false
    }
   },
   "outputs": [
    {
     "name": "stdout",
     "output_type": "stream",
     "text": [
      "The error for the test data is 0.12\n"
     ]
    }
   ],
   "source": [
    "# Now for the tst dataset\n",
    "model = ALS.train(rdd_training, rank=5, iterations=5, seed=5)\n",
    "predictions = model.predictAll(predict_test).map(lambda r: ((r[0], r[1]), r[2]))\n",
    "rates_and_preds = rdd_test.map(lambda r: ((int(r[0]), int(r[1])), float(r[2]))).join(predictions)\n",
    "error = math.sqrt(rates_and_preds.map(lambda r: (r[1][0] - r[1][1])**2).mean())\n",
    "\n",
    "print('The error for the test data is {:.2f}'.format(error))"
   ]
  },
  {
   "cell_type": "code",
   "execution_count": 17,
   "metadata": {
    "collapsed": false,
    "deletable": true,
    "editable": true,
    "jupyter": {
     "outputs_hidden": false
    }
   },
   "outputs": [],
   "source": [
    "rdd_training, rdd_test = modelRDD.randomSplit([7, 3], seed=5)\n",
    "\n",
    "complete_model = ALS.train(rdd_training, rank=5, iterations=5,seed=5)"
   ]
  },
  {
   "cell_type": "code",
   "execution_count": 18,
   "metadata": {
    "collapsed": false,
    "deletable": true,
    "editable": true,
    "jupyter": {
     "outputs_hidden": false
    }
   },
   "outputs": [
    {
     "name": "stdout",
     "output_type": "stream",
     "text": [
      "For testing data the RMSE is 0.12\n"
     ]
    }
   ],
   "source": [
    "predict_test = rdd_test.map(lambda x: (x[0], x[1]))\n",
    "\n",
    "predictions = complete_model.predictAll(predict_test).map(lambda r: ((r[0], r[1]), r[2]))\n",
    "rates_and_preds = rdd_test.map(lambda r: ((int(r[0]), int(r[1])), float(r[2]))).join(predictions)\n",
    "error = math.sqrt(rates_and_preds.map(lambda r: (r[1][0] - r[1][1])**2).mean())\n",
    "\n",
    "print('For testing data the RMSE is {:.2f}'.format(error))"
   ]
  },
  {
   "cell_type": "code",
   "execution_count": 20,
   "metadata": {
    "collapsed": false,
    "deletable": true,
    "editable": true,
    "jupyter": {
     "outputs_hidden": false
    }
   },
   "outputs": [
    {
     "name": "stdout",
     "output_type": "stream",
     "text": [
      "New model trained in 81.20 seconds\n"
     ]
    }
   ],
   "source": [
    "# Now we can train the model on the complete dataset\n",
    "from time import time\n",
    "\n",
    "t0 = time()\n",
    "new_ratings_model = ALS.train(modelRDD, rank=5, iterations=5, seed=5)\n",
    "tt = time() - t0\n",
    "\n",
    "print(\"New model trained in {:.2f} seconds\".format(round(tt,3)))"
   ]
  },
  {
   "cell_type": "code",
   "execution_count": 21,
   "metadata": {
    "collapsed": true,
    "deletable": true,
    "editable": true,
    "jupyter": {
     "outputs_hidden": true
    }
   },
   "outputs": [],
   "source": [
    "artist_name_lookup_table = _RDD.map(lambda x: (x[2],x[3])).sortByKey().cache()\n",
    "artist_id_lookup_table = _RDD.map(lambda x: (x[3],x[2])).sortByKey().cache()"
   ]
  },
  {
   "cell_type": "code",
   "execution_count": 46,
   "metadata": {
    "collapsed": false,
    "deletable": true,
    "editable": true,
    "jupyter": {
     "outputs_hidden": false
    }
   },
   "outputs": [
    {
     "data": {
      "text/plain": [
       "{'3018'}"
      ]
     },
     "execution_count": 46,
     "metadata": {},
     "output_type": "execute_result"
    }
   ],
   "source": [
    "set(artist_id_lookup_table.lookup('satisf*cktion'))"
   ]
  },
  {
   "cell_type": "code",
   "execution_count": null,
   "metadata": {
    "collapsed": true,
    "deletable": true,
    "editable": true,
    "jupyter": {
     "outputs_hidden": true
    }
   },
   "outputs": [],
   "source": [
    "set(artist_name_lookup_table.lookup('23199'))\n",
    "{'alain dzukam'}\n",
    "{'gian - home studio'}"
   ]
  },
  {
   "cell_type": "code",
   "execution_count": 47,
   "metadata": {
    "collapsed": false,
    "deletable": true,
    "editable": true,
    "jupyter": {
     "outputs_hidden": false
    }
   },
   "outputs": [],
   "source": [
    "# Let's test the new model with a few recommendations:\n",
    "# For the final recommender we should probably scale the recommendations numbers between perhaps 1 and 10. For now I'll\n",
    "# Regard 1 as does not like, 200 as likes and 500 as loves.\n",
    "\n",
    "johnsRecommendations = [('56','3018',.0001),\n",
    "                       ('56','153162',.0001), #Not an actual artist\n",
    "                       ('56','288963',.0001),# Alain Dzukam. Another movie\n",
    "                        ('56','14368',.0001), #David guetta. This is a movie\n",
    "                        ('56','204066',.1), #Rihanna\n",
    "                        ('56','174344',.0001),# Kaiser Chiefs\n",
    "                        ('56','95545',.0001), #Iron maiden\n",
    "                        ('56','58275',.0001),# Dire straits \n",
    "                        ('56','43548',.18),#Regina Spektor\n",
    "                        ('56','68390',.19), #Artst is 'edith piaf'\n",
    "                        ('56','281461',.20), #Artist is 'maria callas' \n",
    "                        ('56','201482',.17),# Atist is 'bryn terfel'\n",
    "                        ('56','243041',.17), # Anna netrebko\n",
    "                        ('56','244054',.17), # The residents\n",
    "                        ('56','256484',.18), #The Legendary Pink Dots\n",
    "                        ('56','206805',.17), #bjork\n",
    "                        ('56','127801',.0001), #Madonna\n",
    "                        ('56','96194',.16), #The killers\n",
    "                        ('56','216449',.0001), #Taylor Swift\n",
    "                        ('56','113418',.0001), #Miley Cyrus\n",
    "                        ('56','253951',.0001), # recommended: Madonna feat. Justin Timberlake. Lets see if model responds\n",
    "                        ('56','279301',.0001) # recommended: t-pain\n",
    "                       \n",
    "                       ]\n",
    "                       \n"
   ]
  },
  {
   "cell_type": "code",
   "execution_count": 48,
   "metadata": {
    "collapsed": false,
    "deletable": true,
    "editable": true,
    "jupyter": {
     "outputs_hidden": false
    }
   },
   "outputs": [
    {
     "data": {
      "text/plain": [
       "[('56', '3018', 0.0001), ('56', '153162', 0.0001), ('56', '288963', 0.0001)]"
      ]
     },
     "execution_count": 48,
     "metadata": {},
     "output_type": "execute_result"
    }
   ],
   "source": [
    "new_user_ratings_RDD = sc.parallelize(johnsRecommendations)\n",
    "new_user_ratings_RDD.take(3)"
   ]
  },
  {
   "cell_type": "code",
   "execution_count": 49,
   "metadata": {
    "collapsed": true,
    "deletable": true,
    "editable": true,
    "jupyter": {
     "outputs_hidden": true
    }
   },
   "outputs": [],
   "source": [
    "newRDD = modelRDD.union(new_user_ratings_RDD)"
   ]
  },
  {
   "cell_type": "code",
   "execution_count": 50,
   "metadata": {
    "collapsed": false,
    "deletable": true,
    "editable": true,
    "jupyter": {
     "outputs_hidden": false
    }
   },
   "outputs": [
    {
     "data": {
      "text/plain": [
       "[('232513467', '203477', 0.6123032904148784),\n",
       " ('660133657', '139067', 0.030042918454935622),\n",
       " ('565863613', '93392', 0.07868383404864092),\n",
       " ('428504185', '126798', 0.005722460658082976),\n",
       " ('666373732', '149036', 0.030042918454935622)]"
      ]
     },
     "execution_count": 50,
     "metadata": {},
     "output_type": "execute_result"
    }
   ],
   "source": [
    "newRDD.take(5)"
   ]
  },
  {
   "cell_type": "code",
   "execution_count": 51,
   "metadata": {
    "collapsed": false,
    "deletable": true,
    "editable": true,
    "jupyter": {
     "outputs_hidden": false
    }
   },
   "outputs": [],
   "source": [
    "modelFM = ALS.train(newRDD, rank=5, iterations=5, seed=5)"
   ]
  },
  {
   "cell_type": "code",
   "execution_count": null,
   "metadata": {},
   "outputs": [],
   "source": [
    "model_path = os.path.join('/home/jovyan', 'model', 'lastFMExplicit')\n",
    "\n",
    "# Save and load model\n",
    "modelFM.save(sc, model_path)\n",
    "#same_model = MatrixFactorizationModel.load(sc, model_path"
   ]
  },
  {
   "cell_type": "code",
   "execution_count": 52,
   "metadata": {
    "collapsed": true,
    "deletable": true,
    "editable": true,
    "jupyter": {
     "outputs_hidden": true
    }
   },
   "outputs": [],
   "source": [
    "#Get the artists to iterate through\n",
    "artists = newRDD.map(lambda x: (x[1]))"
   ]
  },
  {
   "cell_type": "code",
   "execution_count": 53,
   "metadata": {
    "collapsed": false,
    "deletable": true,
    "editable": true,
    "jupyter": {
     "outputs_hidden": false
    }
   },
   "outputs": [
    {
     "data": {
      "text/plain": [
       "['203477', '139067', '93392', '126798', '149036']"
      ]
     },
     "execution_count": 53,
     "metadata": {},
     "output_type": "execute_result"
    }
   ],
   "source": [
    "artists.take(5)"
   ]
  },
  {
   "cell_type": "code",
   "execution_count": 54,
   "metadata": {
    "collapsed": true,
    "deletable": true,
    "editable": true,
    "jupyter": {
     "outputs_hidden": true
    }
   },
   "outputs": [],
   "source": [
    "_rated_artists = set(new_user_ratings_RDD.map(lambda x: (x[1])).collect())\n",
    "unrated_artists = newRDD.filter(lambda x: x[1] not in _rated_artists ).map(lambda x: ('56', x[1]))"
   ]
  },
  {
   "cell_type": "code",
   "execution_count": 55,
   "metadata": {
    "collapsed": true,
    "deletable": true,
    "editable": true,
    "jupyter": {
     "outputs_hidden": true
    }
   },
   "outputs": [],
   "source": [
    "new_user_recommendations_RDD = modelFM.predictAll(unrated_artists)"
   ]
  },
  {
   "cell_type": "code",
   "execution_count": 56,
   "metadata": {
    "collapsed": false,
    "deletable": true,
    "editable": true,
    "jupyter": {
     "outputs_hidden": false
    }
   },
   "outputs": [
    {
     "data": {
      "text/plain": [
       "0.5211543805135976"
      ]
     },
     "execution_count": 56,
     "metadata": {},
     "output_type": "execute_result"
    }
   ],
   "source": [
    "new_user_recommendations_RDD.map(lambda x: (x[2])).max()"
   ]
  },
  {
   "cell_type": "code",
   "execution_count": 57,
   "metadata": {
    "collapsed": true,
    "deletable": true,
    "editable": true,
    "jupyter": {
     "outputs_hidden": true
    }
   },
   "outputs": [],
   "source": [
    "top_items = new_user_recommendations_RDD.distinct().takeOrdered(20, key=lambda x: -x[2])\n"
   ]
  },
  {
   "cell_type": "code",
   "execution_count": 58,
   "metadata": {
    "collapsed": false,
    "deletable": true,
    "editable": true,
    "jupyter": {
     "outputs_hidden": false
    }
   },
   "outputs": [
    {
     "name": "stdout",
     "output_type": "stream",
     "text": [
      "Your top ten recommended artists:\n",
      "{'bippp (v.a.)'}\n",
      "{'heinz holliger - zehetmair - larcher - holliger - etc.'}\n",
      "{'dj philip'}\n",
      "{'active coma'}\n",
      "{'alberto cortéz y facundo cabral'}\n",
      "{'jens rachut'}\n",
      "{'marco antonios solis'}\n",
      "{'bellhouse'}\n",
      "{'mike shiflet'}\n",
      "{'digital mystikz & loefah'}\n",
      "{'andy vores'}\n",
      "{'andrew davis'}\n",
      "{'electric eel-shock'}\n",
      "{'alexander schatten'}\n",
      "{'lech jankowski'}\n",
      "{'manu chao !'}\n",
      "{'c.a.r.n.e.'}\n",
      "{'컬투'}\n",
      "{'die dødelsäcke'}\n",
      "{'amor-te'}\n"
     ]
    }
   ],
   "source": [
    "print('Your top ten recommended artists:')\n",
    "for x in top_items:\n",
    "    artist = str(x[1])\n",
    "    print(set(artist_name_lookup_table.lookup(artist)))"
   ]
  },
  {
   "cell_type": "code",
   "execution_count": 45,
   "metadata": {
    "collapsed": false,
    "deletable": true,
    "editable": true,
    "jupyter": {
     "outputs_hidden": false
    }
   },
   "outputs": [],
   "source": [
    "model_path = os.path.join('/home/spark', 'model', 'lastFMExplicit')\n",
    "\n",
    "# Save and load model\n",
    "modelFM.save(sc, model_path)\n",
    "#same_model = MatrixFactorizationModel.load(sc, model_path"
   ]
  },
  {
   "cell_type": "code",
   "execution_count": null,
   "metadata": {
    "collapsed": true,
    "deletable": true,
    "editable": true,
    "jupyter": {
     "outputs_hidden": true
    }
   },
   "outputs": [],
   "source": []
  }
 ],
 "metadata": {
  "kernelspec": {
   "display_name": "Python 3 (ipykernel)",
   "language": "python",
   "name": "python3"
  },
  "language_info": {
   "codemirror_mode": {
    "name": "ipython",
    "version": 3
   },
   "file_extension": ".py",
   "mimetype": "text/x-python",
   "name": "python",
   "nbconvert_exporter": "python",
   "pygments_lexer": "ipython3",
   "version": "3.9.2"
  }
 },
 "nbformat": 4,
 "nbformat_minor": 4
}
